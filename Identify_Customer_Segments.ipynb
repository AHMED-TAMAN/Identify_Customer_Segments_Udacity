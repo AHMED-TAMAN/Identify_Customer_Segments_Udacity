{
 "cells": [
  {
   "cell_type": "markdown",
   "metadata": {},
   "source": [
    "# Project: Identify Customer Segments\n",
    "\n",
    "In this project, you will apply unsupervised learning techniques to identify segments of the population that form the core customer base for a mail-order sales company in Germany. These segments can then be used to direct marketing campaigns towards audiences that will have the highest expected rate of returns. The data that you will use has been provided by our partners at Bertelsmann Arvato Analytics, and represents a real-life data science task.\n",
    "\n",
    "This notebook will help you complete this task by providing a framework within which you will perform your analysis steps. In each step of the project, you will see some text describing the subtask that you will perform, followed by one or more code cells for you to complete your work. **Feel free to add additional code and markdown cells as you go along so that you can explore everything in precise chunks.** The code cells provided in the base template will outline only the major tasks, and will usually not be enough to cover all of the minor tasks that comprise it.\n",
    "\n",
    "It should be noted that while there will be precise guidelines on how you should handle certain tasks in the project, there will also be places where an exact specification is not provided. **There will be times in the project where you will need to make and justify your own decisions on how to treat the data.** These are places where there may not be only one way to handle the data. In real-life tasks, there may be many valid ways to approach an analysis task. One of the most important things you can do is clearly document your approach so that other scientists can understand the decisions you've made.\n",
    "\n",
    "At the end of most sections, there will be a Markdown cell labeled **Discussion**. In these cells, you will report your findings for the completed section, as well as document the decisions that you made in your approach to each subtask. **Your project will be evaluated not just on the code used to complete the tasks outlined, but also your communication about your observations and conclusions at each stage.**"
   ]
  },
  {
   "cell_type": "code",
   "execution_count": 87,
   "metadata": {},
   "outputs": [
    {
     "data": {
      "text/plain": [
       "'\\nImport note: The classroom currently uses sklearn version 0.19.\\nIf you need to use an imputer, it is available in sklearn.preprocessing.Imputer,\\ninstead of sklearn.impute as in newer versions of sklearn.\\n'"
      ]
     },
     "execution_count": 87,
     "metadata": {},
     "output_type": "execute_result"
    }
   ],
   "source": [
    "# import libraries here; add more as necessary\n",
    "import numpy as np\n",
    "import pandas as pd\n",
    "import matplotlib.pyplot as plt\n",
    "import seaborn as sns\n",
    "\n",
    "import math\n",
    "from sklearn.preprocessing import StandardScaler\n",
    "from sklearn.impute import SimpleImputer\n",
    "from sklearn.cluster import KMeans \n",
    "from sklearn.decomposition import PCA\n",
    "from scipy.stats import itemfreq, chisquare\n",
    "\n",
    "# magic word for producing visualizations in notebook\n",
    "%matplotlib inline\n",
    "\n",
    "'''\n",
    "Import note: The classroom currently uses sklearn version 0.19.\n",
    "If you need to use an imputer, it is available in sklearn.preprocessing.Imputer,\n",
    "instead of sklearn.impute as in newer versions of sklearn.\n",
    "'''"
   ]
  },
  {
   "cell_type": "markdown",
   "metadata": {},
   "source": [
    "### Step 0: Load the Data\n",
    "\n",
    "There are four files associated with this project (not including this one):\n",
    "\n",
    "- `Udacity_AZDIAS_Subset.csv`: Demographics data for the general population of Germany; 891211 persons (rows) x 85 features (columns).\n",
    "- `Udacity_CUSTOMERS_Subset.csv`: Demographics data for customers of a mail-order company; 191652 persons (rows) x 85 features (columns).\n",
    "- `Data_Dictionary.md`: Detailed information file about the features in the provided datasets.\n",
    "- `AZDIAS_Feature_Summary.csv`: Summary of feature attributes for demographics data; 85 features (rows) x 4 columns\n",
    "\n",
    "Each row of the demographics files represents a single person, but also includes information outside of individuals, including information about their household, building, and neighborhood. You will use this information to cluster the general population into groups with similar demographic properties. Then, you will see how the people in the customers dataset fit into those created clusters. The hope here is that certain clusters are over-represented in the customers data, as compared to the general population; those over-represented clusters will be assumed to be part of the core userbase. This information can then be used for further applications, such as targeting for a marketing campaign.\n",
    "\n",
    "To start off with, load in the demographics data for the general population into a pandas DataFrame, and do the same for the feature attributes summary. Note for all of the `.csv` data files in this project: they're semicolon (`;`) delimited, so you'll need an additional argument in your [`read_csv()`](https://pandas.pydata.org/pandas-docs/stable/generated/pandas.read_csv.html) call to read in the data properly. Also, considering the size of the main dataset, it may take some time for it to load completely.\n",
    "\n",
    "Once the dataset is loaded, it's recommended that you take a little bit of time just browsing the general structure of the dataset and feature summary file. You'll be getting deep into the innards of the cleaning in the first major step of the project, so gaining some general familiarity can help you get your bearings."
   ]
  },
  {
   "cell_type": "code",
   "execution_count": 88,
   "metadata": {},
   "outputs": [],
   "source": [
    "# Load in tpd.read_csv('./data/cars.csv')he general demographics data.\n",
    "azdias = pd.read_csv('./Udacity_AZDIAS_Subset.csv', sep=';')\n",
    "\n",
    "# Load in the feature summary file.\n",
    "feat_info = pd.read_csv('./AZDIAS_Feature_Summary.csv', sep=';')"
   ]
  },
  {
   "cell_type": "markdown",
   "metadata": {},
   "source": [
    "### Data examination for the files:"
   ]
  },
  {
   "cell_type": "code",
   "execution_count": 89,
   "metadata": {},
   "outputs": [
    {
     "data": {
      "text/html": [
       "<div>\n",
       "<style scoped>\n",
       "    .dataframe tbody tr th:only-of-type {\n",
       "        vertical-align: middle;\n",
       "    }\n",
       "\n",
       "    .dataframe tbody tr th {\n",
       "        vertical-align: top;\n",
       "    }\n",
       "\n",
       "    .dataframe thead th {\n",
       "        text-align: right;\n",
       "    }\n",
       "</style>\n",
       "<table border=\"1\" class=\"dataframe\">\n",
       "  <thead>\n",
       "    <tr style=\"text-align: right;\">\n",
       "      <th></th>\n",
       "      <th>AGER_TYP</th>\n",
       "      <th>ALTERSKATEGORIE_GROB</th>\n",
       "      <th>ANREDE_KZ</th>\n",
       "      <th>CJT_GESAMTTYP</th>\n",
       "      <th>FINANZ_MINIMALIST</th>\n",
       "      <th>FINANZ_SPARER</th>\n",
       "      <th>FINANZ_VORSORGER</th>\n",
       "      <th>FINANZ_ANLEGER</th>\n",
       "      <th>FINANZ_UNAUFFAELLIGER</th>\n",
       "      <th>FINANZ_HAUSBAUER</th>\n",
       "      <th>...</th>\n",
       "      <th>PLZ8_ANTG1</th>\n",
       "      <th>PLZ8_ANTG2</th>\n",
       "      <th>PLZ8_ANTG3</th>\n",
       "      <th>PLZ8_ANTG4</th>\n",
       "      <th>PLZ8_BAUMAX</th>\n",
       "      <th>PLZ8_HHZ</th>\n",
       "      <th>PLZ8_GBZ</th>\n",
       "      <th>ARBEIT</th>\n",
       "      <th>ORTSGR_KLS9</th>\n",
       "      <th>RELAT_AB</th>\n",
       "    </tr>\n",
       "  </thead>\n",
       "  <tbody>\n",
       "    <tr>\n",
       "      <th>count</th>\n",
       "      <td>891221.000000</td>\n",
       "      <td>891221.000000</td>\n",
       "      <td>891221.000000</td>\n",
       "      <td>886367.000000</td>\n",
       "      <td>891221.000000</td>\n",
       "      <td>891221.000000</td>\n",
       "      <td>891221.000000</td>\n",
       "      <td>891221.000000</td>\n",
       "      <td>891221.000000</td>\n",
       "      <td>891221.000000</td>\n",
       "      <td>...</td>\n",
       "      <td>774706.000000</td>\n",
       "      <td>774706.000000</td>\n",
       "      <td>774706.000000</td>\n",
       "      <td>774706.000000</td>\n",
       "      <td>774706.000000</td>\n",
       "      <td>774706.000000</td>\n",
       "      <td>774706.000000</td>\n",
       "      <td>794005.000000</td>\n",
       "      <td>794005.000000</td>\n",
       "      <td>794005.00000</td>\n",
       "    </tr>\n",
       "    <tr>\n",
       "      <th>mean</th>\n",
       "      <td>-0.358435</td>\n",
       "      <td>2.777398</td>\n",
       "      <td>1.522098</td>\n",
       "      <td>3.632838</td>\n",
       "      <td>3.074528</td>\n",
       "      <td>2.821039</td>\n",
       "      <td>3.401106</td>\n",
       "      <td>3.033328</td>\n",
       "      <td>2.874167</td>\n",
       "      <td>3.075121</td>\n",
       "      <td>...</td>\n",
       "      <td>2.253330</td>\n",
       "      <td>2.801858</td>\n",
       "      <td>1.595426</td>\n",
       "      <td>0.699166</td>\n",
       "      <td>1.943913</td>\n",
       "      <td>3.612821</td>\n",
       "      <td>3.381087</td>\n",
       "      <td>3.167854</td>\n",
       "      <td>5.293002</td>\n",
       "      <td>3.07222</td>\n",
       "    </tr>\n",
       "    <tr>\n",
       "      <th>std</th>\n",
       "      <td>1.198724</td>\n",
       "      <td>1.068775</td>\n",
       "      <td>0.499512</td>\n",
       "      <td>1.595021</td>\n",
       "      <td>1.321055</td>\n",
       "      <td>1.464749</td>\n",
       "      <td>1.322134</td>\n",
       "      <td>1.529603</td>\n",
       "      <td>1.486731</td>\n",
       "      <td>1.353248</td>\n",
       "      <td>...</td>\n",
       "      <td>0.972008</td>\n",
       "      <td>0.920309</td>\n",
       "      <td>0.986736</td>\n",
       "      <td>0.727137</td>\n",
       "      <td>1.459654</td>\n",
       "      <td>0.973967</td>\n",
       "      <td>1.111598</td>\n",
       "      <td>1.002376</td>\n",
       "      <td>2.303739</td>\n",
       "      <td>1.36298</td>\n",
       "    </tr>\n",
       "    <tr>\n",
       "      <th>min</th>\n",
       "      <td>-1.000000</td>\n",
       "      <td>1.000000</td>\n",
       "      <td>1.000000</td>\n",
       "      <td>1.000000</td>\n",
       "      <td>1.000000</td>\n",
       "      <td>1.000000</td>\n",
       "      <td>1.000000</td>\n",
       "      <td>1.000000</td>\n",
       "      <td>1.000000</td>\n",
       "      <td>1.000000</td>\n",
       "      <td>...</td>\n",
       "      <td>0.000000</td>\n",
       "      <td>0.000000</td>\n",
       "      <td>0.000000</td>\n",
       "      <td>0.000000</td>\n",
       "      <td>1.000000</td>\n",
       "      <td>1.000000</td>\n",
       "      <td>1.000000</td>\n",
       "      <td>1.000000</td>\n",
       "      <td>0.000000</td>\n",
       "      <td>1.00000</td>\n",
       "    </tr>\n",
       "    <tr>\n",
       "      <th>25%</th>\n",
       "      <td>-1.000000</td>\n",
       "      <td>2.000000</td>\n",
       "      <td>1.000000</td>\n",
       "      <td>2.000000</td>\n",
       "      <td>2.000000</td>\n",
       "      <td>1.000000</td>\n",
       "      <td>3.000000</td>\n",
       "      <td>2.000000</td>\n",
       "      <td>2.000000</td>\n",
       "      <td>2.000000</td>\n",
       "      <td>...</td>\n",
       "      <td>1.000000</td>\n",
       "      <td>2.000000</td>\n",
       "      <td>1.000000</td>\n",
       "      <td>0.000000</td>\n",
       "      <td>1.000000</td>\n",
       "      <td>3.000000</td>\n",
       "      <td>3.000000</td>\n",
       "      <td>3.000000</td>\n",
       "      <td>4.000000</td>\n",
       "      <td>2.00000</td>\n",
       "    </tr>\n",
       "    <tr>\n",
       "      <th>50%</th>\n",
       "      <td>-1.000000</td>\n",
       "      <td>3.000000</td>\n",
       "      <td>2.000000</td>\n",
       "      <td>4.000000</td>\n",
       "      <td>3.000000</td>\n",
       "      <td>3.000000</td>\n",
       "      <td>3.000000</td>\n",
       "      <td>3.000000</td>\n",
       "      <td>3.000000</td>\n",
       "      <td>3.000000</td>\n",
       "      <td>...</td>\n",
       "      <td>2.000000</td>\n",
       "      <td>3.000000</td>\n",
       "      <td>2.000000</td>\n",
       "      <td>1.000000</td>\n",
       "      <td>1.000000</td>\n",
       "      <td>4.000000</td>\n",
       "      <td>3.000000</td>\n",
       "      <td>3.000000</td>\n",
       "      <td>5.000000</td>\n",
       "      <td>3.00000</td>\n",
       "    </tr>\n",
       "    <tr>\n",
       "      <th>75%</th>\n",
       "      <td>-1.000000</td>\n",
       "      <td>4.000000</td>\n",
       "      <td>2.000000</td>\n",
       "      <td>5.000000</td>\n",
       "      <td>4.000000</td>\n",
       "      <td>4.000000</td>\n",
       "      <td>5.000000</td>\n",
       "      <td>5.000000</td>\n",
       "      <td>4.000000</td>\n",
       "      <td>4.000000</td>\n",
       "      <td>...</td>\n",
       "      <td>3.000000</td>\n",
       "      <td>3.000000</td>\n",
       "      <td>2.000000</td>\n",
       "      <td>1.000000</td>\n",
       "      <td>3.000000</td>\n",
       "      <td>4.000000</td>\n",
       "      <td>4.000000</td>\n",
       "      <td>4.000000</td>\n",
       "      <td>7.000000</td>\n",
       "      <td>4.00000</td>\n",
       "    </tr>\n",
       "    <tr>\n",
       "      <th>max</th>\n",
       "      <td>3.000000</td>\n",
       "      <td>9.000000</td>\n",
       "      <td>2.000000</td>\n",
       "      <td>6.000000</td>\n",
       "      <td>5.000000</td>\n",
       "      <td>5.000000</td>\n",
       "      <td>5.000000</td>\n",
       "      <td>5.000000</td>\n",
       "      <td>5.000000</td>\n",
       "      <td>5.000000</td>\n",
       "      <td>...</td>\n",
       "      <td>4.000000</td>\n",
       "      <td>4.000000</td>\n",
       "      <td>3.000000</td>\n",
       "      <td>2.000000</td>\n",
       "      <td>5.000000</td>\n",
       "      <td>5.000000</td>\n",
       "      <td>5.000000</td>\n",
       "      <td>9.000000</td>\n",
       "      <td>9.000000</td>\n",
       "      <td>9.00000</td>\n",
       "    </tr>\n",
       "  </tbody>\n",
       "</table>\n",
       "<p>8 rows × 81 columns</p>\n",
       "</div>"
      ],
      "text/plain": [
       "            AGER_TYP  ALTERSKATEGORIE_GROB      ANREDE_KZ  CJT_GESAMTTYP  \\\n",
       "count  891221.000000         891221.000000  891221.000000  886367.000000   \n",
       "mean       -0.358435              2.777398       1.522098       3.632838   \n",
       "std         1.198724              1.068775       0.499512       1.595021   \n",
       "min        -1.000000              1.000000       1.000000       1.000000   \n",
       "25%        -1.000000              2.000000       1.000000       2.000000   \n",
       "50%        -1.000000              3.000000       2.000000       4.000000   \n",
       "75%        -1.000000              4.000000       2.000000       5.000000   \n",
       "max         3.000000              9.000000       2.000000       6.000000   \n",
       "\n",
       "       FINANZ_MINIMALIST  FINANZ_SPARER  FINANZ_VORSORGER  FINANZ_ANLEGER  \\\n",
       "count      891221.000000  891221.000000     891221.000000   891221.000000   \n",
       "mean            3.074528       2.821039          3.401106        3.033328   \n",
       "std             1.321055       1.464749          1.322134        1.529603   \n",
       "min             1.000000       1.000000          1.000000        1.000000   \n",
       "25%             2.000000       1.000000          3.000000        2.000000   \n",
       "50%             3.000000       3.000000          3.000000        3.000000   \n",
       "75%             4.000000       4.000000          5.000000        5.000000   \n",
       "max             5.000000       5.000000          5.000000        5.000000   \n",
       "\n",
       "       FINANZ_UNAUFFAELLIGER  FINANZ_HAUSBAUER  ...     PLZ8_ANTG1  \\\n",
       "count          891221.000000     891221.000000  ...  774706.000000   \n",
       "mean                2.874167          3.075121  ...       2.253330   \n",
       "std                 1.486731          1.353248  ...       0.972008   \n",
       "min                 1.000000          1.000000  ...       0.000000   \n",
       "25%                 2.000000          2.000000  ...       1.000000   \n",
       "50%                 3.000000          3.000000  ...       2.000000   \n",
       "75%                 4.000000          4.000000  ...       3.000000   \n",
       "max                 5.000000          5.000000  ...       4.000000   \n",
       "\n",
       "          PLZ8_ANTG2     PLZ8_ANTG3     PLZ8_ANTG4    PLZ8_BAUMAX  \\\n",
       "count  774706.000000  774706.000000  774706.000000  774706.000000   \n",
       "mean        2.801858       1.595426       0.699166       1.943913   \n",
       "std         0.920309       0.986736       0.727137       1.459654   \n",
       "min         0.000000       0.000000       0.000000       1.000000   \n",
       "25%         2.000000       1.000000       0.000000       1.000000   \n",
       "50%         3.000000       2.000000       1.000000       1.000000   \n",
       "75%         3.000000       2.000000       1.000000       3.000000   \n",
       "max         4.000000       3.000000       2.000000       5.000000   \n",
       "\n",
       "            PLZ8_HHZ       PLZ8_GBZ         ARBEIT    ORTSGR_KLS9  \\\n",
       "count  774706.000000  774706.000000  794005.000000  794005.000000   \n",
       "mean        3.612821       3.381087       3.167854       5.293002   \n",
       "std         0.973967       1.111598       1.002376       2.303739   \n",
       "min         1.000000       1.000000       1.000000       0.000000   \n",
       "25%         3.000000       3.000000       3.000000       4.000000   \n",
       "50%         4.000000       3.000000       3.000000       5.000000   \n",
       "75%         4.000000       4.000000       4.000000       7.000000   \n",
       "max         5.000000       5.000000       9.000000       9.000000   \n",
       "\n",
       "           RELAT_AB  \n",
       "count  794005.00000  \n",
       "mean        3.07222  \n",
       "std         1.36298  \n",
       "min         1.00000  \n",
       "25%         2.00000  \n",
       "50%         3.00000  \n",
       "75%         4.00000  \n",
       "max         9.00000  \n",
       "\n",
       "[8 rows x 81 columns]"
      ]
     },
     "execution_count": 89,
     "metadata": {},
     "output_type": "execute_result"
    }
   ],
   "source": [
    "azdias.describe()"
   ]
  },
  {
   "cell_type": "code",
   "execution_count": 90,
   "metadata": {},
   "outputs": [
    {
     "name": "stdout",
     "output_type": "stream",
     "text": [
      "<class 'pandas.core.frame.DataFrame'>\n",
      "RangeIndex: 891221 entries, 0 to 891220\n",
      "Data columns (total 85 columns):\n",
      " #   Column                 Non-Null Count   Dtype  \n",
      "---  ------                 --------------   -----  \n",
      " 0   AGER_TYP               891221 non-null  int64  \n",
      " 1   ALTERSKATEGORIE_GROB   891221 non-null  int64  \n",
      " 2   ANREDE_KZ              891221 non-null  int64  \n",
      " 3   CJT_GESAMTTYP          886367 non-null  float64\n",
      " 4   FINANZ_MINIMALIST      891221 non-null  int64  \n",
      " 5   FINANZ_SPARER          891221 non-null  int64  \n",
      " 6   FINANZ_VORSORGER       891221 non-null  int64  \n",
      " 7   FINANZ_ANLEGER         891221 non-null  int64  \n",
      " 8   FINANZ_UNAUFFAELLIGER  891221 non-null  int64  \n",
      " 9   FINANZ_HAUSBAUER       891221 non-null  int64  \n",
      " 10  FINANZTYP              891221 non-null  int64  \n",
      " 11  GEBURTSJAHR            891221 non-null  int64  \n",
      " 12  GFK_URLAUBERTYP        886367 non-null  float64\n",
      " 13  GREEN_AVANTGARDE       891221 non-null  int64  \n",
      " 14  HEALTH_TYP             891221 non-null  int64  \n",
      " 15  LP_LEBENSPHASE_FEIN    886367 non-null  float64\n",
      " 16  LP_LEBENSPHASE_GROB    886367 non-null  float64\n",
      " 17  LP_FAMILIE_FEIN        886367 non-null  float64\n",
      " 18  LP_FAMILIE_GROB        886367 non-null  float64\n",
      " 19  LP_STATUS_FEIN         886367 non-null  float64\n",
      " 20  LP_STATUS_GROB         886367 non-null  float64\n",
      " 21  NATIONALITAET_KZ       891221 non-null  int64  \n",
      " 22  PRAEGENDE_JUGENDJAHRE  891221 non-null  int64  \n",
      " 23  RETOURTYP_BK_S         886367 non-null  float64\n",
      " 24  SEMIO_SOZ              891221 non-null  int64  \n",
      " 25  SEMIO_FAM              891221 non-null  int64  \n",
      " 26  SEMIO_REL              891221 non-null  int64  \n",
      " 27  SEMIO_MAT              891221 non-null  int64  \n",
      " 28  SEMIO_VERT             891221 non-null  int64  \n",
      " 29  SEMIO_LUST             891221 non-null  int64  \n",
      " 30  SEMIO_ERL              891221 non-null  int64  \n",
      " 31  SEMIO_KULT             891221 non-null  int64  \n",
      " 32  SEMIO_RAT              891221 non-null  int64  \n",
      " 33  SEMIO_KRIT             891221 non-null  int64  \n",
      " 34  SEMIO_DOM              891221 non-null  int64  \n",
      " 35  SEMIO_KAEM             891221 non-null  int64  \n",
      " 36  SEMIO_PFLICHT          891221 non-null  int64  \n",
      " 37  SEMIO_TRADV            891221 non-null  int64  \n",
      " 38  SHOPPER_TYP            891221 non-null  int64  \n",
      " 39  SOHO_KZ                817722 non-null  float64\n",
      " 40  TITEL_KZ               817722 non-null  float64\n",
      " 41  VERS_TYP               891221 non-null  int64  \n",
      " 42  ZABEOTYP               891221 non-null  int64  \n",
      " 43  ALTER_HH               817722 non-null  float64\n",
      " 44  ANZ_PERSONEN           817722 non-null  float64\n",
      " 45  ANZ_TITEL              817722 non-null  float64\n",
      " 46  HH_EINKOMMEN_SCORE     872873 non-null  float64\n",
      " 47  KK_KUNDENTYP           306609 non-null  float64\n",
      " 48  W_KEIT_KIND_HH         783619 non-null  float64\n",
      " 49  WOHNDAUER_2008         817722 non-null  float64\n",
      " 50  ANZ_HAUSHALTE_AKTIV    798073 non-null  float64\n",
      " 51  ANZ_HH_TITEL           794213 non-null  float64\n",
      " 52  GEBAEUDETYP            798073 non-null  float64\n",
      " 53  KONSUMNAEHE            817252 non-null  float64\n",
      " 54  MIN_GEBAEUDEJAHR       798073 non-null  float64\n",
      " 55  OST_WEST_KZ            798073 non-null  object \n",
      " 56  WOHNLAGE               798073 non-null  float64\n",
      " 57  CAMEO_DEUG_2015        792242 non-null  object \n",
      " 58  CAMEO_DEU_2015         792242 non-null  object \n",
      " 59  CAMEO_INTL_2015        792242 non-null  object \n",
      " 60  KBA05_ANTG1            757897 non-null  float64\n",
      " 61  KBA05_ANTG2            757897 non-null  float64\n",
      " 62  KBA05_ANTG3            757897 non-null  float64\n",
      " 63  KBA05_ANTG4            757897 non-null  float64\n",
      " 64  KBA05_BAUMAX           757897 non-null  float64\n",
      " 65  KBA05_GBZ              757897 non-null  float64\n",
      " 66  BALLRAUM               797481 non-null  float64\n",
      " 67  EWDICHTE               797481 non-null  float64\n",
      " 68  INNENSTADT             797481 non-null  float64\n",
      " 69  GEBAEUDETYP_RASTER     798066 non-null  float64\n",
      " 70  KKK                    770025 non-null  float64\n",
      " 71  MOBI_REGIO             757897 non-null  float64\n",
      " 72  ONLINE_AFFINITAET      886367 non-null  float64\n",
      " 73  REGIOTYP               770025 non-null  float64\n",
      " 74  KBA13_ANZAHL_PKW       785421 non-null  float64\n",
      " 75  PLZ8_ANTG1             774706 non-null  float64\n",
      " 76  PLZ8_ANTG2             774706 non-null  float64\n",
      " 77  PLZ8_ANTG3             774706 non-null  float64\n",
      " 78  PLZ8_ANTG4             774706 non-null  float64\n",
      " 79  PLZ8_BAUMAX            774706 non-null  float64\n",
      " 80  PLZ8_HHZ               774706 non-null  float64\n",
      " 81  PLZ8_GBZ               774706 non-null  float64\n",
      " 82  ARBEIT                 794005 non-null  float64\n",
      " 83  ORTSGR_KLS9            794005 non-null  float64\n",
      " 84  RELAT_AB               794005 non-null  float64\n",
      "dtypes: float64(49), int64(32), object(4)\n",
      "memory usage: 578.0+ MB\n"
     ]
    }
   ],
   "source": [
    "azdias.info()"
   ]
  },
  {
   "cell_type": "code",
   "execution_count": 91,
   "metadata": {},
   "outputs": [
    {
     "data": {
      "text/html": [
       "<div>\n",
       "<style scoped>\n",
       "    .dataframe tbody tr th:only-of-type {\n",
       "        vertical-align: middle;\n",
       "    }\n",
       "\n",
       "    .dataframe tbody tr th {\n",
       "        vertical-align: top;\n",
       "    }\n",
       "\n",
       "    .dataframe thead th {\n",
       "        text-align: right;\n",
       "    }\n",
       "</style>\n",
       "<table border=\"1\" class=\"dataframe\">\n",
       "  <thead>\n",
       "    <tr style=\"text-align: right;\">\n",
       "      <th></th>\n",
       "      <th>AGER_TYP</th>\n",
       "      <th>ALTERSKATEGORIE_GROB</th>\n",
       "      <th>ANREDE_KZ</th>\n",
       "      <th>CJT_GESAMTTYP</th>\n",
       "      <th>FINANZ_MINIMALIST</th>\n",
       "      <th>FINANZ_SPARER</th>\n",
       "      <th>FINANZ_VORSORGER</th>\n",
       "      <th>FINANZ_ANLEGER</th>\n",
       "      <th>FINANZ_UNAUFFAELLIGER</th>\n",
       "      <th>FINANZ_HAUSBAUER</th>\n",
       "      <th>...</th>\n",
       "      <th>PLZ8_ANTG1</th>\n",
       "      <th>PLZ8_ANTG2</th>\n",
       "      <th>PLZ8_ANTG3</th>\n",
       "      <th>PLZ8_ANTG4</th>\n",
       "      <th>PLZ8_BAUMAX</th>\n",
       "      <th>PLZ8_HHZ</th>\n",
       "      <th>PLZ8_GBZ</th>\n",
       "      <th>ARBEIT</th>\n",
       "      <th>ORTSGR_KLS9</th>\n",
       "      <th>RELAT_AB</th>\n",
       "    </tr>\n",
       "  </thead>\n",
       "  <tbody>\n",
       "    <tr>\n",
       "      <th>0</th>\n",
       "      <td>-1</td>\n",
       "      <td>2</td>\n",
       "      <td>1</td>\n",
       "      <td>2.0</td>\n",
       "      <td>3</td>\n",
       "      <td>4</td>\n",
       "      <td>3</td>\n",
       "      <td>5</td>\n",
       "      <td>5</td>\n",
       "      <td>3</td>\n",
       "      <td>...</td>\n",
       "      <td>NaN</td>\n",
       "      <td>NaN</td>\n",
       "      <td>NaN</td>\n",
       "      <td>NaN</td>\n",
       "      <td>NaN</td>\n",
       "      <td>NaN</td>\n",
       "      <td>NaN</td>\n",
       "      <td>NaN</td>\n",
       "      <td>NaN</td>\n",
       "      <td>NaN</td>\n",
       "    </tr>\n",
       "    <tr>\n",
       "      <th>1</th>\n",
       "      <td>-1</td>\n",
       "      <td>1</td>\n",
       "      <td>2</td>\n",
       "      <td>5.0</td>\n",
       "      <td>1</td>\n",
       "      <td>5</td>\n",
       "      <td>2</td>\n",
       "      <td>5</td>\n",
       "      <td>4</td>\n",
       "      <td>5</td>\n",
       "      <td>...</td>\n",
       "      <td>2.0</td>\n",
       "      <td>3.0</td>\n",
       "      <td>2.0</td>\n",
       "      <td>1.0</td>\n",
       "      <td>1.0</td>\n",
       "      <td>5.0</td>\n",
       "      <td>4.0</td>\n",
       "      <td>3.0</td>\n",
       "      <td>5.0</td>\n",
       "      <td>4.0</td>\n",
       "    </tr>\n",
       "    <tr>\n",
       "      <th>2</th>\n",
       "      <td>-1</td>\n",
       "      <td>3</td>\n",
       "      <td>2</td>\n",
       "      <td>3.0</td>\n",
       "      <td>1</td>\n",
       "      <td>4</td>\n",
       "      <td>1</td>\n",
       "      <td>2</td>\n",
       "      <td>3</td>\n",
       "      <td>5</td>\n",
       "      <td>...</td>\n",
       "      <td>3.0</td>\n",
       "      <td>3.0</td>\n",
       "      <td>1.0</td>\n",
       "      <td>0.0</td>\n",
       "      <td>1.0</td>\n",
       "      <td>4.0</td>\n",
       "      <td>4.0</td>\n",
       "      <td>3.0</td>\n",
       "      <td>5.0</td>\n",
       "      <td>2.0</td>\n",
       "    </tr>\n",
       "    <tr>\n",
       "      <th>3</th>\n",
       "      <td>2</td>\n",
       "      <td>4</td>\n",
       "      <td>2</td>\n",
       "      <td>2.0</td>\n",
       "      <td>4</td>\n",
       "      <td>2</td>\n",
       "      <td>5</td>\n",
       "      <td>2</td>\n",
       "      <td>1</td>\n",
       "      <td>2</td>\n",
       "      <td>...</td>\n",
       "      <td>2.0</td>\n",
       "      <td>2.0</td>\n",
       "      <td>2.0</td>\n",
       "      <td>0.0</td>\n",
       "      <td>1.0</td>\n",
       "      <td>3.0</td>\n",
       "      <td>4.0</td>\n",
       "      <td>2.0</td>\n",
       "      <td>3.0</td>\n",
       "      <td>3.0</td>\n",
       "    </tr>\n",
       "    <tr>\n",
       "      <th>4</th>\n",
       "      <td>-1</td>\n",
       "      <td>3</td>\n",
       "      <td>1</td>\n",
       "      <td>5.0</td>\n",
       "      <td>4</td>\n",
       "      <td>3</td>\n",
       "      <td>4</td>\n",
       "      <td>1</td>\n",
       "      <td>3</td>\n",
       "      <td>2</td>\n",
       "      <td>...</td>\n",
       "      <td>2.0</td>\n",
       "      <td>4.0</td>\n",
       "      <td>2.0</td>\n",
       "      <td>1.0</td>\n",
       "      <td>2.0</td>\n",
       "      <td>3.0</td>\n",
       "      <td>3.0</td>\n",
       "      <td>4.0</td>\n",
       "      <td>6.0</td>\n",
       "      <td>5.0</td>\n",
       "    </tr>\n",
       "  </tbody>\n",
       "</table>\n",
       "<p>5 rows × 85 columns</p>\n",
       "</div>"
      ],
      "text/plain": [
       "   AGER_TYP  ALTERSKATEGORIE_GROB  ANREDE_KZ  CJT_GESAMTTYP  \\\n",
       "0        -1                     2          1            2.0   \n",
       "1        -1                     1          2            5.0   \n",
       "2        -1                     3          2            3.0   \n",
       "3         2                     4          2            2.0   \n",
       "4        -1                     3          1            5.0   \n",
       "\n",
       "   FINANZ_MINIMALIST  FINANZ_SPARER  FINANZ_VORSORGER  FINANZ_ANLEGER  \\\n",
       "0                  3              4                 3               5   \n",
       "1                  1              5                 2               5   \n",
       "2                  1              4                 1               2   \n",
       "3                  4              2                 5               2   \n",
       "4                  4              3                 4               1   \n",
       "\n",
       "   FINANZ_UNAUFFAELLIGER  FINANZ_HAUSBAUER  ...  PLZ8_ANTG1  PLZ8_ANTG2  \\\n",
       "0                      5                 3  ...         NaN         NaN   \n",
       "1                      4                 5  ...         2.0         3.0   \n",
       "2                      3                 5  ...         3.0         3.0   \n",
       "3                      1                 2  ...         2.0         2.0   \n",
       "4                      3                 2  ...         2.0         4.0   \n",
       "\n",
       "   PLZ8_ANTG3  PLZ8_ANTG4  PLZ8_BAUMAX  PLZ8_HHZ  PLZ8_GBZ  ARBEIT  \\\n",
       "0         NaN         NaN          NaN       NaN       NaN     NaN   \n",
       "1         2.0         1.0          1.0       5.0       4.0     3.0   \n",
       "2         1.0         0.0          1.0       4.0       4.0     3.0   \n",
       "3         2.0         0.0          1.0       3.0       4.0     2.0   \n",
       "4         2.0         1.0          2.0       3.0       3.0     4.0   \n",
       "\n",
       "   ORTSGR_KLS9  RELAT_AB  \n",
       "0          NaN       NaN  \n",
       "1          5.0       4.0  \n",
       "2          5.0       2.0  \n",
       "3          3.0       3.0  \n",
       "4          6.0       5.0  \n",
       "\n",
       "[5 rows x 85 columns]"
      ]
     },
     "execution_count": 91,
     "metadata": {},
     "output_type": "execute_result"
    }
   ],
   "source": [
    "azdias.head()"
   ]
  },
  {
   "cell_type": "code",
   "execution_count": 92,
   "metadata": {},
   "outputs": [
    {
     "data": {
      "text/plain": [
       "0    NaN\n",
       "1      8\n",
       "2      4\n",
       "3      2\n",
       "4      6\n",
       "5      8\n",
       "6      4\n",
       "7      2\n",
       "8      1\n",
       "9      1\n",
       "Name: CAMEO_DEUG_2015, dtype: object"
      ]
     },
     "execution_count": 92,
     "metadata": {},
     "output_type": "execute_result"
    }
   ],
   "source": [
    "azdias['CAMEO_DEUG_2015'].head(10)"
   ]
  },
  {
   "cell_type": "code",
   "execution_count": 93,
   "metadata": {},
   "outputs": [
    {
     "data": {
      "text/html": [
       "<div>\n",
       "<style scoped>\n",
       "    .dataframe tbody tr th:only-of-type {\n",
       "        vertical-align: middle;\n",
       "    }\n",
       "\n",
       "    .dataframe tbody tr th {\n",
       "        vertical-align: top;\n",
       "    }\n",
       "\n",
       "    .dataframe thead th {\n",
       "        text-align: right;\n",
       "    }\n",
       "</style>\n",
       "<table border=\"1\" class=\"dataframe\">\n",
       "  <thead>\n",
       "    <tr style=\"text-align: right;\">\n",
       "      <th></th>\n",
       "      <th>attribute</th>\n",
       "      <th>information_level</th>\n",
       "      <th>type</th>\n",
       "      <th>missing_or_unknown</th>\n",
       "    </tr>\n",
       "  </thead>\n",
       "  <tbody>\n",
       "    <tr>\n",
       "      <th>count</th>\n",
       "      <td>85</td>\n",
       "      <td>85</td>\n",
       "      <td>85</td>\n",
       "      <td>85</td>\n",
       "    </tr>\n",
       "    <tr>\n",
       "      <th>unique</th>\n",
       "      <td>85</td>\n",
       "      <td>9</td>\n",
       "      <td>5</td>\n",
       "      <td>9</td>\n",
       "    </tr>\n",
       "    <tr>\n",
       "      <th>top</th>\n",
       "      <td>SEMIO_LUST</td>\n",
       "      <td>person</td>\n",
       "      <td>ordinal</td>\n",
       "      <td>[-1]</td>\n",
       "    </tr>\n",
       "    <tr>\n",
       "      <th>freq</th>\n",
       "      <td>1</td>\n",
       "      <td>43</td>\n",
       "      <td>49</td>\n",
       "      <td>26</td>\n",
       "    </tr>\n",
       "  </tbody>\n",
       "</table>\n",
       "</div>"
      ],
      "text/plain": [
       "         attribute information_level     type missing_or_unknown\n",
       "count           85                85       85                 85\n",
       "unique          85                 9        5                  9\n",
       "top     SEMIO_LUST            person  ordinal               [-1]\n",
       "freq             1                43       49                 26"
      ]
     },
     "execution_count": 93,
     "metadata": {},
     "output_type": "execute_result"
    }
   ],
   "source": [
    "feat_info.describe()"
   ]
  },
  {
   "cell_type": "code",
   "execution_count": 94,
   "metadata": {},
   "outputs": [
    {
     "name": "stdout",
     "output_type": "stream",
     "text": [
      "<class 'pandas.core.frame.DataFrame'>\n",
      "RangeIndex: 85 entries, 0 to 84\n",
      "Data columns (total 4 columns):\n",
      " #   Column              Non-Null Count  Dtype \n",
      "---  ------              --------------  ----- \n",
      " 0   attribute           85 non-null     object\n",
      " 1   information_level   85 non-null     object\n",
      " 2   type                85 non-null     object\n",
      " 3   missing_or_unknown  85 non-null     object\n",
      "dtypes: object(4)\n",
      "memory usage: 2.8+ KB\n"
     ]
    }
   ],
   "source": [
    "feat_info.info()"
   ]
  },
  {
   "cell_type": "code",
   "execution_count": 95,
   "metadata": {},
   "outputs": [
    {
     "data": {
      "text/html": [
       "<div>\n",
       "<style scoped>\n",
       "    .dataframe tbody tr th:only-of-type {\n",
       "        vertical-align: middle;\n",
       "    }\n",
       "\n",
       "    .dataframe tbody tr th {\n",
       "        vertical-align: top;\n",
       "    }\n",
       "\n",
       "    .dataframe thead th {\n",
       "        text-align: right;\n",
       "    }\n",
       "</style>\n",
       "<table border=\"1\" class=\"dataframe\">\n",
       "  <thead>\n",
       "    <tr style=\"text-align: right;\">\n",
       "      <th></th>\n",
       "      <th>attribute</th>\n",
       "      <th>information_level</th>\n",
       "      <th>type</th>\n",
       "      <th>missing_or_unknown</th>\n",
       "    </tr>\n",
       "  </thead>\n",
       "  <tbody>\n",
       "    <tr>\n",
       "      <th>0</th>\n",
       "      <td>AGER_TYP</td>\n",
       "      <td>person</td>\n",
       "      <td>categorical</td>\n",
       "      <td>[-1,0]</td>\n",
       "    </tr>\n",
       "    <tr>\n",
       "      <th>1</th>\n",
       "      <td>ALTERSKATEGORIE_GROB</td>\n",
       "      <td>person</td>\n",
       "      <td>ordinal</td>\n",
       "      <td>[-1,0,9]</td>\n",
       "    </tr>\n",
       "    <tr>\n",
       "      <th>2</th>\n",
       "      <td>ANREDE_KZ</td>\n",
       "      <td>person</td>\n",
       "      <td>categorical</td>\n",
       "      <td>[-1,0]</td>\n",
       "    </tr>\n",
       "    <tr>\n",
       "      <th>3</th>\n",
       "      <td>CJT_GESAMTTYP</td>\n",
       "      <td>person</td>\n",
       "      <td>categorical</td>\n",
       "      <td>[0]</td>\n",
       "    </tr>\n",
       "    <tr>\n",
       "      <th>4</th>\n",
       "      <td>FINANZ_MINIMALIST</td>\n",
       "      <td>person</td>\n",
       "      <td>ordinal</td>\n",
       "      <td>[-1]</td>\n",
       "    </tr>\n",
       "  </tbody>\n",
       "</table>\n",
       "</div>"
      ],
      "text/plain": [
       "              attribute information_level         type missing_or_unknown\n",
       "0              AGER_TYP            person  categorical             [-1,0]\n",
       "1  ALTERSKATEGORIE_GROB            person      ordinal           [-1,0,9]\n",
       "2             ANREDE_KZ            person  categorical             [-1,0]\n",
       "3         CJT_GESAMTTYP            person  categorical                [0]\n",
       "4     FINANZ_MINIMALIST            person      ordinal               [-1]"
      ]
     },
     "execution_count": 95,
     "metadata": {},
     "output_type": "execute_result"
    }
   ],
   "source": [
    "feat_info.head()"
   ]
  },
  {
   "cell_type": "code",
   "execution_count": 96,
   "metadata": {},
   "outputs": [
    {
     "data": {
      "text/html": [
       "<div>\n",
       "<style scoped>\n",
       "    .dataframe tbody tr th:only-of-type {\n",
       "        vertical-align: middle;\n",
       "    }\n",
       "\n",
       "    .dataframe tbody tr th {\n",
       "        vertical-align: top;\n",
       "    }\n",
       "\n",
       "    .dataframe thead th {\n",
       "        text-align: right;\n",
       "    }\n",
       "</style>\n",
       "<table border=\"1\" class=\"dataframe\">\n",
       "  <thead>\n",
       "    <tr style=\"text-align: right;\">\n",
       "      <th></th>\n",
       "      <th>attribute</th>\n",
       "      <th>information_level</th>\n",
       "      <th>type</th>\n",
       "      <th>missing_or_unknown</th>\n",
       "    </tr>\n",
       "  </thead>\n",
       "  <tbody>\n",
       "    <tr>\n",
       "      <th>80</th>\n",
       "      <td>PLZ8_HHZ</td>\n",
       "      <td>macrocell_plz8</td>\n",
       "      <td>ordinal</td>\n",
       "      <td>[-1]</td>\n",
       "    </tr>\n",
       "    <tr>\n",
       "      <th>81</th>\n",
       "      <td>PLZ8_GBZ</td>\n",
       "      <td>macrocell_plz8</td>\n",
       "      <td>ordinal</td>\n",
       "      <td>[-1]</td>\n",
       "    </tr>\n",
       "    <tr>\n",
       "      <th>82</th>\n",
       "      <td>ARBEIT</td>\n",
       "      <td>community</td>\n",
       "      <td>ordinal</td>\n",
       "      <td>[-1,9]</td>\n",
       "    </tr>\n",
       "    <tr>\n",
       "      <th>83</th>\n",
       "      <td>ORTSGR_KLS9</td>\n",
       "      <td>community</td>\n",
       "      <td>ordinal</td>\n",
       "      <td>[-1,0]</td>\n",
       "    </tr>\n",
       "    <tr>\n",
       "      <th>84</th>\n",
       "      <td>RELAT_AB</td>\n",
       "      <td>community</td>\n",
       "      <td>ordinal</td>\n",
       "      <td>[-1,9]</td>\n",
       "    </tr>\n",
       "  </tbody>\n",
       "</table>\n",
       "</div>"
      ],
      "text/plain": [
       "      attribute information_level     type missing_or_unknown\n",
       "80     PLZ8_HHZ    macrocell_plz8  ordinal               [-1]\n",
       "81     PLZ8_GBZ    macrocell_plz8  ordinal               [-1]\n",
       "82       ARBEIT         community  ordinal             [-1,9]\n",
       "83  ORTSGR_KLS9         community  ordinal             [-1,0]\n",
       "84     RELAT_AB         community  ordinal             [-1,9]"
      ]
     },
     "execution_count": 96,
     "metadata": {},
     "output_type": "execute_result"
    }
   ],
   "source": [
    "feat_info.tail()"
   ]
  },
  {
   "cell_type": "code",
   "execution_count": 97,
   "metadata": {},
   "outputs": [
    {
     "data": {
      "text/plain": [
       "count       85\n",
       "unique       9\n",
       "top       [-1]\n",
       "freq        26\n",
       "Name: missing_or_unknown, dtype: object"
      ]
     },
     "execution_count": 97,
     "metadata": {},
     "output_type": "execute_result"
    }
   ],
   "source": [
    "feat_info['missing_or_unknown'].describe()"
   ]
  },
  {
   "cell_type": "markdown",
   "metadata": {},
   "source": [
    "> **Tip**: Add additional cells to keep everything in reasonably-sized chunks! Keyboard shortcut `esc --> a` (press escape to enter command mode, then press the 'A' key) adds a new cell before the active cell, and `esc --> b` adds a new cell after the active cell. If you need to convert an active cell to a markdown cell, use `esc --> m` and to convert to a code cell, use `esc --> y`. \n",
    "\n",
    "## Step 1: Preprocessing\n",
    "\n",
    "### Step 1.1: Assess Missing Data\n",
    "\n",
    "The feature summary file contains a summary of properties for each demographics data column. You will use this file to help you make cleaning decisions during this stage of the project. First of all, you should assess the demographics data in terms of missing data. Pay attention to the following points as you perform your analysis, and take notes on what you observe. Make sure that you fill in the **Discussion** cell with your findings and decisions at the end of each step that has one!\n",
    "\n",
    "#### Step 1.1.1: Convert Missing Value Codes to NaNs\n",
    "The fourth column of the feature attributes summary (loaded in above as `feat_info`) documents the codes from the data dictionary that indicate missing or unknown data. While the file encodes this as a list (e.g. `[-1,0]`), this will get read in as a string object. You'll need to do a little bit of parsing to make use of it to identify and clean the data. Convert data that matches a 'missing' or 'unknown' value code into a numpy NaN value. You might want to see how much data takes on a 'missing' or 'unknown' code, and how much data is naturally missing, as a point of interest.\n",
    "\n",
    "**As one more reminder, you are encouraged to add additional cells to break up your analysis into manageable chunks.**"
   ]
  },
  {
   "cell_type": "code",
   "execution_count": 98,
   "metadata": {},
   "outputs": [
    {
     "data": {
      "text/plain": [
       "array(['[-1,0]', '[-1,0,9]', '[0]', '[-1]', '[]', '[-1,9]', '[-1,X]',\n",
       "       '[XX]', '[-1,XX]'], dtype=object)"
      ]
     },
     "execution_count": 98,
     "metadata": {},
     "output_type": "execute_result"
    }
   ],
   "source": [
    "feat_info['missing_or_unknown'].unique()"
   ]
  },
  {
   "cell_type": "code",
   "execution_count": 99,
   "metadata": {},
   "outputs": [
    {
     "name": "stdout",
     "output_type": "stream",
     "text": [
      "['categorical' 'ordinal' 'numeric' 'mixed' 'interval']\n"
     ]
    }
   ],
   "source": [
    "feat_type = feat_info['type']\n",
    "feat_type_unique = feat_type.unique()\n",
    "print(feat_type_unique)"
   ]
  },
  {
   "cell_type": "code",
   "execution_count": 100,
   "metadata": {},
   "outputs": [
    {
     "name": "stdout",
     "output_type": "stream",
     "text": [
      "The number of features with type: categorical = 21\n",
      "The number of features with type: ordinal = 49\n",
      "The number of features with type: numeric = 7\n",
      "The number of features with type: mixed = 7\n",
      "The number of features with type: interval = 1\n"
     ]
    }
   ],
   "source": [
    "for _type in feat_type_unique:\n",
    "    print('The number of features with type: {} = {}'.format(_type, feat_info.loc[feat_type == _type].shape[0]))"
   ]
  },
  {
   "cell_type": "code",
   "execution_count": 101,
   "metadata": {},
   "outputs": [],
   "source": [
    "# Conversion of sting values to integers:\n",
    "\n",
    "def convert_to_list(string):\n",
    "    result=[]\n",
    "    value = string[1:-1].split(',')\n",
    "    for i in value:\n",
    "        if i and not i.isalpha():\n",
    "            result.append(int(i))\n",
    "        \n",
    "        else:\n",
    "            result.append(i.strip())\n",
    "    return result\n",
    "    "
   ]
  },
  {
   "cell_type": "code",
   "execution_count": 102,
   "metadata": {},
   "outputs": [],
   "source": [
    "feat_info['missing_or_unknown'] = feat_info['missing_or_unknown'].apply(convert_to_list)"
   ]
  },
  {
   "cell_type": "code",
   "execution_count": 103,
   "metadata": {},
   "outputs": [
    {
     "data": {
      "text/plain": [
       "count       85\n",
       "unique       9\n",
       "top       [-1]\n",
       "freq        26\n",
       "Name: missing_or_unknown, dtype: object"
      ]
     },
     "execution_count": 103,
     "metadata": {},
     "output_type": "execute_result"
    }
   ],
   "source": [
    "feat_info['missing_or_unknown'].describe()"
   ]
  },
  {
   "cell_type": "code",
   "execution_count": 104,
   "metadata": {},
   "outputs": [
    {
     "name": "stdout",
     "output_type": "stream",
     "text": [
      "{'AGER_TYP': [-1, 0], 'ALTERSKATEGORIE_GROB': [-1, 0, 9], 'ANREDE_KZ': [-1, 0], 'CJT_GESAMTTYP': [0], 'FINANZ_MINIMALIST': [-1], 'FINANZ_SPARER': [-1], 'FINANZ_VORSORGER': [-1], 'FINANZ_ANLEGER': [-1], 'FINANZ_UNAUFFAELLIGER': [-1], 'FINANZ_HAUSBAUER': [-1], 'FINANZTYP': [-1], 'GEBURTSJAHR': [0], 'GFK_URLAUBERTYP': [''], 'GREEN_AVANTGARDE': [''], 'HEALTH_TYP': [-1, 0], 'LP_LEBENSPHASE_FEIN': [0], 'LP_LEBENSPHASE_GROB': [0], 'LP_FAMILIE_FEIN': [0], 'LP_FAMILIE_GROB': [0], 'LP_STATUS_FEIN': [0], 'LP_STATUS_GROB': [0], 'NATIONALITAET_KZ': [-1, 0], 'PRAEGENDE_JUGENDJAHRE': [-1, 0], 'RETOURTYP_BK_S': [0], 'SEMIO_SOZ': [-1, 9], 'SEMIO_FAM': [-1, 9], 'SEMIO_REL': [-1, 9], 'SEMIO_MAT': [-1, 9], 'SEMIO_VERT': [-1, 9], 'SEMIO_LUST': [-1, 9], 'SEMIO_ERL': [-1, 9], 'SEMIO_KULT': [-1, 9], 'SEMIO_RAT': [-1, 9], 'SEMIO_KRIT': [-1, 9], 'SEMIO_DOM': [-1, 9], 'SEMIO_KAEM': [-1, 9], 'SEMIO_PFLICHT': [-1, 9], 'SEMIO_TRADV': [-1, 9], 'SHOPPER_TYP': [-1], 'SOHO_KZ': [-1], 'TITEL_KZ': [-1, 0], 'VERS_TYP': [-1], 'ZABEOTYP': [-1, 9], 'ALTER_HH': [0], 'ANZ_PERSONEN': [''], 'ANZ_TITEL': [''], 'HH_EINKOMMEN_SCORE': [-1, 0], 'KK_KUNDENTYP': [-1], 'W_KEIT_KIND_HH': [-1, 0], 'WOHNDAUER_2008': [-1, 0], 'ANZ_HAUSHALTE_AKTIV': [0], 'ANZ_HH_TITEL': [''], 'GEBAEUDETYP': [-1, 0], 'KONSUMNAEHE': [''], 'MIN_GEBAEUDEJAHR': [0], 'OST_WEST_KZ': [-1], 'WOHNLAGE': [-1], 'CAMEO_DEUG_2015': [-1, 'X'], 'CAMEO_DEU_2015': ['XX'], 'CAMEO_INTL_2015': [-1, 'XX'], 'KBA05_ANTG1': [-1], 'KBA05_ANTG2': [-1], 'KBA05_ANTG3': [-1], 'KBA05_ANTG4': [-1], 'KBA05_BAUMAX': [-1, 0], 'KBA05_GBZ': [-1, 0], 'BALLRAUM': [-1], 'EWDICHTE': [-1], 'INNENSTADT': [-1], 'GEBAEUDETYP_RASTER': [''], 'KKK': [-1, 0], 'MOBI_REGIO': [''], 'ONLINE_AFFINITAET': [''], 'REGIOTYP': [-1, 0], 'KBA13_ANZAHL_PKW': [''], 'PLZ8_ANTG1': [-1], 'PLZ8_ANTG2': [-1], 'PLZ8_ANTG3': [-1], 'PLZ8_ANTG4': [-1], 'PLZ8_BAUMAX': [-1, 0], 'PLZ8_HHZ': [-1], 'PLZ8_GBZ': [-1], 'ARBEIT': [-1, 9], 'ORTSGR_KLS9': [-1, 0], 'RELAT_AB': [-1, 9]}\n"
     ]
    }
   ],
   "source": [
    "missing_data= dict(zip(feat_info[\"attribute\"], feat_info['missing_or_unknown']))\n",
    "print(missing_data)"
   ]
  },
  {
   "cell_type": "code",
   "execution_count": 105,
   "metadata": {},
   "outputs": [
    {
     "name": "stdout",
     "output_type": "stream",
     "text": [
      "AGER_TYP\n",
      "The number of features with NaN values was:  0\n",
      "The number of features with NaN values has become:  685843\n",
      "----------\n",
      "ALTERSKATEGORIE_GROB\n",
      "The number of features with NaN values was:  0\n",
      "The number of features with NaN values has become:  2881\n",
      "----------\n",
      "GEBURTSJAHR\n",
      "The number of features with NaN values was:  0\n",
      "The number of features with NaN values has become:  392318\n",
      "----------\n",
      "HEALTH_TYP\n",
      "The number of features with NaN values was:  0\n",
      "The number of features with NaN values has become:  111196\n",
      "----------\n",
      "LP_LEBENSPHASE_FEIN\n",
      "The number of features with NaN values was:  4854\n",
      "The number of features with NaN values has become:  97632\n",
      "----------\n",
      "LP_LEBENSPHASE_GROB\n",
      "The number of features with NaN values was:  4854\n",
      "The number of features with NaN values has become:  94572\n",
      "----------\n",
      "LP_FAMILIE_FEIN\n",
      "The number of features with NaN values was:  4854\n",
      "The number of features with NaN values has become:  77792\n",
      "----------\n",
      "LP_FAMILIE_GROB\n",
      "The number of features with NaN values was:  4854\n",
      "The number of features with NaN values has become:  77792\n",
      "----------\n",
      "NATIONALITAET_KZ\n",
      "The number of features with NaN values was:  0\n",
      "The number of features with NaN values has become:  108315\n",
      "----------\n",
      "PRAEGENDE_JUGENDJAHRE\n",
      "The number of features with NaN values was:  0\n",
      "The number of features with NaN values has become:  108164\n",
      "----------\n",
      "SHOPPER_TYP\n",
      "The number of features with NaN values was:  0\n",
      "The number of features with NaN values has become:  111196\n",
      "----------\n",
      "TITEL_KZ\n",
      "The number of features with NaN values was:  73499\n",
      "The number of features with NaN values has become:  889061\n",
      "----------\n",
      "VERS_TYP\n",
      "The number of features with NaN values was:  0\n",
      "The number of features with NaN values has become:  111196\n",
      "----------\n",
      "ALTER_HH\n",
      "The number of features with NaN values was:  73499\n",
      "The number of features with NaN values has become:  310267\n",
      "----------\n",
      "W_KEIT_KIND_HH\n",
      "The number of features with NaN values was:  107602\n",
      "The number of features with NaN values has become:  147988\n",
      "----------\n",
      "ANZ_HAUSHALTE_AKTIV\n",
      "The number of features with NaN values was:  93148\n",
      "The number of features with NaN values has become:  99611\n",
      "----------\n",
      "CAMEO_DEUG_2015\n",
      "The number of features with NaN values was:  98979\n",
      "The number of features with NaN values has become:  99352\n",
      "----------\n",
      "CAMEO_DEU_2015\n",
      "The number of features with NaN values was:  98979\n",
      "The number of features with NaN values has become:  99352\n",
      "----------\n",
      "CAMEO_INTL_2015\n",
      "The number of features with NaN values was:  98979\n",
      "The number of features with NaN values has become:  99352\n",
      "----------\n",
      "KBA05_BAUMAX\n",
      "The number of features with NaN values was:  133324\n",
      "The number of features with NaN values has become:  476524\n",
      "----------\n",
      "KKK\n",
      "The number of features with NaN values was:  121196\n",
      "The number of features with NaN values has become:  158064\n",
      "----------\n",
      "REGIOTYP\n",
      "The number of features with NaN values was:  121196\n",
      "The number of features with NaN values has become:  158064\n",
      "----------\n",
      "ARBEIT\n",
      "The number of features with NaN values was:  97216\n",
      "The number of features with NaN values has become:  97375\n",
      "----------\n",
      "ORTSGR_KLS9\n",
      "The number of features with NaN values was:  97216\n",
      "The number of features with NaN values has become:  97274\n",
      "----------\n",
      "RELAT_AB\n",
      "The number of features with NaN values was:  97216\n",
      "The number of features with NaN values has become:  97375\n",
      "----------\n"
     ]
    }
   ],
   "source": [
    "for col in missing_data.keys():\n",
    "    nans_old= azdias[col].isnull().sum()\n",
    "    azdias.loc[azdias[col].isin(missing_data[col]), col] = np.nan\n",
    "    nans_new = azdias[col].isnull().sum()\n",
    "    if nans_new != nans_old:\n",
    "        print(col)\n",
    "        print('The number of features with NaN values was: ', nans_old)\n",
    "        print('The number of features with NaN values has become: ', nans_new)\n",
    "        print('-'*10)"
   ]
  },
  {
   "cell_type": "markdown",
   "metadata": {},
   "source": [
    "#### Step 1.1.2: Assess Missing Data in Each Column\n",
    "\n",
    "How much missing data is present in each column? There are a few columns that are outliers in terms of the proportion of values that are missing. You will want to use matplotlib's [`hist()`](https://matplotlib.org/api/_as_gen/matplotlib.pyplot.hist.html) function to visualize the distribution of missing value counts to find these columns. Identify and document these columns. While some of these columns might have justifications for keeping or re-encoding the data, for this project you should just remove them from the dataframe. (Feel free to make remarks about these outlier columns in the discussion, however!)\n",
    "\n",
    "For the remaining features, are there any patterns in which columns have, or share, missing data?"
   ]
  },
  {
   "cell_type": "code",
   "execution_count": 106,
   "metadata": {},
   "outputs": [
    {
     "name": "stdout",
     "output_type": "stream",
     "text": [
      "TITEL_KZ        0.997576\n",
      "AGER_TYP        0.769554\n",
      "KK_KUNDENTYP    0.655967\n",
      "KBA05_BAUMAX    0.534687\n",
      "GEBURTSJAHR     0.440203\n",
      "                  ...   \n",
      "SEMIO_RAT       0.000000\n",
      "SEMIO_KRIT      0.000000\n",
      "SEMIO_DOM       0.000000\n",
      "SEMIO_TRADV     0.000000\n",
      "ZABEOTYP        0.000000\n",
      "Length: 85, dtype: float64\n"
     ]
    }
   ],
   "source": [
    "feat_nan_mean = azdias.isnull().mean().sort_values(ascending=False)\n",
    "print(feat_nan_mean)"
   ]
  },
  {
   "cell_type": "code",
   "execution_count": 107,
   "metadata": {},
   "outputs": [
    {
     "data": {
      "text/plain": [
       "TITEL_KZ          0.997576\n",
       "AGER_TYP          0.769554\n",
       "KK_KUNDENTYP      0.655967\n",
       "KBA05_BAUMAX      0.534687\n",
       "GEBURTSJAHR       0.440203\n",
       "ALTER_HH          0.348137\n",
       "KKK               0.177357\n",
       "REGIOTYP          0.177357\n",
       "W_KEIT_KIND_HH    0.166051\n",
       "KBA05_ANTG1       0.149597\n",
       "dtype: float64"
      ]
     },
     "execution_count": 107,
     "metadata": {},
     "output_type": "execute_result"
    }
   ],
   "source": [
    "feat_nan_mean[:10]"
   ]
  },
  {
   "cell_type": "code",
   "execution_count": 108,
   "metadata": {},
   "outputs": [
    {
     "name": "stdout",
     "output_type": "stream",
     "text": [
      "         features  missing_values_mean information_level         type\n",
      "0        TITEL_KZ             0.997576            person  categorical\n",
      "1        AGER_TYP             0.769554            person      ordinal\n",
      "2    KK_KUNDENTYP             0.655967            person  categorical\n",
      "3    KBA05_BAUMAX             0.534687            person  categorical\n",
      "4     GEBURTSJAHR             0.440203            person      ordinal\n",
      "5        ALTER_HH             0.348137            person      ordinal\n",
      "6             KKK             0.177357            person      ordinal\n",
      "7        REGIOTYP             0.177357            person      ordinal\n",
      "8  W_KEIT_KIND_HH             0.166051            person      ordinal\n",
      "9     KBA05_ANTG1             0.149597            person      ordinal\n"
     ]
    }
   ],
   "source": [
    "# Assessment of features in terms of missing or unknown data \"converted to NaN\" :\n",
    "\n",
    "miss_values_df = feat_nan_mean.to_frame()\n",
    "miss_values_df.reset_index(level=0, inplace=True)\n",
    "miss_values_df.columns = ['features','missing_values_mean']\n",
    "miss_values_df['information_level'] = feat_info['information_level']\n",
    "miss_values_df['type'] = feat_info['type']\n",
    "print(miss_values_df.head(10))"
   ]
  },
  {
   "cell_type": "code",
   "execution_count": 109,
   "metadata": {},
   "outputs": [
    {
     "data": {
      "image/png": "[encoded data removed]",
      "text/plain": [
       "<Figure size 432x288 with 1 Axes>"
      ]
     },
     "metadata": {
      "needs_background": "light"
     },
     "output_type": "display_data"
    }
   ],
   "source": [
    "miss_values_df.hist();"
   ]
  },
  {
   "cell_type": "code",
   "execution_count": 110,
   "metadata": {},
   "outputs": [
    {
     "name": "stderr",
     "output_type": "stream",
     "text": [
      "C:\\Users\\AHMED TAMAN\\Anaconda3\\lib\\site-packages\\seaborn\\_decorators.py:36: FutureWarning: Pass the following variable as a keyword arg: x. From version 0.12, the only valid positional argument will be `data`, and passing other arguments without an explicit keyword will result in an error or misinterpretation.\n",
      "  warnings.warn(\n"
     ]
    },
    {
     "data": {
      "image/png": "[encoded data removed]",
      "text/plain": [
       "<Figure size 432x288 with 1 Axes>"
      ]
     },
     "metadata": {
      "needs_background": "light"
     },
     "output_type": "display_data"
    }
   ],
   "source": [
    "sns.boxplot(miss_values_df['missing_values_mean']);"
   ]
  },
  {
   "cell_type": "code",
   "execution_count": 111,
   "metadata": {},
   "outputs": [
    {
     "name": "stdout",
     "output_type": "stream",
     "text": [
      "24\n",
      "53\n",
      "46\n",
      "9\n",
      "15\n",
      "6\n",
      "6\n",
      "0.10588235294117647\n"
     ]
    }
   ],
   "source": [
    "no_miss_value_count = miss_values_df[miss_values_df['missing_values_mean'] == 0].shape[0]\n",
    "miss_value_count_5 = miss_values_df[miss_values_df['missing_values_mean'] > 0.05].shape[0]\n",
    "miss_value_count_10 = miss_values_df[miss_values_df['missing_values_mean'] > 0.10].shape[0]\n",
    "miss_value_count_15 = miss_values_df[miss_values_df['missing_values_mean'] > 0.15].shape[0]\n",
    "miss_value_count_14 = miss_values_df[miss_values_df['missing_values_mean'] > 0.14].shape[0]\n",
    "miss_value_count_20 = miss_values_df[miss_values_df['missing_values_mean'] > 0.2].shape[0]\n",
    "miss_value_count_25 = miss_values_df[miss_values_df['missing_values_mean'] > 0.25].shape[0]\n",
    "\n",
    "print(no_miss_value_count)\n",
    "print(miss_value_count_5)\n",
    "print(miss_value_count_10)\n",
    "print(miss_value_count_15)\n",
    "print(miss_value_count_14)\n",
    "print(miss_value_count_20)\n",
    "print(miss_value_count_25)\n",
    "\n",
    "print(miss_value_count_15/85)"
   ]
  },
  {
   "cell_type": "code",
   "execution_count": 112,
   "metadata": {},
   "outputs": [],
   "source": [
    "# Features classification based on the percentage of missing values:\n",
    "\n",
    "selected_conditions = [\n",
    "    (miss_values_df['missing_values_mean'] == 0),\n",
    "    (miss_values_df['missing_values_mean'] > 0) & (miss_values_df['missing_values_mean'] <= 0.1),\n",
    "    (miss_values_df['missing_values_mean'] > 0.1) & (miss_values_df['missing_values_mean'] <= 0.14),\n",
    "    (miss_values_df['missing_values_mean'] > 0.14)\n",
    "    ]\n",
    "definition = ['no_missing_values', 'low%_missing_values', 'medium%_missing_values', 'high%_missing_values']\n",
    "miss_values_df['nan_degree'] = np.select(selected_conditions, definition)\n"
   ]
  },
  {
   "cell_type": "code",
   "execution_count": 113,
   "metadata": {},
   "outputs": [
    {
     "data": {
      "text/html": [
       "<div>\n",
       "<style scoped>\n",
       "    .dataframe tbody tr th:only-of-type {\n",
       "        vertical-align: middle;\n",
       "    }\n",
       "\n",
       "    .dataframe tbody tr th {\n",
       "        vertical-align: top;\n",
       "    }\n",
       "\n",
       "    .dataframe thead th {\n",
       "        text-align: right;\n",
       "    }\n",
       "</style>\n",
       "<table border=\"1\" class=\"dataframe\">\n",
       "  <thead>\n",
       "    <tr style=\"text-align: right;\">\n",
       "      <th></th>\n",
       "      <th>features</th>\n",
       "      <th>missing_values_mean</th>\n",
       "      <th>information_level</th>\n",
       "      <th>type</th>\n",
       "      <th>nan_degree</th>\n",
       "    </tr>\n",
       "  </thead>\n",
       "  <tbody>\n",
       "    <tr>\n",
       "      <th>75</th>\n",
       "      <td>SEMIO_MAT</td>\n",
       "      <td>0.0</td>\n",
       "      <td>macrocell_plz8</td>\n",
       "      <td>ordinal</td>\n",
       "      <td>no_missing_values</td>\n",
       "    </tr>\n",
       "    <tr>\n",
       "      <th>76</th>\n",
       "      <td>SEMIO_VERT</td>\n",
       "      <td>0.0</td>\n",
       "      <td>macrocell_plz8</td>\n",
       "      <td>ordinal</td>\n",
       "      <td>no_missing_values</td>\n",
       "    </tr>\n",
       "    <tr>\n",
       "      <th>77</th>\n",
       "      <td>SEMIO_LUST</td>\n",
       "      <td>0.0</td>\n",
       "      <td>macrocell_plz8</td>\n",
       "      <td>ordinal</td>\n",
       "      <td>no_missing_values</td>\n",
       "    </tr>\n",
       "    <tr>\n",
       "      <th>78</th>\n",
       "      <td>SEMIO_ERL</td>\n",
       "      <td>0.0</td>\n",
       "      <td>macrocell_plz8</td>\n",
       "      <td>ordinal</td>\n",
       "      <td>no_missing_values</td>\n",
       "    </tr>\n",
       "    <tr>\n",
       "      <th>79</th>\n",
       "      <td>SEMIO_KULT</td>\n",
       "      <td>0.0</td>\n",
       "      <td>macrocell_plz8</td>\n",
       "      <td>mixed</td>\n",
       "      <td>no_missing_values</td>\n",
       "    </tr>\n",
       "    <tr>\n",
       "      <th>80</th>\n",
       "      <td>SEMIO_RAT</td>\n",
       "      <td>0.0</td>\n",
       "      <td>macrocell_plz8</td>\n",
       "      <td>ordinal</td>\n",
       "      <td>no_missing_values</td>\n",
       "    </tr>\n",
       "    <tr>\n",
       "      <th>81</th>\n",
       "      <td>SEMIO_KRIT</td>\n",
       "      <td>0.0</td>\n",
       "      <td>macrocell_plz8</td>\n",
       "      <td>ordinal</td>\n",
       "      <td>no_missing_values</td>\n",
       "    </tr>\n",
       "    <tr>\n",
       "      <th>82</th>\n",
       "      <td>SEMIO_DOM</td>\n",
       "      <td>0.0</td>\n",
       "      <td>community</td>\n",
       "      <td>ordinal</td>\n",
       "      <td>no_missing_values</td>\n",
       "    </tr>\n",
       "    <tr>\n",
       "      <th>83</th>\n",
       "      <td>SEMIO_TRADV</td>\n",
       "      <td>0.0</td>\n",
       "      <td>community</td>\n",
       "      <td>ordinal</td>\n",
       "      <td>no_missing_values</td>\n",
       "    </tr>\n",
       "    <tr>\n",
       "      <th>84</th>\n",
       "      <td>ZABEOTYP</td>\n",
       "      <td>0.0</td>\n",
       "      <td>community</td>\n",
       "      <td>ordinal</td>\n",
       "      <td>no_missing_values</td>\n",
       "    </tr>\n",
       "  </tbody>\n",
       "</table>\n",
       "</div>"
      ],
      "text/plain": [
       "       features  missing_values_mean information_level     type  \\\n",
       "75    SEMIO_MAT                  0.0    macrocell_plz8  ordinal   \n",
       "76   SEMIO_VERT                  0.0    macrocell_plz8  ordinal   \n",
       "77   SEMIO_LUST                  0.0    macrocell_plz8  ordinal   \n",
       "78    SEMIO_ERL                  0.0    macrocell_plz8  ordinal   \n",
       "79   SEMIO_KULT                  0.0    macrocell_plz8    mixed   \n",
       "80    SEMIO_RAT                  0.0    macrocell_plz8  ordinal   \n",
       "81   SEMIO_KRIT                  0.0    macrocell_plz8  ordinal   \n",
       "82    SEMIO_DOM                  0.0         community  ordinal   \n",
       "83  SEMIO_TRADV                  0.0         community  ordinal   \n",
       "84     ZABEOTYP                  0.0         community  ordinal   \n",
       "\n",
       "           nan_degree  \n",
       "75  no_missing_values  \n",
       "76  no_missing_values  \n",
       "77  no_missing_values  \n",
       "78  no_missing_values  \n",
       "79  no_missing_values  \n",
       "80  no_missing_values  \n",
       "81  no_missing_values  \n",
       "82  no_missing_values  \n",
       "83  no_missing_values  \n",
       "84  no_missing_values  "
      ]
     },
     "execution_count": 113,
     "metadata": {},
     "output_type": "execute_result"
    }
   ],
   "source": [
    "miss_values_df.tail(10)"
   ]
  },
  {
   "cell_type": "code",
   "execution_count": 114,
   "metadata": {},
   "outputs": [
    {
     "data": {
      "image/png": "[encoded data removed]",
      "text/plain": [
       "<Figure size 1008x576 with 1 Axes>"
      ]
     },
     "metadata": {
      "needs_background": "light"
     },
     "output_type": "display_data"
    }
   ],
   "source": [
    "fig, ax1 = plt.subplots(figsize=(14,8))\n",
    "order = ['person', 'household', 'building', 'postcode', 'community','macrocell_plz8', 'microcell_rr4', 'region_rr1' ,\n",
    "       'microcell_rr3']\n",
    "hue_order = ['no_missing_values', 'low%_missing_values', 'medium%_missing_values', 'high%_missing_values']\n",
    "sns.countplot(data=miss_values_df ,\n",
    "              x='information_level',\n",
    "              hue='nan_degree',\n",
    "              order=order,\n",
    "              hue_order=hue_order,\n",
    "              ax=ax1)\n",
    "plt.legend(loc='upper right')\n",
    "sns.despine(ax=ax1);"
   ]
  },
  {
   "cell_type": "code",
   "execution_count": 115,
   "metadata": {},
   "outputs": [
    {
     "name": "stdout",
     "output_type": "stream",
     "text": [
      "0           TITEL_KZ\n",
      "1           AGER_TYP\n",
      "2       KK_KUNDENTYP\n",
      "3       KBA05_BAUMAX\n",
      "4        GEBURTSJAHR\n",
      "5           ALTER_HH\n",
      "6                KKK\n",
      "7           REGIOTYP\n",
      "8     W_KEIT_KIND_HH\n",
      "9        KBA05_ANTG1\n",
      "10       KBA05_ANTG2\n",
      "11       KBA05_ANTG3\n",
      "12       KBA05_ANTG4\n",
      "13         KBA05_GBZ\n",
      "14        MOBI_REGIO\n",
      "Name: features, dtype: object\n"
     ]
    },
    {
     "data": {
      "text/plain": [
       "(891221, 70)"
      ]
     },
     "execution_count": 115,
     "metadata": {},
     "output_type": "execute_result"
    }
   ],
   "source": [
    "# Removing outliers from the data frame based on the percentage of missing values:\n",
    "\n",
    "outliers = miss_values_df[miss_values_df['missing_values_mean']>0.14].features\n",
    "print(outliers)\n",
    "azdias.drop(outliers, axis=1, inplace=True)\n",
    "azdias.shape"
   ]
  },
  {
   "cell_type": "markdown",
   "metadata": {},
   "source": [
    "#### Discussion 1.1.2: Assess Missing Data in Each Column\n",
    "\n",
    "(Double click this cell and replace this text with your own text, reporting your observations regarding the amount of missing data in each column. Are there any patterns in missing values? Which columns were removed from the dataset?)\n",
    "\n",
    "- The number of features with no missing values = 24 \n",
    "- All the features have a variable missing data rate with around 11% in average including those with no missing data.  \n",
    "- Almost 17.6% of the features have missing data rate > 0.14     \n",
    "- The number of features considered to have a high missing values = 15\n",
    "- The features which are collected from persons have the highest missing data.\n",
    "- The features that have been removed due to high missing data rate \">14%\" are: [TITEL_KZ, AGER_TYP, KK_KUNDENTYP, KBA05_BAUMAX, GEBURTSJAHR, ALTER_HH, KKK, REGIOTYP, W_KEIT_KIND_HH, KBA05_ANTG1, KBA05_ANTG2, KBA05_ANTG3, KBA05_ANTG4, KBA05_GBZ, MOBI_REGIO]\n",
    "\n"
   ]
  },
  {
   "cell_type": "markdown",
   "metadata": {},
   "source": [
    "#### Step 1.1.3: Assess Missing Data in Each Row\n",
    "\n",
    "Now, you'll perform a similar assessment for the rows of the dataset. How much data is missing in each row? As with the columns, you should see some groups of points that have a very different numbers of missing values. Divide the data into two subsets: one for data points that are above some threshold for missing values, and a second subset for points below that threshold.\n",
    "\n",
    "In order to know what to do with the outlier rows, we should see if the distribution of data values on columns that are not missing data (or are missing very little data) are similar or different between the two groups. Select at least five of these columns and compare the distribution of values.\n",
    "- You can use seaborn's [`countplot()`](https://seaborn.pydata.org/generated/seaborn.countplot.html) function to create a bar chart of code frequencies and matplotlib's [`subplot()`](https://matplotlib.org/api/_as_gen/matplotlib.pyplot.subplot.html) function to put bar charts for the two subplots side by side.\n",
    "- To reduce repeated code, you might want to write a function that can perform this comparison, taking as one of its arguments a column to be compared.\n",
    "\n",
    "Depending on what you observe in your comparison, this will have implications on how you approach your conclusions later in the analysis. If the distributions of non-missing features look similar between the data with many missing values and the data with few or no missing values, then we could argue that simply dropping those points from the analysis won't present a major issue. On the other hand, if the data with many missing values looks very different from the data with few or no missing values, then we should make a note on those data as special. We'll revisit these data later on. **Either way, you should continue your analysis for now using just the subset of the data with few or no missing values.**"
   ]
  },
  {
   "cell_type": "code",
   "execution_count": 116,
   "metadata": {},
   "outputs": [
    {
     "name": "stdout",
     "output_type": "stream",
     "text": [
      "count    891221.000000\n",
      "mean          0.060451\n",
      "std           0.150720\n",
      "min           0.000000\n",
      "25%           0.000000\n",
      "50%           0.000000\n",
      "75%           0.000000\n",
      "max           0.571429\n",
      "Name: row_missing_data, dtype: float64\n"
     ]
    }
   ],
   "source": [
    "# Identification of the amount of missing data in each row:\n",
    "azdias['row_missing_data'] = azdias.isnull().mean(axis=1)\n",
    "print(azdias['row_missing_data'].describe())"
   ]
  },
  {
   "cell_type": "code",
   "execution_count": 117,
   "metadata": {},
   "outputs": [
    {
     "data": {
      "text/plain": [
       "0         0.485714\n",
       "1         0.000000\n",
       "2         0.000000\n",
       "3         0.057143\n",
       "4         0.000000\n",
       "            ...   \n",
       "891216    0.042857\n",
       "891217    0.057143\n",
       "891218    0.057143\n",
       "891219    0.000000\n",
       "891220    0.000000\n",
       "Name: row_missing_data, Length: 891221, dtype: float64"
      ]
     },
     "execution_count": 117,
     "metadata": {},
     "output_type": "execute_result"
    }
   ],
   "source": [
    "azdias['row_missing_data']"
   ]
  },
  {
   "cell_type": "code",
   "execution_count": 118,
   "metadata": {},
   "outputs": [
    {
     "data": {
      "image/png": "[encoded data removed]",
      "text/plain": [
       "<Figure size 432x288 with 1 Axes>"
      ]
     },
     "metadata": {
      "needs_background": "light"
     },
     "output_type": "display_data"
    }
   ],
   "source": [
    "# Create a distribution plot to determine the threshold value:\n",
    "plt.hist(azdias['row_missing_data'], bins=30);"
   ]
  },
  {
   "cell_type": "code",
   "execution_count": 119,
   "metadata": {},
   "outputs": [
    {
     "name": "stdout",
     "output_type": "stream",
     "text": [
      "The number of rows with missing values lower than 0.12 = 787633, percentage of 88.37684480056012%\n",
      "The number of rows with missing values greater than 0.12 = 103588, percentage of 11.62315519943987%\n"
     ]
    }
   ],
   "source": [
    "# Dividing the data into two subsets based on the number of missing values in each row:\n",
    "threshhold_value = 0.12\n",
    "low_missing_data_rows = azdias.loc[azdias['row_missing_data'] < threshhold_value]\n",
    "high_missing_data_rows = azdias.loc[azdias['row_missing_data'] > threshhold_value]\n",
    "print('The number of rows with missing values lower than 0.12 = {}, percentage of {}%'.format(low_missing_data_rows.shape[0], (low_missing_data_rows.shape[0]/azdias.shape[0])*100))\n",
    "print('The number of rows with missing values greater than 0.12 = {}, percentage of {}%'.format(high_missing_data_rows.shape[0], (high_missing_data_rows.shape[0]/azdias.shape[0])*100))\n"
   ]
  },
  {
   "cell_type": "code",
   "execution_count": 120,
   "metadata": {},
   "outputs": [
    {
     "name": "stdout",
     "output_type": "stream",
     "text": [
      "The number of columns with no missing data = 25\n"
     ]
    },
    {
     "data": {
      "text/plain": [
       "['SEMIO_LUST',\n",
       " 'GREEN_AVANTGARDE',\n",
       " 'FINANZ_VORSORGER',\n",
       " 'SEMIO_FAM',\n",
       " 'SEMIO_TRADV',\n",
       " 'SEMIO_ERL']"
      ]
     },
     "execution_count": 120,
     "metadata": {},
     "output_type": "execute_result"
    }
   ],
   "source": [
    "# Compare the distribution of values for at least five columns where there are no or few missing values, between the two subsets.\n",
    "# comparing the two subsets\n",
    "\n",
    "# Columns with no missing values and rows of no missing values :\n",
    "low_missing_data_columns = low_missing_data_rows.dropna(axis=1)\n",
    "\n",
    "# Columns with no missing values and rows of high missing values:\n",
    "high_missing_data_columns = high_missing_data_rows.dropna(axis=1)\n",
    "\n",
    "# Columns with no missing values:\n",
    "no_missing_data_columns = list(set(low_missing_data_columns.columns).intersection(high_missing_data_columns.columns))\n",
    "\n",
    "print('The number of columns with no missing data = {}'.format(len(no_missing_data_columns)))\n",
    "no_missing_data_columns[:6]\n"
   ]
  },
  {
   "cell_type": "code",
   "execution_count": 32,
   "metadata": {},
   "outputs": [
    {
     "name": "stderr",
     "output_type": "stream",
     "text": [
      "C:\\Users\\AHMED TAMAN\\Anaconda3\\lib\\site-packages\\seaborn\\_decorators.py:36: FutureWarning: Pass the following variable as a keyword arg: x. From version 0.12, the only valid positional argument will be `data`, and passing other arguments without an explicit keyword will result in an error or misinterpretation.\n",
      "  warnings.warn(\n",
      "C:\\Users\\AHMED TAMAN\\Anaconda3\\lib\\site-packages\\seaborn\\_decorators.py:36: FutureWarning: Pass the following variable as a keyword arg: x. From version 0.12, the only valid positional argument will be `data`, and passing other arguments without an explicit keyword will result in an error or misinterpretation.\n",
      "  warnings.warn(\n"
     ]
    },
    {
     "data": {
      "image/png": "[encoded data removed]",
      "text/plain": [
       "<Figure size 864x216 with 2 Axes>"
      ]
     },
     "metadata": {
      "needs_background": "light"
     },
     "output_type": "display_data"
    },
    {
     "name": "stderr",
     "output_type": "stream",
     "text": [
      "C:\\Users\\AHMED TAMAN\\Anaconda3\\lib\\site-packages\\seaborn\\_decorators.py:36: FutureWarning: Pass the following variable as a keyword arg: x. From version 0.12, the only valid positional argument will be `data`, and passing other arguments without an explicit keyword will result in an error or misinterpretation.\n",
      "  warnings.warn(\n",
      "C:\\Users\\AHMED TAMAN\\Anaconda3\\lib\\site-packages\\seaborn\\_decorators.py:36: FutureWarning: Pass the following variable as a keyword arg: x. From version 0.12, the only valid positional argument will be `data`, and passing other arguments without an explicit keyword will result in an error or misinterpretation.\n",
      "  warnings.warn(\n"
     ]
    },
    {
     "data": {
      "image/png": "[encoded data removed]",
      "text/plain": [
       "<Figure size 864x216 with 2 Axes>"
      ]
     },
     "metadata": {
      "needs_background": "light"
     },
     "output_type": "display_data"
    },
    {
     "name": "stderr",
     "output_type": "stream",
     "text": [
      "C:\\Users\\AHMED TAMAN\\Anaconda3\\lib\\site-packages\\seaborn\\_decorators.py:36: FutureWarning: Pass the following variable as a keyword arg: x. From version 0.12, the only valid positional argument will be `data`, and passing other arguments without an explicit keyword will result in an error or misinterpretation.\n",
      "  warnings.warn(\n",
      "C:\\Users\\AHMED TAMAN\\Anaconda3\\lib\\site-packages\\seaborn\\_decorators.py:36: FutureWarning: Pass the following variable as a keyword arg: x. From version 0.12, the only valid positional argument will be `data`, and passing other arguments without an explicit keyword will result in an error or misinterpretation.\n",
      "  warnings.warn(\n"
     ]
    },
    {
     "data": {
      "image/png": "[encoded data removed]",
      "text/plain": [
       "<Figure size 864x216 with 2 Axes>"
      ]
     },
     "metadata": {
      "needs_background": "light"
     },
     "output_type": "display_data"
    },
    {
     "name": "stderr",
     "output_type": "stream",
     "text": [
      "C:\\Users\\AHMED TAMAN\\Anaconda3\\lib\\site-packages\\seaborn\\_decorators.py:36: FutureWarning: Pass the following variable as a keyword arg: x. From version 0.12, the only valid positional argument will be `data`, and passing other arguments without an explicit keyword will result in an error or misinterpretation.\n",
      "  warnings.warn(\n",
      "C:\\Users\\AHMED TAMAN\\Anaconda3\\lib\\site-packages\\seaborn\\_decorators.py:36: FutureWarning: Pass the following variable as a keyword arg: x. From version 0.12, the only valid positional argument will be `data`, and passing other arguments without an explicit keyword will result in an error or misinterpretation.\n",
      "  warnings.warn(\n"
     ]
    },
    {
     "data": {
      "image/png": "[encoded data removed]",
      "text/plain": [
       "<Figure size 864x216 with 2 Axes>"
      ]
     },
     "metadata": {
      "needs_background": "light"
     },
     "output_type": "display_data"
    },
    {
     "name": "stderr",
     "output_type": "stream",
     "text": [
      "C:\\Users\\AHMED TAMAN\\Anaconda3\\lib\\site-packages\\seaborn\\_decorators.py:36: FutureWarning: Pass the following variable as a keyword arg: x. From version 0.12, the only valid positional argument will be `data`, and passing other arguments without an explicit keyword will result in an error or misinterpretation.\n",
      "  warnings.warn(\n",
      "C:\\Users\\AHMED TAMAN\\Anaconda3\\lib\\site-packages\\seaborn\\_decorators.py:36: FutureWarning: Pass the following variable as a keyword arg: x. From version 0.12, the only valid positional argument will be `data`, and passing other arguments without an explicit keyword will result in an error or misinterpretation.\n",
      "  warnings.warn(\n"
     ]
    },
    {
     "data": {
      "image/png": "[encoded data removed]",
      "text/plain": [
       "<Figure size 864x216 with 2 Axes>"
      ]
     },
     "metadata": {
      "needs_background": "light"
     },
     "output_type": "display_data"
    }
   ],
   "source": [
    "# Defining a function to create a count plot for two  groups:\n",
    "def compare(column, df1, df2):\n",
    "    fig, axes = plt.subplots(1, 2, figsize=(12, 3))\n",
    "    ax1 = plt.subplot(1,2,1)\n",
    "    ax1 = sns.countplot(df1[column], color='g')\n",
    "    ax2 = plt.subplot(1, 2, 2, sharey=ax1)\n",
    "    ax2 = sns.countplot(df2[column], color='r')\n",
    "    plt.show()\n",
    "\n",
    "# Comaring the distribution of values for 5 columns:\n",
    "for col in no_missing_data_columns[:5]:\n",
    "    compare(col, low_missing_data_columns, high_missing_data_columns)"
   ]
  },
  {
   "cell_type": "code",
   "execution_count": 121,
   "metadata": {},
   "outputs": [
    {
     "name": "stdout",
     "output_type": "stream",
     "text": [
      "   ALTERSKATEGORIE_GROB  ANREDE_KZ  CJT_GESAMTTYP  FINANZ_MINIMALIST  \\\n",
      "1                   1.0        2.0            5.0                1.0   \n",
      "2                   3.0        2.0            3.0                1.0   \n",
      "3                   4.0        2.0            2.0                4.0   \n",
      "4                   3.0        1.0            5.0                4.0   \n",
      "5                   1.0        2.0            2.0                3.0   \n",
      "\n",
      "   FINANZ_SPARER  FINANZ_VORSORGER  FINANZ_ANLEGER  FINANZ_UNAUFFAELLIGER  \\\n",
      "1            5.0               2.0             5.0                    4.0   \n",
      "2            4.0               1.0             2.0                    3.0   \n",
      "3            2.0               5.0             2.0                    1.0   \n",
      "4            3.0               4.0             1.0                    3.0   \n",
      "5            1.0               5.0             2.0                    2.0   \n",
      "\n",
      "   FINANZ_HAUSBAUER  FINANZTYP  ...  PLZ8_ANTG1  PLZ8_ANTG2  PLZ8_ANTG3  \\\n",
      "1               5.0        1.0  ...         2.0         3.0         2.0   \n",
      "2               5.0        1.0  ...         3.0         3.0         1.0   \n",
      "3               2.0        6.0  ...         2.0         2.0         2.0   \n",
      "4               2.0        5.0  ...         2.0         4.0         2.0   \n",
      "5               5.0        2.0  ...         2.0         3.0         1.0   \n",
      "\n",
      "   PLZ8_ANTG4  PLZ8_BAUMAX  PLZ8_HHZ  PLZ8_GBZ  ARBEIT  ORTSGR_KLS9  RELAT_AB  \n",
      "1         1.0          1.0       5.0       4.0     3.0          5.0       4.0  \n",
      "2         0.0          1.0       4.0       4.0     3.0          5.0       2.0  \n",
      "3         0.0          1.0       3.0       4.0     2.0          3.0       3.0  \n",
      "4         1.0          2.0       3.0       3.0     4.0          6.0       5.0  \n",
      "5         1.0          1.0       5.0       5.0     2.0          3.0       3.0  \n",
      "\n",
      "[5 rows x 70 columns]\n",
      "(787633, 70)\n"
     ]
    }
   ],
   "source": [
    "# Removing rows with high missing data:\n",
    "df = low_missing_data_rows\n",
    "# Drop the 'row_nan_pct' column\n",
    "df = df.drop('row_missing_data', axis=1)\n",
    "print(df.head())\n",
    "print(df.shape)"
   ]
  },
  {
   "cell_type": "markdown",
   "metadata": {},
   "source": [
    "#### Discussion 1.1.3: Assess Missing Data in Each Row\n",
    "\n",
    "(Double-click this cell and replace this text with your own text, reporting your observations regarding missing data in rows. Are the data with lots of missing values are qualitatively different from data with few or no missing values?)\n",
    "\n",
    "- The max missing data rate for all the rows = 0.571429\n",
    "- 75% of the rows have missing data rate = 0\n",
    "- Threshhold of 0.12 have been used to classify the data into 2 separate groups to compare the data distribution. \n",
    "- Percentage of rows have missing values > 0.12 = 11.6%\n",
    "- Percentage of rows have missing values < 0.12 = 88.4%\n",
    "- The distributions of the first five columns are discontinuous and appear to be quite different."
   ]
  },
  {
   "cell_type": "markdown",
   "metadata": {},
   "source": [
    "### Step 1.2: Select and Re-Encode Features\n",
    "\n",
    "Checking for missing data isn't the only way in which you can prepare a dataset for analysis. Since the unsupervised learning techniques to be used will only work on data that is encoded numerically, you need to make a few encoding changes or additional assumptions to be able to make progress. In addition, while almost all of the values in the dataset are encoded using numbers, not all of them represent numeric values. Check the third column of the feature summary (`feat_info`) for a summary of types of measurement.\n",
    "- For numeric and interval data, these features can be kept without changes.\n",
    "- Most of the variables in the dataset are ordinal in nature. While ordinal values may technically be non-linear in spacing, make the simplifying assumption that the ordinal variables can be treated as being interval in nature (that is, kept without any changes).\n",
    "- Special handling may be necessary for the remaining two variable types: categorical, and 'mixed'.\n",
    "\n",
    "In the first two parts of this sub-step, you will perform an investigation of the categorical and mixed-type features and make a decision on each of them, whether you will keep, drop, or re-encode each. Then, in the last part, you will create a new data frame with only the selected and engineered columns.\n",
    "\n",
    "Data wrangling is often the trickiest part of the data analysis process, and there's a lot of it to be done here. But stick with it: once you're done with this step, you'll be ready to get to the machine learning parts of the project!"
   ]
  },
  {
   "cell_type": "code",
   "execution_count": 122,
   "metadata": {},
   "outputs": [
    {
     "data": {
      "text/plain": [
       "array(['categorical', 'ordinal', 'numeric', 'mixed', 'interval'],\n",
       "      dtype=object)"
      ]
     },
     "execution_count": 122,
     "metadata": {},
     "output_type": "execute_result"
    }
   ],
   "source": [
    "feat_info['type'].unique()"
   ]
  },
  {
   "cell_type": "code",
   "execution_count": 123,
   "metadata": {},
   "outputs": [
    {
     "data": {
      "text/plain": [
       "(70, 3)"
      ]
     },
     "execution_count": 123,
     "metadata": {},
     "output_type": "execute_result"
    }
   ],
   "source": [
    "# filtering feat_info based on the selected columns:\n",
    "feat_info = feat_info[feat_info.columns[:-1]]\n",
    "feat_info = feat_info[feat_info.attribute.isin(df.columns)]\n",
    "feat_info.shape"
   ]
  },
  {
   "cell_type": "code",
   "execution_count": 124,
   "metadata": {},
   "outputs": [
    {
     "name": "stdout",
     "output_type": "stream",
     "text": [
      "The number of features with type: ordinal = 40\n",
      "The number of features with type: categorical = 18\n",
      "The number of features with type: mixed = 6\n",
      "The number of features with type: numeric = 6\n"
     ]
    }
   ],
   "source": [
    "# Exploring the remaining features with respect to its info type:\n",
    "for feat_type in feat_info['type'].unique():\n",
    "    print('The number of features with type: {} = {}'.format(feat_type, feat_info.loc[feat_info['type'] == feat_type].shape[0]))"
   ]
  },
  {
   "cell_type": "markdown",
   "metadata": {},
   "source": [
    "#### Step 1.2.1: Re-Encode Categorical Features\n",
    "\n",
    "For categorical data, you would ordinarily need to encode the levels as dummy variables. Depending on the number of categories, perform one of the following:\n",
    "- For binary (two-level) categoricals that take numeric values, you can keep them without needing to do anything.\n",
    "- There is one binary variable that takes on non-numeric values. For this one, you need to re-encode the values as numbers or create a dummy variable.\n",
    "- For multi-level categoricals (three or more values), you can choose to encode the values using multiple dummy variables (e.g. via [OneHotEncoder](http://scikit-learn.org/stable/modules/generated/sklearn.preprocessing.OneHotEncoder.html)), or (to keep things straightforward) just drop them from the analysis. As always, document your choices in the Discussion section."
   ]
  },
  {
   "cell_type": "code",
   "execution_count": 125,
   "metadata": {},
   "outputs": [
    {
     "data": {
      "text/plain": [
       "2            ANREDE_KZ\n",
       "3        CJT_GESAMTTYP\n",
       "10           FINANZTYP\n",
       "12     GFK_URLAUBERTYP\n",
       "13    GREEN_AVANTGARDE\n",
       "17     LP_FAMILIE_FEIN\n",
       "18     LP_FAMILIE_GROB\n",
       "19      LP_STATUS_FEIN\n",
       "20      LP_STATUS_GROB\n",
       "21    NATIONALITAET_KZ\n",
       "38         SHOPPER_TYP\n",
       "39             SOHO_KZ\n",
       "41            VERS_TYP\n",
       "42            ZABEOTYP\n",
       "52         GEBAEUDETYP\n",
       "55         OST_WEST_KZ\n",
       "57     CAMEO_DEUG_2015\n",
       "58      CAMEO_DEU_2015\n",
       "Name: attribute, dtype: object"
      ]
     },
     "execution_count": 125,
     "metadata": {},
     "output_type": "execute_result"
    }
   ],
   "source": [
    "# Assessement of categorical variables:\n",
    "df_categorical_columns = feat_info[feat_info.type == 'categorical'].attribute\n",
    "df_categorical_columns"
   ]
  },
  {
   "cell_type": "code",
   "execution_count": 126,
   "metadata": {},
   "outputs": [
    {
     "name": "stdout",
     "output_type": "stream",
     "text": [
      "ANREDE_KZ            2\n",
      "OST_WEST_KZ          2\n",
      "VERS_TYP             2\n",
      "SOHO_KZ              2\n",
      "GREEN_AVANTGARDE     2\n",
      "NATIONALITAET_KZ     3\n",
      "SHOPPER_TYP          4\n",
      "LP_STATUS_GROB       5\n",
      "LP_FAMILIE_GROB      5\n",
      "FINANZTYP            6\n",
      "ZABEOTYP             6\n",
      "CJT_GESAMTTYP        6\n",
      "GEBAEUDETYP          7\n",
      "CAMEO_DEUG_2015      9\n",
      "LP_STATUS_FEIN      10\n",
      "LP_FAMILIE_FEIN     11\n",
      "GFK_URLAUBERTYP     12\n",
      "CAMEO_DEU_2015      44\n",
      "dtype: int64\n"
     ]
    }
   ],
   "source": [
    "print(df[df_categorical_columns].nunique().sort_values())"
   ]
  },
  {
   "cell_type": "code",
   "execution_count": 127,
   "metadata": {},
   "outputs": [
    {
     "data": {
      "text/plain": [
       "ANREDE_KZ           float64\n",
       "CJT_GESAMTTYP       float64\n",
       "FINANZTYP           float64\n",
       "GFK_URLAUBERTYP     float64\n",
       "GREEN_AVANTGARDE    float64\n",
       "LP_FAMILIE_FEIN     float64\n",
       "LP_FAMILIE_GROB     float64\n",
       "LP_STATUS_FEIN      float64\n",
       "LP_STATUS_GROB      float64\n",
       "NATIONALITAET_KZ    float64\n",
       "SHOPPER_TYP         float64\n",
       "SOHO_KZ             float64\n",
       "VERS_TYP            float64\n",
       "ZABEOTYP            float64\n",
       "GEBAEUDETYP         float64\n",
       "OST_WEST_KZ          object\n",
       "CAMEO_DEUG_2015      object\n",
       "CAMEO_DEU_2015       object\n",
       "dtype: object"
      ]
     },
     "execution_count": 127,
     "metadata": {},
     "output_type": "execute_result"
    }
   ],
   "source": [
    "df[df_categorical_columns].dtypes"
   ]
  },
  {
   "cell_type": "code",
   "execution_count": 128,
   "metadata": {},
   "outputs": [
    {
     "data": {
      "text/html": [
       "<div>\n",
       "<style scoped>\n",
       "    .dataframe tbody tr th:only-of-type {\n",
       "        vertical-align: middle;\n",
       "    }\n",
       "\n",
       "    .dataframe tbody tr th {\n",
       "        vertical-align: top;\n",
       "    }\n",
       "\n",
       "    .dataframe thead th {\n",
       "        text-align: right;\n",
       "    }\n",
       "</style>\n",
       "<table border=\"1\" class=\"dataframe\">\n",
       "  <thead>\n",
       "    <tr style=\"text-align: right;\">\n",
       "      <th></th>\n",
       "      <th>OST_WEST_KZ</th>\n",
       "      <th>CAMEO_DEUG_2015</th>\n",
       "      <th>CAMEO_DEU_2015</th>\n",
       "    </tr>\n",
       "  </thead>\n",
       "  <tbody>\n",
       "    <tr>\n",
       "      <th>1</th>\n",
       "      <td>W</td>\n",
       "      <td>8</td>\n",
       "      <td>8A</td>\n",
       "    </tr>\n",
       "    <tr>\n",
       "      <th>2</th>\n",
       "      <td>W</td>\n",
       "      <td>4</td>\n",
       "      <td>4C</td>\n",
       "    </tr>\n",
       "    <tr>\n",
       "      <th>3</th>\n",
       "      <td>W</td>\n",
       "      <td>2</td>\n",
       "      <td>2A</td>\n",
       "    </tr>\n",
       "    <tr>\n",
       "      <th>4</th>\n",
       "      <td>W</td>\n",
       "      <td>6</td>\n",
       "      <td>6B</td>\n",
       "    </tr>\n",
       "    <tr>\n",
       "      <th>5</th>\n",
       "      <td>W</td>\n",
       "      <td>8</td>\n",
       "      <td>8C</td>\n",
       "    </tr>\n",
       "    <tr>\n",
       "      <th>6</th>\n",
       "      <td>W</td>\n",
       "      <td>4</td>\n",
       "      <td>4A</td>\n",
       "    </tr>\n",
       "    <tr>\n",
       "      <th>7</th>\n",
       "      <td>W</td>\n",
       "      <td>2</td>\n",
       "      <td>2D</td>\n",
       "    </tr>\n",
       "    <tr>\n",
       "      <th>8</th>\n",
       "      <td>W</td>\n",
       "      <td>1</td>\n",
       "      <td>1A</td>\n",
       "    </tr>\n",
       "    <tr>\n",
       "      <th>9</th>\n",
       "      <td>W</td>\n",
       "      <td>1</td>\n",
       "      <td>1E</td>\n",
       "    </tr>\n",
       "    <tr>\n",
       "      <th>10</th>\n",
       "      <td>W</td>\n",
       "      <td>9</td>\n",
       "      <td>9D</td>\n",
       "    </tr>\n",
       "  </tbody>\n",
       "</table>\n",
       "</div>"
      ],
      "text/plain": [
       "   OST_WEST_KZ CAMEO_DEUG_2015 CAMEO_DEU_2015\n",
       "1            W               8             8A\n",
       "2            W               4             4C\n",
       "3            W               2             2A\n",
       "4            W               6             6B\n",
       "5            W               8             8C\n",
       "6            W               4             4A\n",
       "7            W               2             2D\n",
       "8            W               1             1A\n",
       "9            W               1             1E\n",
       "10           W               9             9D"
      ]
     },
     "execution_count": 128,
     "metadata": {},
     "output_type": "execute_result"
    }
   ],
   "source": [
    "df[df_categorical_columns[-3:]].head(10)"
   ]
  },
  {
   "cell_type": "code",
   "execution_count": 129,
   "metadata": {},
   "outputs": [
    {
     "data": {
      "text/plain": [
       "array(['W', 'O'], dtype=object)"
      ]
     },
     "execution_count": 129,
     "metadata": {},
     "output_type": "execute_result"
    }
   ],
   "source": [
    "df['OST_WEST_KZ'].unique()"
   ]
  },
  {
   "cell_type": "code",
   "execution_count": 130,
   "metadata": {},
   "outputs": [],
   "source": [
    "# Encoding the data for OST_WEST_KZ feature:\n",
    "df['OST_WEST_KZ'] = df['OST_WEST_KZ'].replace({'O': 0, 'W': 1})"
   ]
  },
  {
   "cell_type": "code",
   "execution_count": 131,
   "metadata": {},
   "outputs": [
    {
     "data": {
      "text/plain": [
       "NATIONALITAET_KZ     3\n",
       "SHOPPER_TYP          4\n",
       "LP_FAMILIE_GROB      5\n",
       "LP_STATUS_GROB       5\n",
       "CJT_GESAMTTYP        6\n",
       "FINANZTYP            6\n",
       "ZABEOTYP             6\n",
       "GEBAEUDETYP          7\n",
       "CAMEO_DEUG_2015      9\n",
       "LP_STATUS_FEIN      10\n",
       "LP_FAMILIE_FEIN     11\n",
       "GFK_URLAUBERTYP     12\n",
       "CAMEO_DEU_2015      44\n",
       "dtype: int64"
      ]
     },
     "execution_count": 131,
     "metadata": {},
     "output_type": "execute_result"
    }
   ],
   "source": [
    "# Selecting the multilevel categorical features:\n",
    "categorical_nunique = df[df_categorical_columns].nunique()\n",
    "categorical_to_encode = categorical_nunique[categorical_nunique>2]\n",
    "categorical_to_encode.sort_values()"
   ]
  },
  {
   "cell_type": "code",
   "execution_count": 132,
   "metadata": {},
   "outputs": [
    {
     "data": {
      "text/plain": [
       "(787633, 70)"
      ]
     },
     "execution_count": 132,
     "metadata": {},
     "output_type": "execute_result"
    }
   ],
   "source": [
    "df.shape"
   ]
  },
  {
   "cell_type": "code",
   "execution_count": 133,
   "metadata": {},
   "outputs": [
    {
     "data": {
      "text/plain": [
       "(787633, 57)"
      ]
     },
     "execution_count": 133,
     "metadata": {},
     "output_type": "execute_result"
    }
   ],
   "source": [
    "# Dropping the multilevel categorical features:\n",
    "df = df.drop(columns=categorical_to_encode.index, axis=0)\n",
    "df.shape"
   ]
  },
  {
   "cell_type": "markdown",
   "metadata": {},
   "source": [
    "#### Discussion 1.2.1: Re-Encode Categorical Features\n",
    "\n",
    "(Double-click this cell and replace this text with your own text, reporting your findings and decisions regarding categorical features. Which ones did you keep, which did you drop, and what engineering steps did you perform?)\n",
    "\n",
    "- Data contains 18 categorical features.\n",
    "- OST WEST KZ: has two values O, W that have been re-encoded to 0, 1, respectively.\n",
    "- CAMEO DEUG 2015: contains 9 numeric values encoded as object dtype.\n",
    "- The remaining binary features have been kept as they are.  \n",
    "- 13 multilevel features are dropped to keep things straightforward for the following steps.  "
   ]
  },
  {
   "cell_type": "markdown",
   "metadata": {},
   "source": [
    "#### Step 1.2.2: Engineer Mixed-Type Features\n",
    "\n",
    "There are a handful of features that are marked as \"mixed\" in the feature summary that require special treatment in order to be included in the analysis. There are two in particular that deserve attention; the handling of the rest are up to your own choices:\n",
    "- \"PRAEGENDE_JUGENDJAHRE\" combines information on three dimensions: generation by decade, movement (mainstream vs. avantgarde), and nation (east vs. west). While there aren't enough levels to disentangle east from west, you should create two new variables to capture the other two dimensions: an interval-type variable for decade, and a binary variable for movement.\n",
    "- \"CAMEO_INTL_2015\" combines information on two axes: wealth and life stage. Break up the two-digit codes by their 'tens'-place and 'ones'-place digits into two new ordinal variables (which, for the purposes of this project, is equivalent to just treating them as their raw numeric values).\n",
    "- If you decide to keep or engineer new features around the other mixed-type features, make sure you note your steps in the Discussion section.\n",
    "\n",
    "Be sure to check `Data_Dictionary.md` for the details needed to finish these tasks."
   ]
  },
  {
   "cell_type": "code",
   "execution_count": 134,
   "metadata": {},
   "outputs": [
    {
     "data": {
      "text/plain": [
       "15      LP_LEBENSPHASE_FEIN\n",
       "16      LP_LEBENSPHASE_GROB\n",
       "22    PRAEGENDE_JUGENDJAHRE\n",
       "56                 WOHNLAGE\n",
       "59          CAMEO_INTL_2015\n",
       "79              PLZ8_BAUMAX\n",
       "Name: attribute, dtype: object"
      ]
     },
     "execution_count": 134,
     "metadata": {},
     "output_type": "execute_result"
    }
   ],
   "source": [
    "mixed_columns = feat_info.loc[feat_info['type'] == 'mixed'].attribute\n",
    "mixed_columns"
   ]
  },
  {
   "cell_type": "code",
   "execution_count": 135,
   "metadata": {},
   "outputs": [
    {
     "name": "stdout",
     "output_type": "stream",
     "text": [
      "<class 'pandas.core.frame.DataFrame'>\n",
      "Int64Index: 787633 entries, 1 to 891220\n",
      "Data columns (total 6 columns):\n",
      " #   Column                 Non-Null Count   Dtype  \n",
      "---  ------                 --------------   -----  \n",
      " 0   LP_LEBENSPHASE_FEIN    744429 non-null  float64\n",
      " 1   LP_LEBENSPHASE_GROB    747152 non-null  float64\n",
      " 2   PRAEGENDE_JUGENDJAHRE  761234 non-null  float64\n",
      " 3   WOHNLAGE               787633 non-null  float64\n",
      " 4   CAMEO_INTL_2015        783990 non-null  object \n",
      " 5   PLZ8_BAUMAX            769167 non-null  float64\n",
      "dtypes: float64(5), object(1)\n",
      "memory usage: 42.1+ MB\n"
     ]
    }
   ],
   "source": [
    "df[mixed_columns].info()"
   ]
  },
  {
   "cell_type": "code",
   "execution_count": 136,
   "metadata": {},
   "outputs": [
    {
     "data": {
      "text/plain": [
       "array([14., 15.,  8.,  3., 10., 11.,  5.,  9.,  6.,  4., nan,  2.,  1.,\n",
       "       12., 13.,  7.])"
      ]
     },
     "execution_count": 136,
     "metadata": {},
     "output_type": "execute_result"
    }
   ],
   "source": [
    "df['PRAEGENDE_JUGENDJAHRE'].unique()"
   ]
  },
  {
   "cell_type": "code",
   "execution_count": 137,
   "metadata": {},
   "outputs": [],
   "source": [
    "# Investigating \"PRAEGENDE_JUGENDJAHRE\" and engineering two new variables:\n",
    "decade_dict = {1: 1, 2: 1, 3: 2, 4: 2, 5: 3, 6: 3, 7:  3,\n",
    "               8: 4, 9: 4, 10: 5, 11: 5, 12: 5, 13: 5,\n",
    "               14: 6, 15: 6\n",
    "              }\n",
    "movement_dict = {1: 1, 3: 1, 5: 1, 8: 1, 10: 1, 12: 1, 14: 1,\n",
    "                2: 2, 4: 2, 6: 2, 7: 2, 9: 2, 11: 2, 13: 2, 15: 2\n",
    "                }\n",
    "\n",
    "df['engineered_decade'] = df['PRAEGENDE_JUGENDJAHRE'].map(decade_dict)\n",
    "df['engineered_movement'] = df['PRAEGENDE_JUGENDJAHRE'].map(movement_dict)\n"
   ]
  },
  {
   "cell_type": "code",
   "execution_count": 138,
   "metadata": {},
   "outputs": [
    {
     "name": "stdout",
     "output_type": "stream",
     "text": [
      "6.0    223219\n",
      "4.0    173318\n",
      "5.0    150167\n",
      "3.0    113195\n",
      "2.0     73546\n",
      "1.0     27789\n",
      "Name: engineered_decade, dtype: int64\n"
     ]
    }
   ],
   "source": [
    "print(df['engineered_decade'].value_counts())"
   ]
  },
  {
   "cell_type": "code",
   "execution_count": 199,
   "metadata": {},
   "outputs": [
    {
     "name": "stdout",
     "output_type": "stream",
     "text": [
      "1.0    588055\n",
      "2.0    173179\n",
      "Name: engineered_movement, dtype: int64\n"
     ]
    }
   ],
   "source": [
    "print(df['engineered_movement'].value_counts())"
   ]
  },
  {
   "cell_type": "code",
   "execution_count": 140,
   "metadata": {},
   "outputs": [],
   "source": [
    "def get_digit(num,digit):\n",
    "    if not pd.isnull(num):\n",
    "        num = int(str(num)[digit])\n",
    "    return num"
   ]
  },
  {
   "cell_type": "code",
   "execution_count": 141,
   "metadata": {},
   "outputs": [
    {
     "data": {
      "text/plain": [
       "array(['51', '24', '12', '43', '54', '22', '14', '13', '15', '33', '41',\n",
       "       '34', '55', '25', nan, '23', '31', '52', '35', '45', '44', '32'],\n",
       "      dtype=object)"
      ]
     },
     "execution_count": 141,
     "metadata": {},
     "output_type": "execute_result"
    }
   ],
   "source": [
    "df['CAMEO_INTL_2015'].unique()"
   ]
  },
  {
   "cell_type": "code",
   "execution_count": 142,
   "metadata": {},
   "outputs": [],
   "source": [
    "# Investigating \"CAMEO_INTL_2015\" and engineering two new variables:\n",
    "df['engineered_wealth'] = df['CAMEO_INTL_2015'].apply(get_digit, digit=0)\n",
    "df['engineered_life_stage'] = df['CAMEO_INTL_2015'].apply(get_digit, digit=1)"
   ]
  },
  {
   "cell_type": "code",
   "execution_count": 143,
   "metadata": {},
   "outputs": [
    {
     "name": "stdout",
     "output_type": "stream",
     "text": [
      "5.0    221463\n",
      "2.0    188638\n",
      "4.0    188159\n",
      "1.0    118275\n",
      "3.0     67455\n",
      "Name: engineered_wealth, dtype: int64\n"
     ]
    }
   ],
   "source": [
    "print(df['engineered_wealth'].value_counts())"
   ]
  },
  {
   "cell_type": "code",
   "execution_count": 144,
   "metadata": {},
   "outputs": [
    {
     "name": "stdout",
     "output_type": "stream",
     "text": [
      "1.0    242780\n",
      "4.0    230458\n",
      "3.0    118409\n",
      "5.0    115809\n",
      "2.0     76534\n",
      "Name: engineered_life_stage, dtype: int64\n"
     ]
    }
   ],
   "source": [
    "print(df['engineered_life_stage'].value_counts())"
   ]
  },
  {
   "cell_type": "code",
   "execution_count": 145,
   "metadata": {},
   "outputs": [],
   "source": [
    "# Dropping mixed dtype features:\n",
    "df = df.drop(mixed_columns , axis=1)"
   ]
  },
  {
   "cell_type": "code",
   "execution_count": 146,
   "metadata": {},
   "outputs": [
    {
     "data": {
      "text/html": [
       "<div>\n",
       "<style scoped>\n",
       "    .dataframe tbody tr th:only-of-type {\n",
       "        vertical-align: middle;\n",
       "    }\n",
       "\n",
       "    .dataframe tbody tr th {\n",
       "        vertical-align: top;\n",
       "    }\n",
       "\n",
       "    .dataframe thead th {\n",
       "        text-align: right;\n",
       "    }\n",
       "</style>\n",
       "<table border=\"1\" class=\"dataframe\">\n",
       "  <thead>\n",
       "    <tr style=\"text-align: right;\">\n",
       "      <th></th>\n",
       "      <th>ALTERSKATEGORIE_GROB</th>\n",
       "      <th>ANREDE_KZ</th>\n",
       "      <th>FINANZ_MINIMALIST</th>\n",
       "      <th>FINANZ_SPARER</th>\n",
       "      <th>FINANZ_VORSORGER</th>\n",
       "      <th>FINANZ_ANLEGER</th>\n",
       "      <th>FINANZ_UNAUFFAELLIGER</th>\n",
       "      <th>FINANZ_HAUSBAUER</th>\n",
       "      <th>GREEN_AVANTGARDE</th>\n",
       "      <th>HEALTH_TYP</th>\n",
       "      <th>...</th>\n",
       "      <th>PLZ8_ANTG4</th>\n",
       "      <th>PLZ8_HHZ</th>\n",
       "      <th>PLZ8_GBZ</th>\n",
       "      <th>ARBEIT</th>\n",
       "      <th>ORTSGR_KLS9</th>\n",
       "      <th>RELAT_AB</th>\n",
       "      <th>engineered_decade</th>\n",
       "      <th>engineered_movement</th>\n",
       "      <th>engineered_wealth</th>\n",
       "      <th>engineered_life_stage</th>\n",
       "    </tr>\n",
       "  </thead>\n",
       "  <tbody>\n",
       "    <tr>\n",
       "      <th>1</th>\n",
       "      <td>1.0</td>\n",
       "      <td>2.0</td>\n",
       "      <td>1.0</td>\n",
       "      <td>5.0</td>\n",
       "      <td>2.0</td>\n",
       "      <td>5.0</td>\n",
       "      <td>4.0</td>\n",
       "      <td>5.0</td>\n",
       "      <td>0.0</td>\n",
       "      <td>3.0</td>\n",
       "      <td>...</td>\n",
       "      <td>1.0</td>\n",
       "      <td>5.0</td>\n",
       "      <td>4.0</td>\n",
       "      <td>3.0</td>\n",
       "      <td>5.0</td>\n",
       "      <td>4.0</td>\n",
       "      <td>6.0</td>\n",
       "      <td>1.0</td>\n",
       "      <td>5.0</td>\n",
       "      <td>1.0</td>\n",
       "    </tr>\n",
       "    <tr>\n",
       "      <th>2</th>\n",
       "      <td>3.0</td>\n",
       "      <td>2.0</td>\n",
       "      <td>1.0</td>\n",
       "      <td>4.0</td>\n",
       "      <td>1.0</td>\n",
       "      <td>2.0</td>\n",
       "      <td>3.0</td>\n",
       "      <td>5.0</td>\n",
       "      <td>1.0</td>\n",
       "      <td>3.0</td>\n",
       "      <td>...</td>\n",
       "      <td>0.0</td>\n",
       "      <td>4.0</td>\n",
       "      <td>4.0</td>\n",
       "      <td>3.0</td>\n",
       "      <td>5.0</td>\n",
       "      <td>2.0</td>\n",
       "      <td>6.0</td>\n",
       "      <td>2.0</td>\n",
       "      <td>2.0</td>\n",
       "      <td>4.0</td>\n",
       "    </tr>\n",
       "    <tr>\n",
       "      <th>3</th>\n",
       "      <td>4.0</td>\n",
       "      <td>2.0</td>\n",
       "      <td>4.0</td>\n",
       "      <td>2.0</td>\n",
       "      <td>5.0</td>\n",
       "      <td>2.0</td>\n",
       "      <td>1.0</td>\n",
       "      <td>2.0</td>\n",
       "      <td>0.0</td>\n",
       "      <td>2.0</td>\n",
       "      <td>...</td>\n",
       "      <td>0.0</td>\n",
       "      <td>3.0</td>\n",
       "      <td>4.0</td>\n",
       "      <td>2.0</td>\n",
       "      <td>3.0</td>\n",
       "      <td>3.0</td>\n",
       "      <td>4.0</td>\n",
       "      <td>1.0</td>\n",
       "      <td>1.0</td>\n",
       "      <td>2.0</td>\n",
       "    </tr>\n",
       "    <tr>\n",
       "      <th>4</th>\n",
       "      <td>3.0</td>\n",
       "      <td>1.0</td>\n",
       "      <td>4.0</td>\n",
       "      <td>3.0</td>\n",
       "      <td>4.0</td>\n",
       "      <td>1.0</td>\n",
       "      <td>3.0</td>\n",
       "      <td>2.0</td>\n",
       "      <td>0.0</td>\n",
       "      <td>3.0</td>\n",
       "      <td>...</td>\n",
       "      <td>1.0</td>\n",
       "      <td>3.0</td>\n",
       "      <td>3.0</td>\n",
       "      <td>4.0</td>\n",
       "      <td>6.0</td>\n",
       "      <td>5.0</td>\n",
       "      <td>4.0</td>\n",
       "      <td>1.0</td>\n",
       "      <td>4.0</td>\n",
       "      <td>3.0</td>\n",
       "    </tr>\n",
       "    <tr>\n",
       "      <th>5</th>\n",
       "      <td>1.0</td>\n",
       "      <td>2.0</td>\n",
       "      <td>3.0</td>\n",
       "      <td>1.0</td>\n",
       "      <td>5.0</td>\n",
       "      <td>2.0</td>\n",
       "      <td>2.0</td>\n",
       "      <td>5.0</td>\n",
       "      <td>0.0</td>\n",
       "      <td>3.0</td>\n",
       "      <td>...</td>\n",
       "      <td>1.0</td>\n",
       "      <td>5.0</td>\n",
       "      <td>5.0</td>\n",
       "      <td>2.0</td>\n",
       "      <td>3.0</td>\n",
       "      <td>3.0</td>\n",
       "      <td>2.0</td>\n",
       "      <td>1.0</td>\n",
       "      <td>5.0</td>\n",
       "      <td>4.0</td>\n",
       "    </tr>\n",
       "  </tbody>\n",
       "</table>\n",
       "<p>5 rows × 55 columns</p>\n",
       "</div>"
      ],
      "text/plain": [
       "   ALTERSKATEGORIE_GROB  ANREDE_KZ  FINANZ_MINIMALIST  FINANZ_SPARER  \\\n",
       "1                   1.0        2.0                1.0            5.0   \n",
       "2                   3.0        2.0                1.0            4.0   \n",
       "3                   4.0        2.0                4.0            2.0   \n",
       "4                   3.0        1.0                4.0            3.0   \n",
       "5                   1.0        2.0                3.0            1.0   \n",
       "\n",
       "   FINANZ_VORSORGER  FINANZ_ANLEGER  FINANZ_UNAUFFAELLIGER  FINANZ_HAUSBAUER  \\\n",
       "1               2.0             5.0                    4.0               5.0   \n",
       "2               1.0             2.0                    3.0               5.0   \n",
       "3               5.0             2.0                    1.0               2.0   \n",
       "4               4.0             1.0                    3.0               2.0   \n",
       "5               5.0             2.0                    2.0               5.0   \n",
       "\n",
       "   GREEN_AVANTGARDE  HEALTH_TYP  ...  PLZ8_ANTG4  PLZ8_HHZ  PLZ8_GBZ  ARBEIT  \\\n",
       "1               0.0         3.0  ...         1.0       5.0       4.0     3.0   \n",
       "2               1.0         3.0  ...         0.0       4.0       4.0     3.0   \n",
       "3               0.0         2.0  ...         0.0       3.0       4.0     2.0   \n",
       "4               0.0         3.0  ...         1.0       3.0       3.0     4.0   \n",
       "5               0.0         3.0  ...         1.0       5.0       5.0     2.0   \n",
       "\n",
       "   ORTSGR_KLS9  RELAT_AB  engineered_decade  engineered_movement  \\\n",
       "1          5.0       4.0                6.0                  1.0   \n",
       "2          5.0       2.0                6.0                  2.0   \n",
       "3          3.0       3.0                4.0                  1.0   \n",
       "4          6.0       5.0                4.0                  1.0   \n",
       "5          3.0       3.0                2.0                  1.0   \n",
       "\n",
       "   engineered_wealth  engineered_life_stage  \n",
       "1                5.0                    1.0  \n",
       "2                2.0                    4.0  \n",
       "3                1.0                    2.0  \n",
       "4                4.0                    3.0  \n",
       "5                5.0                    4.0  \n",
       "\n",
       "[5 rows x 55 columns]"
      ]
     },
     "execution_count": 146,
     "metadata": {},
     "output_type": "execute_result"
    }
   ],
   "source": [
    "df.head()"
   ]
  },
  {
   "cell_type": "markdown",
   "metadata": {},
   "source": [
    "#### Discussion 1.2.2: Engineer Mixed-Type Features\n",
    "\n",
    "(Double-click this cell and replace this text with your own text, reporting your findings and decisions regarding mixed-value features. Which ones did you keep, which did you drop, and what engineering steps did you perform?)\n",
    "\n",
    "- There are six mixed-type features in the dataset.\n",
    "\n",
    "- From the mixed feature \"PRAEGENDE JUGENDJAHRE\", two new variables called (engineered_decade, engineered_movement) have been engineered, which combines information on three dimensions: generation by decade, movement (mainstream vs. avantgarde), and nation (east vs. west). The variables engineered_decade and engineered_movement record the two dimensions of the original feature: a binary variable for movement and an interval-type variable for decade.\n",
    "\n",
    "- From the mixed feature \"CAMEO INTL 2015\", combines data from two axes: wealth and life stage, two new variables called (engineered_wealth and engineered_life_stage) have been designed. engineered_wealth and engineered_life_stage break apart the original two-digit codes by their 'tens'-place and 'ones'-place digits into two new ordinal variables to capture meaning from the original feature.\n",
    "\n",
    "- To keep things simple, the other four mixed features will be removed."
   ]
  },
  {
   "cell_type": "markdown",
   "metadata": {},
   "source": [
    "#### Step 1.2.3: Complete Feature Selection\n",
    "\n",
    "In order to finish this step up, you need to make sure that your data frame now only has the columns that you want to keep. To summarize, the dataframe should consist of the following:\n",
    "- All numeric, interval, and ordinal type columns from the original dataset.\n",
    "- Binary categorical features (all numerically-encoded).\n",
    "- Engineered features from other multi-level categorical features and mixed features.\n",
    "\n",
    "Make sure that for any new columns that you have engineered, that you've excluded the original columns from the final dataset. Otherwise, their values will interfere with the analysis later on the project. For example, you should not keep \"PRAEGENDE_JUGENDJAHRE\", since its values won't be useful for the algorithm: only the values derived from it in the engineered features you created should be retained. As a reminder, your data should only be from **the subset with few or no missing values**."
   ]
  },
  {
   "cell_type": "code",
   "execution_count": 147,
   "metadata": {},
   "outputs": [
    {
     "data": {
      "text/plain": [
       "(787633, 55)"
      ]
     },
     "execution_count": 147,
     "metadata": {},
     "output_type": "execute_result"
    }
   ],
   "source": [
    "df.shape"
   ]
  },
  {
   "cell_type": "code",
   "execution_count": 148,
   "metadata": {},
   "outputs": [
    {
     "data": {
      "text/plain": [
       "array([dtype('float64'), dtype('int64')], dtype=object)"
      ]
     },
     "execution_count": 148,
     "metadata": {},
     "output_type": "execute_result"
    }
   ],
   "source": [
    "df.dtypes.unique()"
   ]
  },
  {
   "cell_type": "code",
   "execution_count": 149,
   "metadata": {},
   "outputs": [
    {
     "data": {
      "text/plain": [
       "Index(['ALTERSKATEGORIE_GROB', 'ANREDE_KZ', 'FINANZ_MINIMALIST',\n",
       "       'FINANZ_SPARER', 'FINANZ_VORSORGER', 'FINANZ_ANLEGER',\n",
       "       'FINANZ_UNAUFFAELLIGER', 'FINANZ_HAUSBAUER', 'GREEN_AVANTGARDE',\n",
       "       'HEALTH_TYP', 'RETOURTYP_BK_S', 'SEMIO_SOZ', 'SEMIO_FAM', 'SEMIO_REL',\n",
       "       'SEMIO_MAT', 'SEMIO_VERT', 'SEMIO_LUST', 'SEMIO_ERL', 'SEMIO_KULT',\n",
       "       'SEMIO_RAT', 'SEMIO_KRIT', 'SEMIO_DOM', 'SEMIO_KAEM', 'SEMIO_PFLICHT',\n",
       "       'SEMIO_TRADV', 'SOHO_KZ', 'VERS_TYP', 'ANZ_PERSONEN', 'ANZ_TITEL',\n",
       "       'HH_EINKOMMEN_SCORE', 'WOHNDAUER_2008', 'ANZ_HAUSHALTE_AKTIV',\n",
       "       'ANZ_HH_TITEL', 'KONSUMNAEHE', 'MIN_GEBAEUDEJAHR', 'OST_WEST_KZ',\n",
       "       'BALLRAUM', 'EWDICHTE', 'INNENSTADT', 'GEBAEUDETYP_RASTER',\n",
       "       'ONLINE_AFFINITAET', 'KBA13_ANZAHL_PKW', 'PLZ8_ANTG1', 'PLZ8_ANTG2',\n",
       "       'PLZ8_ANTG3', 'PLZ8_ANTG4', 'PLZ8_HHZ', 'PLZ8_GBZ', 'ARBEIT',\n",
       "       'ORTSGR_KLS9', 'RELAT_AB', 'engineered_decade', 'engineered_movement',\n",
       "       'engineered_wealth', 'engineered_life_stage'],\n",
       "      dtype='object')"
      ]
     },
     "execution_count": 149,
     "metadata": {},
     "output_type": "execute_result"
    }
   ],
   "source": [
    "df.columns"
   ]
  },
  {
   "cell_type": "markdown",
   "metadata": {},
   "source": [
    "### Step 1.3: Create a Cleaning Function\n",
    "\n",
    "Even though you've finished cleaning up the general population demographics data, it's important to look ahead to the future and realize that you'll need to perform the same cleaning steps on the customer demographics data. In this substep, complete the function below to execute the main feature selection, encoding, and re-engineering steps you performed above. Then, when it comes to looking at the customer data in Step 3, you can just run this function on that DataFrame to get the trimmed dataset in a single step."
   ]
  },
  {
   "cell_type": "code",
   "execution_count": 150,
   "metadata": {},
   "outputs": [],
   "source": [
    "def clean_data(df):\n",
    "    # Performs feature reduction, re-encoding, and engineering for demographics data:\n",
    "    df = convert_missingdata_encodings_to_nans(df)\n",
    "    print('Convert missing value codes into NaN, OK')\n",
    "    \n",
    "    # Removing selected columns:\n",
    "    df = drop_selected_columns(df)\n",
    "    \n",
    "    # Removing selected rows:\n",
    "    df, df_cust_highna = drop_selected_rows(df)\n",
    "    print('The selected columns and rows were removed')\n",
    "    \n",
    "    # Selection, re-encoding, and engineering column values:\n",
    "    df = reencode_categorical_feat(df)\n",
    "    df = engineer_mixed_feat(df)\n",
    "    print('Selection, re-encoding, and engineering column values were done')\n",
    "    \n",
    "    # Return the cleaned DF & the high NaN DF:\n",
    "    return df, df_cust_highna\n",
    "\n",
    "\n",
    "def convert_missingdata_encodings_to_nans(df, debug=False):\n",
    "    # Converts to NaN values based on the missing_data_encode dictionary\n",
    "\n",
    "    for col in missing_data.keys():\n",
    "        if debug:\n",
    "            print(col, 'NaN values before: ', df[col].isnull().sum())\n",
    "        df.loc[df[col].isin(missing_data[col]), col] = np.nan\n",
    "        if debug:\n",
    "            print(col, 'NaN values  after: ', df[col].isnull().sum(), '\\n')\n",
    "    return df\n",
    "\n",
    "\n",
    "def drop_selected_columns(df):\n",
    "    ''''''\n",
    "    return df.drop(columns=outliers, axis=1)\n",
    "\n",
    "\n",
    "def drop_selected_rows(df):\n",
    "    # Divides the dataset into two categories: One with a percntage of NaN values per row exceeds the threshhold and\n",
    "    # the other below this threshold:\n",
    "    \n",
    "    threshhold = 0.2\n",
    "    df['row_nan_perc'] = df.isnull().mean(axis=1)\n",
    "    \n",
    "    df_lowna = df.loc[df['row_nan_perc'] < threshhold, :].\\\n",
    "                                drop(columns='row_nan_perc', axis=1)\n",
    "    df_highna = df.loc[df['row_nan_perc'] > threshhold, :].\\\n",
    "                                drop(columns='row_nan_perc', axis=1)\n",
    "\n",
    "    return df_lowna, df_highna\n",
    "\n",
    "\n",
    "def reencode_categorical_feat(df):\n",
    "    # Re-encodes the feature \"OST_WEST_KZ\" to numeric values:\n",
    "    df['OST_WEST_KZ'] = df['OST_WEST_KZ'].replace({'O': 0,\n",
    "                                                   'W': 1})\n",
    "\n",
    "    # Selects the features with more than 2 levels:\n",
    "    df_cat_cols = feat_info[feat_info.type == 'categorical'].attribute\n",
    "    cat_nunique = df[df_cat_cols].nunique()\n",
    "    cat_to_encode = cat_nunique[cat_nunique > 2]\n",
    "\n",
    "    # Drops the multi-level categorical features for the dataset:\n",
    "    df = df.drop(columns=cat_to_encode.index, axis=0)\n",
    "\n",
    "    return df\n",
    "\n",
    "\n",
    "def engineer_mixed_feat(df):\n",
    "    # Engineers new variables from the mixed features:\n",
    "    \n",
    "    # (1) Engineering two new variables from the feature'PRAEGENDE_JUGENDJAHRE':\n",
    "    decade_dict = {1: 1, 2: 1, 3: 2, 4: 2, 5: 3, 6: 3, 7:  3,\n",
    "                   8: 4, 9: 4, 10: 5, 11: 5, 12: 5, 13: 5,\n",
    "                   14: 6, 15: 6\n",
    "                   }\n",
    "    movement_dict = {1: 1, 3: 1, 5: 1, 8: 1, 10: 1, 12: 1, 14: 1,\n",
    "                     2: 2, 4: 2, 6: 2, 7: 2, 9: 2, 11: 2, 13: 2, 15: 2\n",
    "                     }\n",
    "\n",
    "    df['ENG_DECADE'] = df['PRAEGENDE_JUGENDJAHRE'].map(decade_dict)\n",
    "    df['ENG_MOVEMENT'] = df['PRAEGENDE_JUGENDJAHRE'].map(movement_dict)\n",
    "    df.drop\n",
    "\n",
    "    # (2) Engineering two new variables from the feature'CAMEO_INTL_2015':\n",
    "    df['ENG_WEALTH'] = df['CAMEO_INTL_2015'].apply(\n",
    "        get_digit, digit=0)\n",
    "    df['ENG_LIFE_STAGE'] = df['CAMEO_INTL_2015'].apply(\n",
    "        get_digit, digit=1)\n",
    "\n",
    "    # Dropping mixed dtype features:\n",
    "    mixed_feat_cols = feat_info[feat_info.type == 'mixed'].attribute\n",
    "    df = df.drop(mixed_feat_cols, axis=1)\n",
    "\n",
    "    return df\n",
    "    \n",
    "    "
   ]
  },
  {
   "cell_type": "markdown",
   "metadata": {},
   "source": [
    "## Step 2: Feature Transformation\n",
    "\n",
    "### Step 2.1: Apply Feature Scaling\n",
    "\n",
    "Before we apply dimensionality reduction techniques to the data, we need to perform feature scaling so that the principal component vectors are not influenced by the natural differences in scale for features. Starting from this part of the project, you'll want to keep an eye on the [API reference page for sklearn](http://scikit-learn.org/stable/modules/classes.html) to help you navigate to all of the classes and functions that you'll need. In this substep, you'll need to check the following:\n",
    "\n",
    "- sklearn requires that data not have missing values in order for its estimators to work properly. So, before applying the scaler to your data, make sure that you've cleaned the DataFrame of the remaining missing values. This can be as simple as just removing all data points with missing data, or applying an [Imputer](https://scikit-learn.org/0.16/modules/generated/sklearn.preprocessing.Imputer.html) to replace all missing values. You might also try a more complicated procedure where you temporarily remove missing values in order to compute the scaling parameters before re-introducing those missing values and applying imputation. Think about how much missing data you have and what possible effects each approach might have on your analysis, and justify your decision in the discussion section below.\n",
    "- For the actual scaling function, a [StandardScaler](http://scikit-learn.org/stable/modules/generated/sklearn.preprocessing.StandardScaler.html) instance is suggested, scaling each feature to mean 0 and standard deviation 1.\n",
    "- For these classes, you can make use of the `.fit_transform()` method to both fit a procedure to the data as well as apply the transformation to the data at the same time. Don't forget to keep the fit sklearn objects handy, since you'll be applying them to the customer demographics data towards the end of the project."
   ]
  },
  {
   "cell_type": "code",
   "execution_count": 151,
   "metadata": {},
   "outputs": [
    {
     "data": {
      "text/plain": [
       "count    55.000000\n",
       "mean      0.006335\n",
       "std       0.011805\n",
       "min       0.000000\n",
       "25%       0.000000\n",
       "50%       0.000000\n",
       "75%       0.005007\n",
       "max       0.043896\n",
       "dtype: float64"
      ]
     },
     "execution_count": 151,
     "metadata": {},
     "output_type": "execute_result"
    }
   ],
   "source": [
    "# checking missing rate in the data set:\n",
    "df.isnull().mean().describe()"
   ]
  },
  {
   "cell_type": "code",
   "execution_count": 152,
   "metadata": {},
   "outputs": [
    {
     "data": {
      "text/plain": [
       "HEALTH_TYP             4.389608\n",
       "VERS_TYP               4.389608\n",
       "engineered_movement    3.351688\n",
       "engineered_decade      3.351688\n",
       "PLZ8_ANTG4             2.344493\n",
       "PLZ8_ANTG1             2.344493\n",
       "PLZ8_ANTG2             2.344493\n",
       "PLZ8_ANTG3             2.344493\n",
       "PLZ8_GBZ               2.344493\n",
       "PLZ8_HHZ               2.344493\n",
       "dtype: float64"
      ]
     },
     "execution_count": 152,
     "metadata": {},
     "output_type": "execute_result"
    }
   ],
   "source": [
    "# Investigating the percentage of NaN values for colums:\n",
    "(df.isnull().mean(axis=0) * 100).sort_values(ascending=False)[:10]"
   ]
  },
  {
   "cell_type": "code",
   "execution_count": 153,
   "metadata": {},
   "outputs": [
    {
     "name": "stdout",
     "output_type": "stream",
     "text": [
      "The number of rows with nan values = 75840\n",
      "The total percentage of rows that have nan values are :  9.6288 %\n"
     ]
    }
   ],
   "source": [
    "# Investigating the percentage of NaN values for rows:\n",
    "nan_percentage_rows = (df.isnull().mean(axis=1) * 100).sort_values(ascending=False)\n",
    "num_rows_nan = nan_percentage_rows[nan_percentage_rows > 0].shape[0]\n",
    "print('The number of rows with nan values = {}'.format(num_rows_nan))\n",
    "print('The total percentage of rows that have nan values are : ', round(num_rows_nan/ df.shape[0]  * 100, 4),'%')"
   ]
  },
  {
   "cell_type": "code",
   "execution_count": 154,
   "metadata": {},
   "outputs": [
    {
     "data": {
      "text/plain": [
       "StandardScaler()"
      ]
     },
     "execution_count": 154,
     "metadata": {},
     "output_type": "execute_result"
    }
   ],
   "source": [
    "# Fitting the Scaler without NaN values:\n",
    "no_nan_df = df.dropna(axis=0)\n",
    "scaler = StandardScaler()\n",
    "scaler.fit(no_nan_df)"
   ]
  },
  {
   "cell_type": "code",
   "execution_count": 155,
   "metadata": {},
   "outputs": [],
   "source": [
    "# Imputting the missing values in the full df with the mean:\n",
    "impute = SimpleImputer(missing_values=np.nan, strategy='mean')\n",
    "x_impute = impute.fit_transform(df)"
   ]
  },
  {
   "cell_type": "code",
   "execution_count": 156,
   "metadata": {},
   "outputs": [],
   "source": [
    "# Transforming the df after fitting the scaler:\n",
    "x_scale = scaler.transform(x_impute)"
   ]
  },
  {
   "cell_type": "code",
   "execution_count": 157,
   "metadata": {},
   "outputs": [
    {
     "data": {
      "text/html": [
       "<div>\n",
       "<style scoped>\n",
       "    .dataframe tbody tr th:only-of-type {\n",
       "        vertical-align: middle;\n",
       "    }\n",
       "\n",
       "    .dataframe tbody tr th {\n",
       "        vertical-align: top;\n",
       "    }\n",
       "\n",
       "    .dataframe thead th {\n",
       "        text-align: right;\n",
       "    }\n",
       "</style>\n",
       "<table border=\"1\" class=\"dataframe\">\n",
       "  <thead>\n",
       "    <tr style=\"text-align: right;\">\n",
       "      <th></th>\n",
       "      <th>ALTERSKATEGORIE_GROB</th>\n",
       "      <th>ANREDE_KZ</th>\n",
       "      <th>FINANZ_MINIMALIST</th>\n",
       "      <th>FINANZ_SPARER</th>\n",
       "      <th>FINANZ_VORSORGER</th>\n",
       "      <th>FINANZ_ANLEGER</th>\n",
       "      <th>FINANZ_UNAUFFAELLIGER</th>\n",
       "      <th>FINANZ_HAUSBAUER</th>\n",
       "      <th>GREEN_AVANTGARDE</th>\n",
       "      <th>HEALTH_TYP</th>\n",
       "      <th>...</th>\n",
       "      <th>PLZ8_ANTG4</th>\n",
       "      <th>PLZ8_HHZ</th>\n",
       "      <th>PLZ8_GBZ</th>\n",
       "      <th>ARBEIT</th>\n",
       "      <th>ORTSGR_KLS9</th>\n",
       "      <th>RELAT_AB</th>\n",
       "      <th>engineered_decade</th>\n",
       "      <th>engineered_movement</th>\n",
       "      <th>engineered_wealth</th>\n",
       "      <th>engineered_life_stage</th>\n",
       "    </tr>\n",
       "  </thead>\n",
       "  <tbody>\n",
       "    <tr>\n",
       "      <th>count</th>\n",
       "      <td>787633.000000</td>\n",
       "      <td>787633.000000</td>\n",
       "      <td>787633.000000</td>\n",
       "      <td>787633.000000</td>\n",
       "      <td>787633.000000</td>\n",
       "      <td>787633.000000</td>\n",
       "      <td>787633.000000</td>\n",
       "      <td>787633.000000</td>\n",
       "      <td>787633.000000</td>\n",
       "      <td>787633.000000</td>\n",
       "      <td>...</td>\n",
       "      <td>787633.000000</td>\n",
       "      <td>787633.000000</td>\n",
       "      <td>787633.000000</td>\n",
       "      <td>787633.000000</td>\n",
       "      <td>787633.000000</td>\n",
       "      <td>787633.000000</td>\n",
       "      <td>787633.000000</td>\n",
       "      <td>787633.000000</td>\n",
       "      <td>787633.000000</td>\n",
       "      <td>787633.000000</td>\n",
       "    </tr>\n",
       "    <tr>\n",
       "      <th>mean</th>\n",
       "      <td>0.008701</td>\n",
       "      <td>0.019491</td>\n",
       "      <td>-0.019873</td>\n",
       "      <td>0.021897</td>\n",
       "      <td>-0.003524</td>\n",
       "      <td>0.021892</td>\n",
       "      <td>0.033018</td>\n",
       "      <td>0.013975</td>\n",
       "      <td>-0.020776</td>\n",
       "      <td>-0.013675</td>\n",
       "      <td>...</td>\n",
       "      <td>0.008595</td>\n",
       "      <td>0.002514</td>\n",
       "      <td>-0.005271</td>\n",
       "      <td>-0.003465</td>\n",
       "      <td>0.003295</td>\n",
       "      <td>0.002474</td>\n",
       "      <td>0.002002</td>\n",
       "      <td>-0.002619</td>\n",
       "      <td>0.009095</td>\n",
       "      <td>-0.007560</td>\n",
       "    </tr>\n",
       "    <tr>\n",
       "      <th>std</th>\n",
       "      <td>0.989342</td>\n",
       "      <td>0.999362</td>\n",
       "      <td>1.008724</td>\n",
       "      <td>1.013616</td>\n",
       "      <td>0.994755</td>\n",
       "      <td>1.013542</td>\n",
       "      <td>1.011078</td>\n",
       "      <td>1.009795</td>\n",
       "      <td>0.986262</td>\n",
       "      <td>0.976970</td>\n",
       "      <td>...</td>\n",
       "      <td>0.989518</td>\n",
       "      <td>0.989536</td>\n",
       "      <td>0.988270</td>\n",
       "      <td>0.996719</td>\n",
       "      <td>0.997529</td>\n",
       "      <td>0.997445</td>\n",
       "      <td>0.985582</td>\n",
       "      <td>0.981431</td>\n",
       "      <td>0.996623</td>\n",
       "      <td>0.998085</td>\n",
       "    </tr>\n",
       "    <tr>\n",
       "      <th>min</th>\n",
       "      <td>-1.735789</td>\n",
       "      <td>-1.023273</td>\n",
       "      <td>-1.526732</td>\n",
       "      <td>-1.149658</td>\n",
       "      <td>-1.760242</td>\n",
       "      <td>-1.245876</td>\n",
       "      <td>-1.162412</td>\n",
       "      <td>-1.507920</td>\n",
       "      <td>-0.544371</td>\n",
       "      <td>-1.602262</td>\n",
       "      <td>...</td>\n",
       "      <td>-0.954536</td>\n",
       "      <td>-2.683925</td>\n",
       "      <td>-2.147141</td>\n",
       "      <td>-2.172471</td>\n",
       "      <td>-1.861590</td>\n",
       "      <td>-1.521252</td>\n",
       "      <td>-2.290520</td>\n",
       "      <td>-0.544371</td>\n",
       "      <td>-1.534149</td>\n",
       "      <td>-1.269062</td>\n",
       "    </tr>\n",
       "    <tr>\n",
       "      <th>25%</th>\n",
       "      <td>-0.763331</td>\n",
       "      <td>-1.023273</td>\n",
       "      <td>-0.794157</td>\n",
       "      <td>-1.149658</td>\n",
       "      <td>-1.038053</td>\n",
       "      <td>-1.245876</td>\n",
       "      <td>-1.162412</td>\n",
       "      <td>-0.789732</td>\n",
       "      <td>-0.544371</td>\n",
       "      <td>-0.278952</td>\n",
       "      <td>...</td>\n",
       "      <td>-0.954536</td>\n",
       "      <td>-0.627625</td>\n",
       "      <td>-0.347847</td>\n",
       "      <td>-0.171726</td>\n",
       "      <td>-0.559038</td>\n",
       "      <td>-0.786108</td>\n",
       "      <td>-0.914577</td>\n",
       "      <td>-0.544371</td>\n",
       "      <td>-0.852091</td>\n",
       "      <td>-1.269062</td>\n",
       "    </tr>\n",
       "    <tr>\n",
       "      <th>50%</th>\n",
       "      <td>0.209127</td>\n",
       "      <td>0.977256</td>\n",
       "      <td>-0.061582</td>\n",
       "      <td>0.216020</td>\n",
       "      <td>0.406326</td>\n",
       "      <td>0.131678</td>\n",
       "      <td>-0.439321</td>\n",
       "      <td>-0.071543</td>\n",
       "      <td>-0.544371</td>\n",
       "      <td>-0.278952</td>\n",
       "      <td>...</td>\n",
       "      <td>0.422486</td>\n",
       "      <td>0.002514</td>\n",
       "      <td>-0.347847</td>\n",
       "      <td>-0.171726</td>\n",
       "      <td>-0.124854</td>\n",
       "      <td>-0.050963</td>\n",
       "      <td>0.002002</td>\n",
       "      <td>-0.544371</td>\n",
       "      <td>0.512026</td>\n",
       "      <td>0.078391</td>\n",
       "    </tr>\n",
       "    <tr>\n",
       "      <th>75%</th>\n",
       "      <td>1.181585</td>\n",
       "      <td>0.977256</td>\n",
       "      <td>0.670993</td>\n",
       "      <td>0.898859</td>\n",
       "      <td>1.128516</td>\n",
       "      <td>0.820455</td>\n",
       "      <td>1.006860</td>\n",
       "      <td>0.646645</td>\n",
       "      <td>-0.544371</td>\n",
       "      <td>1.044358</td>\n",
       "      <td>...</td>\n",
       "      <td>0.422486</td>\n",
       "      <td>0.400524</td>\n",
       "      <td>0.551799</td>\n",
       "      <td>0.828646</td>\n",
       "      <td>0.743513</td>\n",
       "      <td>0.684182</td>\n",
       "      <td>1.149339</td>\n",
       "      <td>-0.002619</td>\n",
       "      <td>1.194085</td>\n",
       "      <td>0.752117</td>\n",
       "    </tr>\n",
       "    <tr>\n",
       "      <th>max</th>\n",
       "      <td>1.181585</td>\n",
       "      <td>0.977256</td>\n",
       "      <td>1.403568</td>\n",
       "      <td>1.581698</td>\n",
       "      <td>1.128516</td>\n",
       "      <td>1.509232</td>\n",
       "      <td>1.729951</td>\n",
       "      <td>1.364834</td>\n",
       "      <td>1.836982</td>\n",
       "      <td>1.044358</td>\n",
       "      <td>...</td>\n",
       "      <td>1.799508</td>\n",
       "      <td>1.428674</td>\n",
       "      <td>1.451446</td>\n",
       "      <td>1.829019</td>\n",
       "      <td>1.611881</td>\n",
       "      <td>1.419327</td>\n",
       "      <td>1.149339</td>\n",
       "      <td>1.836982</td>\n",
       "      <td>1.194085</td>\n",
       "      <td>1.425843</td>\n",
       "    </tr>\n",
       "  </tbody>\n",
       "</table>\n",
       "<p>8 rows × 55 columns</p>\n",
       "</div>"
      ],
      "text/plain": [
       "       ALTERSKATEGORIE_GROB      ANREDE_KZ  FINANZ_MINIMALIST  FINANZ_SPARER  \\\n",
       "count         787633.000000  787633.000000      787633.000000  787633.000000   \n",
       "mean               0.008701       0.019491          -0.019873       0.021897   \n",
       "std                0.989342       0.999362           1.008724       1.013616   \n",
       "min               -1.735789      -1.023273          -1.526732      -1.149658   \n",
       "25%               -0.763331      -1.023273          -0.794157      -1.149658   \n",
       "50%                0.209127       0.977256          -0.061582       0.216020   \n",
       "75%                1.181585       0.977256           0.670993       0.898859   \n",
       "max                1.181585       0.977256           1.403568       1.581698   \n",
       "\n",
       "       FINANZ_VORSORGER  FINANZ_ANLEGER  FINANZ_UNAUFFAELLIGER  \\\n",
       "count     787633.000000   787633.000000          787633.000000   \n",
       "mean          -0.003524        0.021892               0.033018   \n",
       "std            0.994755        1.013542               1.011078   \n",
       "min           -1.760242       -1.245876              -1.162412   \n",
       "25%           -1.038053       -1.245876              -1.162412   \n",
       "50%            0.406326        0.131678              -0.439321   \n",
       "75%            1.128516        0.820455               1.006860   \n",
       "max            1.128516        1.509232               1.729951   \n",
       "\n",
       "       FINANZ_HAUSBAUER  GREEN_AVANTGARDE     HEALTH_TYP  ...     PLZ8_ANTG4  \\\n",
       "count     787633.000000     787633.000000  787633.000000  ...  787633.000000   \n",
       "mean           0.013975         -0.020776      -0.013675  ...       0.008595   \n",
       "std            1.009795          0.986262       0.976970  ...       0.989518   \n",
       "min           -1.507920         -0.544371      -1.602262  ...      -0.954536   \n",
       "25%           -0.789732         -0.544371      -0.278952  ...      -0.954536   \n",
       "50%           -0.071543         -0.544371      -0.278952  ...       0.422486   \n",
       "75%            0.646645         -0.544371       1.044358  ...       0.422486   \n",
       "max            1.364834          1.836982       1.044358  ...       1.799508   \n",
       "\n",
       "            PLZ8_HHZ       PLZ8_GBZ         ARBEIT    ORTSGR_KLS9  \\\n",
       "count  787633.000000  787633.000000  787633.000000  787633.000000   \n",
       "mean        0.002514      -0.005271      -0.003465       0.003295   \n",
       "std         0.989536       0.988270       0.996719       0.997529   \n",
       "min        -2.683925      -2.147141      -2.172471      -1.861590   \n",
       "25%        -0.627625      -0.347847      -0.171726      -0.559038   \n",
       "50%         0.002514      -0.347847      -0.171726      -0.124854   \n",
       "75%         0.400524       0.551799       0.828646       0.743513   \n",
       "max         1.428674       1.451446       1.829019       1.611881   \n",
       "\n",
       "            RELAT_AB  engineered_decade  engineered_movement  \\\n",
       "count  787633.000000      787633.000000        787633.000000   \n",
       "mean        0.002474           0.002002            -0.002619   \n",
       "std         0.997445           0.985582             0.981431   \n",
       "min        -1.521252          -2.290520            -0.544371   \n",
       "25%        -0.786108          -0.914577            -0.544371   \n",
       "50%        -0.050963           0.002002            -0.544371   \n",
       "75%         0.684182           1.149339            -0.002619   \n",
       "max         1.419327           1.149339             1.836982   \n",
       "\n",
       "       engineered_wealth  engineered_life_stage  \n",
       "count      787633.000000          787633.000000  \n",
       "mean            0.009095              -0.007560  \n",
       "std             0.996623               0.998085  \n",
       "min            -1.534149              -1.269062  \n",
       "25%            -0.852091              -1.269062  \n",
       "50%             0.512026               0.078391  \n",
       "75%             1.194085               0.752117  \n",
       "max             1.194085               1.425843  \n",
       "\n",
       "[8 rows x 55 columns]"
      ]
     },
     "execution_count": 157,
     "metadata": {},
     "output_type": "execute_result"
    }
   ],
   "source": [
    "df_scale = pd.DataFrame(x_scale, columns=df.columns)\n",
    "df_scale.describe()"
   ]
  },
  {
   "cell_type": "markdown",
   "metadata": {},
   "source": [
    "### Discussion 2.1: Apply Feature Scaling\n",
    "\n",
    "(Double-click this cell and replace this text with your own text, reporting your decisions regarding feature scaling.)\n",
    "\n",
    "- Percentage of rows that contain NaNs is 9.6288  %.\n",
    "- Dropping this data would result in a large volume of data being discarded in order to deal with a considerably smaller amount of truly missing data.\n",
    "- The StandardScaler function is used to fit the data without the NaNs, then reintroduce them by imputing them with the mean and converting them with the fitted StandardScaler object, resulting in more informative distributions."
   ]
  },
  {
   "cell_type": "markdown",
   "metadata": {},
   "source": [
    "### Step 2.2: Perform Dimensionality Reduction\n",
    "\n",
    "On your scaled data, you are now ready to apply dimensionality reduction techniques.\n",
    "\n",
    "- Use sklearn's [PCA](http://scikit-learn.org/stable/modules/generated/sklearn.decomposition.PCA.html) class to apply principal component analysis on the data, thus finding the vectors of maximal variance in the data. To start, you should not set any parameters (so all components are computed) or set a number of components that is at least half the number of features (so there's enough features to see the general trend in variability).\n",
    "- Check out the ratio of variance explained by each principal component as well as the cumulative variance explained. Try plotting the cumulative or sequential values using matplotlib's [`plot()`](https://matplotlib.org/api/_as_gen/matplotlib.pyplot.plot.html) function. Based on what you find, select a value for the number of transformed features you'll retain for the clustering part of the project.\n",
    "- Once you've made a choice for the number of components to keep, make sure you re-fit a PCA instance to perform the decided-on transformation."
   ]
  },
  {
   "cell_type": "code",
   "execution_count": 158,
   "metadata": {},
   "outputs": [
    {
     "data": {
      "text/plain": [
       "(787633, 55)"
      ]
     },
     "execution_count": 158,
     "metadata": {},
     "output_type": "execute_result"
    }
   ],
   "source": [
    "x_scale.shape"
   ]
  },
  {
   "cell_type": "code",
   "execution_count": 159,
   "metadata": {},
   "outputs": [],
   "source": [
    "# Applyying PCA:\n",
    "\n",
    "pca = PCA()\n",
    "df_pca = pca.fit_transform(x_scale)"
   ]
  },
  {
   "cell_type": "code",
   "execution_count": 160,
   "metadata": {},
   "outputs": [],
   "source": [
    "# Checking the number of components:\n",
    "components_tot = len(pca.explained_variance_ratio_)\n",
    "\n",
    "# Generating a sequence for plotting:\n",
    "components = np.arange(components_tot)"
   ]
  },
  {
   "cell_type": "code",
   "execution_count": 161,
   "metadata": {},
   "outputs": [
    {
     "data": {
      "text/plain": [
       "Text(0.5, 1.0, 'Cumulative Explained Variance vs No. of Principal Components')"
      ]
     },
     "execution_count": 161,
     "metadata": {},
     "output_type": "execute_result"
    },
    {
     "data": {
      "image/png": "[encoded data removed]",
      "text/plain": [
       "<Figure size 1080x360 with 2 Axes>"
      ]
     },
     "metadata": {
      "needs_background": "light"
     },
     "output_type": "display_data"
    }
   ],
   "source": [
    "# Investigating the variance for each principal component:\n",
    "# refer to this blog:https://github.com/S-Tabor/udacity-customer-segmentation-project/blob/master/identify_customer_segments_final.ipynb\n",
    "\n",
    "fig, ax1 = plt.subplots(figsize=(15,5))\n",
    "ax1.bar(components, pca.explained_variance_ratio_)\n",
    "ax1.set_ylabel('Explained Variance', color=\"blue\")\n",
    "ax1.set_xlabel('Number of Components')\n",
    "\n",
    "ax2 = ax1.twinx() \n",
    "ax2.plot(np.cumsum(pca.explained_variance_ratio_), color=\"red\",marker='o')\n",
    "ax2.set_ylabel('Cumulative Explained Variance', color=\"red\")\n",
    "plt.title(\"Cumulative Explained Variance vs No. of Principal Components\")\n",
    "\n"
   ]
  },
  {
   "cell_type": "code",
   "execution_count": 162,
   "metadata": {},
   "outputs": [
    {
     "data": {
      "text/plain": [
       "0.910917798694768"
      ]
     },
     "execution_count": 162,
     "metadata": {},
     "output_type": "execute_result"
    }
   ],
   "source": [
    "np.cumsum(pca.explained_variance_ratio_[:30])[-1]"
   ]
  },
  {
   "cell_type": "code",
   "execution_count": 163,
   "metadata": {},
   "outputs": [],
   "source": [
    "# Re-applyying PCA to the data:\n",
    "pca = PCA(n_components=30)\n",
    "pca_30 = pca.fit_transform(x_scale)\n",
    "pca_30_df = pd.DataFrame(pca_30)\n"
   ]
  },
  {
   "cell_type": "markdown",
   "metadata": {},
   "source": [
    "### Discussion 2.2: Perform Dimensionality Reduction\n",
    "\n",
    "(Double-click this cell and replace this text with your own text, reporting your findings and decisions regarding dimensionality reduction. How many principal components / transformed features are you retaining for the next step of the analysis?)\n",
    "\n",
    "- On the scaled dataset, the PCA method is used to plot explained variance against the number of components, as well as cumulative explained variance.\n",
    "- 30 components are preserved to keep 91.09% of cumulative variation."
   ]
  },
  {
   "cell_type": "markdown",
   "metadata": {},
   "source": [
    "### Step 2.3: Interpret Principal Components\n",
    "\n",
    "Now that we have our transformed principal components, it's a nice idea to check out the weight of each variable on the first few components to see if they can be interpreted in some fashion.\n",
    "\n",
    "As a reminder, each principal component is a unit vector that points in the direction of highest variance (after accounting for the variance captured by earlier principal components). The further a weight is from zero, the more the principal component is in the direction of the corresponding feature. If two features have large weights of the same sign (both positive or both negative), then increases in one tend expect to be associated with increases in the other. To contrast, features with different signs can be expected to show a negative correlation: increases in one variable should result in a decrease in the other.\n",
    "\n",
    "- To investigate the features, you should map each weight to their corresponding feature name, then sort the features according to weight. The most interesting features for each principal component, then, will be those at the beginning and end of the sorted list. Use the data dictionary document to help you understand these most prominent features, their relationships, and what a positive or negative value on the principal component might indicate.\n",
    "- You should investigate and interpret feature associations from the first three principal components in this substep. To help facilitate this, you should write a function that you can call at any time to print the sorted list of feature weights, for the *i*-th principal component. This might come in handy in the next step of the project, when you interpret the tendencies of the discovered clusters."
   ]
  },
  {
   "cell_type": "code",
   "execution_count": 164,
   "metadata": {},
   "outputs": [
    {
     "data": {
      "text/plain": [
       "55"
      ]
     },
     "execution_count": 164,
     "metadata": {},
     "output_type": "execute_result"
    }
   ],
   "source": [
    "len(pca.components_[0])"
   ]
  },
  {
   "cell_type": "code",
   "execution_count": 165,
   "metadata": {},
   "outputs": [
    {
     "data": {
      "text/plain": [
       "(787633, 55)"
      ]
     },
     "execution_count": 165,
     "metadata": {},
     "output_type": "execute_result"
    }
   ],
   "source": [
    "df_scale.shape"
   ]
  },
  {
   "cell_type": "code",
   "execution_count": 166,
   "metadata": {},
   "outputs": [
    {
     "data": {
      "text/html": [
       "<div>\n",
       "<style scoped>\n",
       "    .dataframe tbody tr th:only-of-type {\n",
       "        vertical-align: middle;\n",
       "    }\n",
       "\n",
       "    .dataframe tbody tr th {\n",
       "        vertical-align: top;\n",
       "    }\n",
       "\n",
       "    .dataframe thead th {\n",
       "        text-align: right;\n",
       "    }\n",
       "</style>\n",
       "<table border=\"1\" class=\"dataframe\">\n",
       "  <thead>\n",
       "    <tr style=\"text-align: right;\">\n",
       "      <th></th>\n",
       "      <th>ALTERSKATEGORIE_GROB</th>\n",
       "      <th>ANREDE_KZ</th>\n",
       "      <th>FINANZ_MINIMALIST</th>\n",
       "      <th>FINANZ_SPARER</th>\n",
       "      <th>FINANZ_VORSORGER</th>\n",
       "      <th>FINANZ_ANLEGER</th>\n",
       "      <th>FINANZ_UNAUFFAELLIGER</th>\n",
       "      <th>FINANZ_HAUSBAUER</th>\n",
       "      <th>GREEN_AVANTGARDE</th>\n",
       "      <th>HEALTH_TYP</th>\n",
       "      <th>...</th>\n",
       "      <th>PLZ8_ANTG4</th>\n",
       "      <th>PLZ8_HHZ</th>\n",
       "      <th>PLZ8_GBZ</th>\n",
       "      <th>ARBEIT</th>\n",
       "      <th>ORTSGR_KLS9</th>\n",
       "      <th>RELAT_AB</th>\n",
       "      <th>engineered_decade</th>\n",
       "      <th>engineered_movement</th>\n",
       "      <th>engineered_wealth</th>\n",
       "      <th>engineered_life_stage</th>\n",
       "    </tr>\n",
       "  </thead>\n",
       "  <tbody>\n",
       "    <tr>\n",
       "      <th>0</th>\n",
       "      <td>-0.2504</td>\n",
       "      <td>-0.0341</td>\n",
       "      <td>-0.2323</td>\n",
       "      <td>0.2650</td>\n",
       "      <td>-0.2313</td>\n",
       "      <td>0.1779</td>\n",
       "      <td>0.1969</td>\n",
       "      <td>0.0778</td>\n",
       "      <td>-0.0783</td>\n",
       "      <td>0.0587</td>\n",
       "      <td>...</td>\n",
       "      <td>0.1432</td>\n",
       "      <td>0.0280</td>\n",
       "      <td>-0.1084</td>\n",
       "      <td>0.0949</td>\n",
       "      <td>0.1306</td>\n",
       "      <td>0.0892</td>\n",
       "      <td>0.2271</td>\n",
       "      <td>-0.0771</td>\n",
       "      <td>0.1371</td>\n",
       "      <td>-0.1107</td>\n",
       "    </tr>\n",
       "    <tr>\n",
       "      <th>1</th>\n",
       "      <td>0.1311</td>\n",
       "      <td>0.1143</td>\n",
       "      <td>-0.0956</td>\n",
       "      <td>-0.0969</td>\n",
       "      <td>0.1110</td>\n",
       "      <td>-0.1196</td>\n",
       "      <td>-0.1370</td>\n",
       "      <td>0.2068</td>\n",
       "      <td>-0.0708</td>\n",
       "      <td>-0.0241</td>\n",
       "      <td>...</td>\n",
       "      <td>0.2176</td>\n",
       "      <td>0.0353</td>\n",
       "      <td>-0.1718</td>\n",
       "      <td>0.1626</td>\n",
       "      <td>0.2195</td>\n",
       "      <td>0.1558</td>\n",
       "      <td>-0.1340</td>\n",
       "      <td>-0.0675</td>\n",
       "      <td>0.1934</td>\n",
       "      <td>-0.0810</td>\n",
       "    </tr>\n",
       "    <tr>\n",
       "      <th>2</th>\n",
       "      <td>0.0850</td>\n",
       "      <td>-0.3620</td>\n",
       "      <td>0.1452</td>\n",
       "      <td>-0.1111</td>\n",
       "      <td>0.1053</td>\n",
       "      <td>-0.2028</td>\n",
       "      <td>-0.1104</td>\n",
       "      <td>-0.0234</td>\n",
       "      <td>0.0422</td>\n",
       "      <td>-0.0216</td>\n",
       "      <td>...</td>\n",
       "      <td>0.0745</td>\n",
       "      <td>0.0077</td>\n",
       "      <td>-0.0625</td>\n",
       "      <td>0.0602</td>\n",
       "      <td>0.0808</td>\n",
       "      <td>0.0567</td>\n",
       "      <td>-0.1128</td>\n",
       "      <td>0.0404</td>\n",
       "      <td>0.0523</td>\n",
       "      <td>-0.0216</td>\n",
       "    </tr>\n",
       "    <tr>\n",
       "      <th>3</th>\n",
       "      <td>-0.0456</td>\n",
       "      <td>0.0385</td>\n",
       "      <td>0.1006</td>\n",
       "      <td>-0.0054</td>\n",
       "      <td>-0.0105</td>\n",
       "      <td>-0.1162</td>\n",
       "      <td>0.1061</td>\n",
       "      <td>-0.1680</td>\n",
       "      <td>0.4383</td>\n",
       "      <td>0.0123</td>\n",
       "      <td>...</td>\n",
       "      <td>0.0412</td>\n",
       "      <td>0.1745</td>\n",
       "      <td>0.0993</td>\n",
       "      <td>0.0248</td>\n",
       "      <td>0.2422</td>\n",
       "      <td>0.0748</td>\n",
       "      <td>0.0481</td>\n",
       "      <td>0.4348</td>\n",
       "      <td>-0.1671</td>\n",
       "      <td>0.0789</td>\n",
       "    </tr>\n",
       "    <tr>\n",
       "      <th>4</th>\n",
       "      <td>-0.0040</td>\n",
       "      <td>0.0170</td>\n",
       "      <td>0.0925</td>\n",
       "      <td>-0.0089</td>\n",
       "      <td>-0.0689</td>\n",
       "      <td>0.0264</td>\n",
       "      <td>-0.0287</td>\n",
       "      <td>-0.1017</td>\n",
       "      <td>0.1031</td>\n",
       "      <td>-0.0062</td>\n",
       "      <td>...</td>\n",
       "      <td>-0.0080</td>\n",
       "      <td>-0.5225</td>\n",
       "      <td>-0.4042</td>\n",
       "      <td>0.1896</td>\n",
       "      <td>0.0632</td>\n",
       "      <td>0.1213</td>\n",
       "      <td>0.0322</td>\n",
       "      <td>0.0987</td>\n",
       "      <td>-0.0509</td>\n",
       "      <td>0.0585</td>\n",
       "    </tr>\n",
       "  </tbody>\n",
       "</table>\n",
       "<p>5 rows × 55 columns</p>\n",
       "</div>"
      ],
      "text/plain": [
       "   ALTERSKATEGORIE_GROB  ANREDE_KZ  FINANZ_MINIMALIST  FINANZ_SPARER  \\\n",
       "0               -0.2504    -0.0341            -0.2323         0.2650   \n",
       "1                0.1311     0.1143            -0.0956        -0.0969   \n",
       "2                0.0850    -0.3620             0.1452        -0.1111   \n",
       "3               -0.0456     0.0385             0.1006        -0.0054   \n",
       "4               -0.0040     0.0170             0.0925        -0.0089   \n",
       "\n",
       "   FINANZ_VORSORGER  FINANZ_ANLEGER  FINANZ_UNAUFFAELLIGER  FINANZ_HAUSBAUER  \\\n",
       "0           -0.2313          0.1779                 0.1969            0.0778   \n",
       "1            0.1110         -0.1196                -0.1370            0.2068   \n",
       "2            0.1053         -0.2028                -0.1104           -0.0234   \n",
       "3           -0.0105         -0.1162                 0.1061           -0.1680   \n",
       "4           -0.0689          0.0264                -0.0287           -0.1017   \n",
       "\n",
       "   GREEN_AVANTGARDE  HEALTH_TYP  ...  PLZ8_ANTG4  PLZ8_HHZ  PLZ8_GBZ  ARBEIT  \\\n",
       "0           -0.0783      0.0587  ...      0.1432    0.0280   -0.1084  0.0949   \n",
       "1           -0.0708     -0.0241  ...      0.2176    0.0353   -0.1718  0.1626   \n",
       "2            0.0422     -0.0216  ...      0.0745    0.0077   -0.0625  0.0602   \n",
       "3            0.4383      0.0123  ...      0.0412    0.1745    0.0993  0.0248   \n",
       "4            0.1031     -0.0062  ...     -0.0080   -0.5225   -0.4042  0.1896   \n",
       "\n",
       "   ORTSGR_KLS9  RELAT_AB  engineered_decade  engineered_movement  \\\n",
       "0       0.1306    0.0892             0.2271              -0.0771   \n",
       "1       0.2195    0.1558            -0.1340              -0.0675   \n",
       "2       0.0808    0.0567            -0.1128               0.0404   \n",
       "3       0.2422    0.0748             0.0481               0.4348   \n",
       "4       0.0632    0.1213             0.0322               0.0987   \n",
       "\n",
       "   engineered_wealth  engineered_life_stage  \n",
       "0             0.1371                -0.1107  \n",
       "1             0.1934                -0.0810  \n",
       "2             0.0523                -0.0216  \n",
       "3            -0.1671                 0.0789  \n",
       "4            -0.0509                 0.0585  \n",
       "\n",
       "[5 rows x 55 columns]"
      ]
     },
     "execution_count": 166,
     "metadata": {},
     "output_type": "execute_result"
    }
   ],
   "source": [
    "feature_weights = pd.DataFrame(np.round(pca.components_, 4), columns=df_scale.columns)\n",
    "feature_weights.head()"
   ]
  },
  {
   "cell_type": "code",
   "execution_count": 167,
   "metadata": {},
   "outputs": [],
   "source": [
    "def get_cpn_feat_weight(pca, df, cpn_num):\n",
    "    # Returns features weights for an number of the PCA objects:\n",
    "    \n",
    "    feature_weights = pd.DataFrame(np.round(pca.components_, 4), columns = df.columns)\n",
    "    weight_nth = feature_weights.iloc[cpn_num - 1, :].sort_values()\n",
    "    weight_nth = weight_nth.to_frame()\n",
    "    weight_nth.reset_index(level=0, inplace=True)\n",
    "    weight_nth.columns = ['column name','weight']\n",
    "    return weight_nth"
   ]
  },
  {
   "cell_type": "code",
   "execution_count": 168,
   "metadata": {},
   "outputs": [],
   "source": [
    "def get_topnth_feat(cpn_feat_wgt, n=5):\n",
    "     # Returns features weights for 5 PCA objects:\n",
    "\n",
    "    tail_nth = cpn_feat_wgt.head(n).reset_index(drop=True)\n",
    "    head_nth = cpn_feat_wgt.tail(n).sort_values(by='weight',ascending=False).reset_index(drop=True)\n",
    "    top_nth = pd.concat([head_nth, tail_nth], axis=1)\n",
    "    top_nth.columns = ['top_positive_col','top_positive_col_weight','top_negative_col','top_negative_col_weight']\n",
    "    return top_nth"
   ]
  },
  {
   "cell_type": "code",
   "execution_count": 169,
   "metadata": {},
   "outputs": [
    {
     "data": {
      "text/html": [
       "<style  type=\"text/css\" >\n",
       "#T_8ca0e_row0_col1,#T_8ca0e_row0_col3{\n",
       "            width:  10em;\n",
       "             height:  80%;\n",
       "            background:  linear-gradient(90deg,#d65f5f 100.0%, transparent 100.0%);\n",
       "        }#T_8ca0e_row1_col1{\n",
       "            width:  10em;\n",
       "             height:  80%;\n",
       "            background:  linear-gradient(90deg,#d65f5f 92.9%, transparent 92.9%);\n",
       "        }#T_8ca0e_row1_col3{\n",
       "            width:  10em;\n",
       "             height:  80%;\n",
       "            background:  linear-gradient(90deg, transparent 7.2%, #d65f5f 7.2%, #d65f5f 100.0%, transparent 100.0%);\n",
       "        }#T_8ca0e_row2_col1{\n",
       "            width:  10em;\n",
       "             height:  80%;\n",
       "            background:  linear-gradient(90deg,#d65f5f 87.4%, transparent 87.4%);\n",
       "        }#T_8ca0e_row2_col3{\n",
       "            width:  10em;\n",
       "             height:  80%;\n",
       "            background:  linear-gradient(90deg, transparent 7.6%, #d65f5f 7.6%, #d65f5f 100.0%, transparent 100.0%);\n",
       "        }#T_8ca0e_row3_col1{\n",
       "            width:  10em;\n",
       "             height:  80%;\n",
       "            background:  linear-gradient(90deg,#d65f5f 85.7%, transparent 85.7%);\n",
       "        }#T_8ca0e_row3_col3{\n",
       "            width:  10em;\n",
       "             height:  80%;\n",
       "            background:  linear-gradient(90deg, transparent 22.3%, #d65f5f 22.3%, #d65f5f 100.0%, transparent 100.0%);\n",
       "        }#T_8ca0e_row4_col1{\n",
       "            width:  10em;\n",
       "             height:  80%;\n",
       "            background:  linear-gradient(90deg,#d65f5f 78.4%, transparent 78.4%);\n",
       "        }#T_8ca0e_row4_col3{\n",
       "            width:  10em;\n",
       "             height:  80%;\n",
       "            background:  linear-gradient(90deg, transparent 33.7%, #d65f5f 33.7%, #d65f5f 100.0%, transparent 100.0%);\n",
       "        }</style><table id=\"T_8ca0e_\" ><thead>    <tr>        <th class=\"blank level0\" ></th>        <th class=\"col_heading level0 col0\" >top_positive_col</th>        <th class=\"col_heading level0 col1\" >top_positive_col_weight</th>        <th class=\"col_heading level0 col2\" >top_negative_col</th>        <th class=\"col_heading level0 col3\" >top_negative_col_weight</th>    </tr></thead><tbody>\n",
       "                <tr>\n",
       "                        <th id=\"T_8ca0e_level0_row0\" class=\"row_heading level0 row0\" >0</th>\n",
       "                        <td id=\"T_8ca0e_row0_col0\" class=\"data row0 col0\" >FINANZ_SPARER</td>\n",
       "                        <td id=\"T_8ca0e_row0_col1\" class=\"data row0 col1\" >0.265000</td>\n",
       "                        <td id=\"T_8ca0e_row0_col2\" class=\"data row0 col2\" >ALTERSKATEGORIE_GROB</td>\n",
       "                        <td id=\"T_8ca0e_row0_col3\" class=\"data row0 col3\" >-0.250400</td>\n",
       "            </tr>\n",
       "            <tr>\n",
       "                        <th id=\"T_8ca0e_level0_row1\" class=\"row_heading level0 row1\" >1</th>\n",
       "                        <td id=\"T_8ca0e_row1_col0\" class=\"data row1 col0\" >SEMIO_REL</td>\n",
       "                        <td id=\"T_8ca0e_row1_col1\" class=\"data row1 col1\" >0.246200</td>\n",
       "                        <td id=\"T_8ca0e_row1_col2\" class=\"data row1 col2\" >FINANZ_MINIMALIST</td>\n",
       "                        <td id=\"T_8ca0e_row1_col3\" class=\"data row1 col3\" >-0.232300</td>\n",
       "            </tr>\n",
       "            <tr>\n",
       "                        <th id=\"T_8ca0e_level0_row2\" class=\"row_heading level0 row2\" >2</th>\n",
       "                        <td id=\"T_8ca0e_row2_col0\" class=\"data row2 col0\" >SEMIO_PFLICHT</td>\n",
       "                        <td id=\"T_8ca0e_row2_col1\" class=\"data row2 col1\" >0.231500</td>\n",
       "                        <td id=\"T_8ca0e_row2_col2\" class=\"data row2 col2\" >FINANZ_VORSORGER</td>\n",
       "                        <td id=\"T_8ca0e_row2_col3\" class=\"data row2 col3\" >-0.231300</td>\n",
       "            </tr>\n",
       "            <tr>\n",
       "                        <th id=\"T_8ca0e_level0_row3\" class=\"row_heading level0 row3\" >3</th>\n",
       "                        <td id=\"T_8ca0e_row3_col0\" class=\"data row3 col0\" >engineered_decade</td>\n",
       "                        <td id=\"T_8ca0e_row3_col1\" class=\"data row3 col1\" >0.227100</td>\n",
       "                        <td id=\"T_8ca0e_row3_col2\" class=\"data row3 col2\" >SEMIO_ERL</td>\n",
       "                        <td id=\"T_8ca0e_row3_col3\" class=\"data row3 col3\" >-0.194500</td>\n",
       "            </tr>\n",
       "            <tr>\n",
       "                        <th id=\"T_8ca0e_level0_row4\" class=\"row_heading level0 row4\" >4</th>\n",
       "                        <td id=\"T_8ca0e_row4_col0\" class=\"data row4 col0\" >SEMIO_TRADV</td>\n",
       "                        <td id=\"T_8ca0e_row4_col1\" class=\"data row4 col1\" >0.207800</td>\n",
       "                        <td id=\"T_8ca0e_row4_col2\" class=\"data row4 col2\" >SEMIO_LUST</td>\n",
       "                        <td id=\"T_8ca0e_row4_col3\" class=\"data row4 col3\" >-0.166100</td>\n",
       "            </tr>\n",
       "    </tbody></table>"
      ],
      "text/plain": [
       "<pandas.io.formats.style.Styler at 0x15b86dd7400>"
      ]
     },
     "execution_count": 169,
     "metadata": {},
     "output_type": "execute_result"
    }
   ],
   "source": [
    "# Analyzing the first principal component based the corresponding feature names:\n",
    "\n",
    "cpn_weight_1st = get_cpn_feat_weight(pca, df_scale, 1)\n",
    "get_topnth_feat(cpn_weight_1st).style.bar(align='mid')\n"
   ]
  },
  {
   "cell_type": "markdown",
   "metadata": {},
   "source": [
    "**Top 5 Positive**:\n",
    "\n",
    "- **FINANZ_SPARER**: Financial typology - SPARER: money-saver (1: very high, 5: very low)\n",
    "- **SEMIO_REL**: Personality typology - REL : religious (1:high affinity, 7: low affinity)\n",
    "- **SEMIO_PFLICHT**: Personality typology - PFLICHT: dutiful (1:high affinity, 7: low affinity)\n",
    "- **engineered_decade**: Person’s decade of youth (1: 40s , 60: 90s)\n",
    "- **SEMIO_TRADV**: Personality typology - TRADV: tradional-minded (1:high affinity, 7: low affinity)\n",
    "\n",
    "**Top 5 Negative**:\n",
    "\n",
    "- **ALTERSKATEGORIE_GROB**: Estimated age based on given name analysis (1: <30 years old, 4: >60 years old)\n",
    "- **FINANZ_MINIMALIST**: Financial typology - MINIMALIST: low financial interest (1: very high, 5: very low)\n",
    "- **FINANZ_VORSORGER**: Financial typology - VORSORGER: be prepared (1: very high, 5: very low)\n",
    "- **SEMIO_ERL**: Personality typology - ERL: event-oriented  (1:high affinity, 7: low affinity)\n",
    "- **SEMIO_LUST**: Personality typology - LUST: sensual-minded (1:high affinity, 7: low affinity)\n"
   ]
  },
  {
   "cell_type": "code",
   "execution_count": 170,
   "metadata": {},
   "outputs": [
    {
     "data": {
      "text/html": [
       "<style  type=\"text/css\" >\n",
       "#T_33bd3_row0_col1,#T_33bd3_row0_col3{\n",
       "            width:  10em;\n",
       "             height:  80%;\n",
       "            background:  linear-gradient(90deg,#d65f5f 100.0%, transparent 100.0%);\n",
       "        }#T_33bd3_row1_col1{\n",
       "            width:  10em;\n",
       "             height:  80%;\n",
       "            background:  linear-gradient(90deg,#d65f5f 96.3%, transparent 96.3%);\n",
       "        }#T_33bd3_row1_col3{\n",
       "            width:  10em;\n",
       "             height:  80%;\n",
       "            background:  linear-gradient(90deg, transparent 18.4%, #d65f5f 18.4%, #d65f5f 100.0%, transparent 100.0%);\n",
       "        }#T_33bd3_row2_col1{\n",
       "            width:  10em;\n",
       "             height:  80%;\n",
       "            background:  linear-gradient(90deg,#d65f5f 96.1%, transparent 96.1%);\n",
       "        }#T_33bd3_row2_col3{\n",
       "            width:  10em;\n",
       "             height:  80%;\n",
       "            background:  linear-gradient(90deg, transparent 21.3%, #d65f5f 21.3%, #d65f5f 100.0%, transparent 100.0%);\n",
       "        }#T_33bd3_row3_col1{\n",
       "            width:  10em;\n",
       "             height:  80%;\n",
       "            background:  linear-gradient(90deg,#d65f5f 95.2%, transparent 95.2%);\n",
       "        }#T_33bd3_row3_col3{\n",
       "            width:  10em;\n",
       "             height:  80%;\n",
       "            background:  linear-gradient(90deg, transparent 23.7%, #d65f5f 23.7%, #d65f5f 100.0%, transparent 100.0%);\n",
       "        }#T_33bd3_row4_col1{\n",
       "            width:  10em;\n",
       "             height:  80%;\n",
       "            background:  linear-gradient(90deg,#d65f5f 90.5%, transparent 90.5%);\n",
       "        }#T_33bd3_row4_col3{\n",
       "            width:  10em;\n",
       "             height:  80%;\n",
       "            background:  linear-gradient(90deg, transparent 29.0%, #d65f5f 29.0%, #d65f5f 100.0%, transparent 100.0%);\n",
       "        }</style><table id=\"T_33bd3_\" ><thead>    <tr>        <th class=\"blank level0\" ></th>        <th class=\"col_heading level0 col0\" >top_positive_col</th>        <th class=\"col_heading level0 col1\" >top_positive_col_weight</th>        <th class=\"col_heading level0 col2\" >top_negative_col</th>        <th class=\"col_heading level0 col3\" >top_negative_col_weight</th>    </tr></thead><tbody>\n",
       "                <tr>\n",
       "                        <th id=\"T_33bd3_level0_row0\" class=\"row_heading level0 row0\" >0</th>\n",
       "                        <td id=\"T_33bd3_row0_col0\" class=\"data row0 col0\" >PLZ8_ANTG3</td>\n",
       "                        <td id=\"T_33bd3_row0_col1\" class=\"data row0 col1\" >0.228500</td>\n",
       "                        <td id=\"T_33bd3_row0_col2\" class=\"data row0 col2\" >PLZ8_ANTG1</td>\n",
       "                        <td id=\"T_33bd3_row0_col3\" class=\"data row0 col3\" >-0.225300</td>\n",
       "            </tr>\n",
       "            <tr>\n",
       "                        <th id=\"T_33bd3_level0_row1\" class=\"row_heading level0 row1\" >1</th>\n",
       "                        <td id=\"T_33bd3_row1_col0\" class=\"data row1 col0\" >EWDICHTE</td>\n",
       "                        <td id=\"T_33bd3_row1_col1\" class=\"data row1 col1\" >0.220000</td>\n",
       "                        <td id=\"T_33bd3_row1_col2\" class=\"data row1 col2\" >INNENSTADT</td>\n",
       "                        <td id=\"T_33bd3_row1_col3\" class=\"data row1 col3\" >-0.183800</td>\n",
       "            </tr>\n",
       "            <tr>\n",
       "                        <th id=\"T_33bd3_level0_row2\" class=\"row_heading level0 row2\" >2</th>\n",
       "                        <td id=\"T_33bd3_row2_col0\" class=\"data row2 col0\" >ORTSGR_KLS9</td>\n",
       "                        <td id=\"T_33bd3_row2_col1\" class=\"data row2 col1\" >0.219500</td>\n",
       "                        <td id=\"T_33bd3_row2_col2\" class=\"data row2 col2\" >KONSUMNAEHE</td>\n",
       "                        <td id=\"T_33bd3_row2_col3\" class=\"data row2 col3\" >-0.177400</td>\n",
       "            </tr>\n",
       "            <tr>\n",
       "                        <th id=\"T_33bd3_level0_row3\" class=\"row_heading level0 row3\" >3</th>\n",
       "                        <td id=\"T_33bd3_row3_col0\" class=\"data row3 col0\" >PLZ8_ANTG4</td>\n",
       "                        <td id=\"T_33bd3_row3_col1\" class=\"data row3 col1\" >0.217600</td>\n",
       "                        <td id=\"T_33bd3_row3_col2\" class=\"data row3 col2\" >PLZ8_GBZ</td>\n",
       "                        <td id=\"T_33bd3_row3_col3\" class=\"data row3 col3\" >-0.171800</td>\n",
       "            </tr>\n",
       "            <tr>\n",
       "                        <th id=\"T_33bd3_level0_row4\" class=\"row_heading level0 row4\" >4</th>\n",
       "                        <td id=\"T_33bd3_row4_col0\" class=\"data row4 col0\" >FINANZ_HAUSBAUER</td>\n",
       "                        <td id=\"T_33bd3_row4_col1\" class=\"data row4 col1\" >0.206800</td>\n",
       "                        <td id=\"T_33bd3_row4_col2\" class=\"data row4 col2\" >ONLINE_AFFINITAET</td>\n",
       "                        <td id=\"T_33bd3_row4_col3\" class=\"data row4 col3\" >-0.159900</td>\n",
       "            </tr>\n",
       "    </tbody></table>"
      ],
      "text/plain": [
       "<pandas.io.formats.style.Styler at 0x15b84772c70>"
      ]
     },
     "execution_count": 170,
     "metadata": {},
     "output_type": "execute_result"
    }
   ],
   "source": [
    "# Analyzing the second principal component based the corresponding feature names:\n",
    "\n",
    "cpn_weight_2nd = get_cpn_feat_weight(pca, df_scale, 2)\n",
    "get_topnth_feat(cpn_weight_2nd).style.bar(align='mid')\n"
   ]
  },
  {
   "cell_type": "markdown",
   "metadata": {},
   "source": [
    "**Top 5 Positive**:\n",
    "\n",
    "- **PLZ8_ANTG3**: Number of 6-10 family houses in the PLZ8 region (0: no 6-10 family homes, 3: high share of 6-10 family homes)\n",
    "- **EWDICHTE**: Density of the households per square kilometer (1: less than 34 households per km^2, 6: more than 999 households per km^2)\n",
    "- **ORTSGR_KLS9**: Size of community (<= 2,000 inhabitants, 9: >700,000 inhabitants)\n",
    "- **PLZ8_ANTG4**: Number of 10+ family houses in the PLZ8 region (0: no 10+ family homes, 2: high share of 10+ family homes)\n",
    "- **FINANZ_HAUSBAUER**: Financial typology - home ownership (1: very high, 5: very low)\n",
    "\n",
    "\n",
    "**Top 5 Negative**:\n",
    "\n",
    "- **PLZ8_ANTG1**: Number of 1-2 family houses in the PLZ8 region (0: no 1-2 family homes, 4: very high share of 1-2 family homes)\n",
    "- **INNENSTADT**: Distance to city center (downtown) (1: in city center, 8: more than 40 km to city center)\n",
    "- **KONSUMNAEHE**: Distance from building to point of sale(poS) (1: in city center, 8: more than 40 km to city center)\n",
    "- **PLZ8_GBZ**: Number of buildings within the PLZ8 region (1: less than 60 buildings, 5: more than 449 builbings)\n",
    "- **ONLINE_AFFINITAET**: Online affinity (0: none, 5: highest)"
   ]
  },
  {
   "cell_type": "code",
   "execution_count": 171,
   "metadata": {},
   "outputs": [
    {
     "data": {
      "text/html": [
       "<style  type=\"text/css\" >\n",
       "#T_f8b8b_row0_col1,#T_f8b8b_row0_col3{\n",
       "            width:  10em;\n",
       "             height:  80%;\n",
       "            background:  linear-gradient(90deg,#d65f5f 100.0%, transparent 100.0%);\n",
       "        }#T_f8b8b_row1_col1{\n",
       "            width:  10em;\n",
       "             height:  80%;\n",
       "            background:  linear-gradient(90deg,#d65f5f 75.7%, transparent 75.7%);\n",
       "        }#T_f8b8b_row1_col3{\n",
       "            width:  10em;\n",
       "             height:  80%;\n",
       "            background:  linear-gradient(90deg, transparent 11.8%, #d65f5f 11.8%, #d65f5f 100.0%, transparent 100.0%);\n",
       "        }#T_f8b8b_row2_col1{\n",
       "            width:  10em;\n",
       "             height:  80%;\n",
       "            background:  linear-gradient(90deg,#d65f5f 70.8%, transparent 70.8%);\n",
       "        }#T_f8b8b_row2_col3{\n",
       "            width:  10em;\n",
       "             height:  80%;\n",
       "            background:  linear-gradient(90deg, transparent 17.7%, #d65f5f 17.7%, #d65f5f 100.0%, transparent 100.0%);\n",
       "        }#T_f8b8b_row3_col1{\n",
       "            width:  10em;\n",
       "             height:  80%;\n",
       "            background:  linear-gradient(90deg,#d65f5f 65.9%, transparent 65.9%);\n",
       "        }#T_f8b8b_row3_col3{\n",
       "            width:  10em;\n",
       "             height:  80%;\n",
       "            background:  linear-gradient(90deg, transparent 26.0%, #d65f5f 26.0%, #d65f5f 100.0%, transparent 100.0%);\n",
       "        }#T_f8b8b_row4_col1{\n",
       "            width:  10em;\n",
       "             height:  80%;\n",
       "            background:  linear-gradient(90deg,#d65f5f 42.5%, transparent 42.5%);\n",
       "        }#T_f8b8b_row4_col3{\n",
       "            width:  10em;\n",
       "             height:  80%;\n",
       "            background:  linear-gradient(90deg, transparent 39.2%, #d65f5f 39.2%, #d65f5f 100.0%, transparent 100.0%);\n",
       "        }</style><table id=\"T_f8b8b_\" ><thead>    <tr>        <th class=\"blank level0\" ></th>        <th class=\"col_heading level0 col0\" >top_positive_col</th>        <th class=\"col_heading level0 col1\" >top_positive_col_weight</th>        <th class=\"col_heading level0 col2\" >top_negative_col</th>        <th class=\"col_heading level0 col3\" >top_negative_col_weight</th>    </tr></thead><tbody>\n",
       "                <tr>\n",
       "                        <th id=\"T_f8b8b_level0_row0\" class=\"row_heading level0 row0\" >0</th>\n",
       "                        <td id=\"T_f8b8b_row0_col0\" class=\"data row0 col0\" >SEMIO_VERT</td>\n",
       "                        <td id=\"T_f8b8b_row0_col1\" class=\"data row0 col1\" >0.341900</td>\n",
       "                        <td id=\"T_f8b8b_row0_col2\" class=\"data row0 col2\" >ANREDE_KZ</td>\n",
       "                        <td id=\"T_f8b8b_row0_col3\" class=\"data row0 col3\" >-0.362000</td>\n",
       "            </tr>\n",
       "            <tr>\n",
       "                        <th id=\"T_f8b8b_level0_row1\" class=\"row_heading level0 row1\" >1</th>\n",
       "                        <td id=\"T_f8b8b_row1_col0\" class=\"data row1 col0\" >SEMIO_SOZ</td>\n",
       "                        <td id=\"T_f8b8b_row1_col1\" class=\"data row1 col1\" >0.258800</td>\n",
       "                        <td id=\"T_f8b8b_row1_col2\" class=\"data row1 col2\" >SEMIO_KAEM</td>\n",
       "                        <td id=\"T_f8b8b_row1_col3\" class=\"data row1 col3\" >-0.319300</td>\n",
       "            </tr>\n",
       "            <tr>\n",
       "                        <th id=\"T_f8b8b_level0_row2\" class=\"row_heading level0 row2\" >2</th>\n",
       "                        <td id=\"T_f8b8b_row2_col0\" class=\"data row2 col0\" >SEMIO_FAM</td>\n",
       "                        <td id=\"T_f8b8b_row2_col1\" class=\"data row2 col1\" >0.242000</td>\n",
       "                        <td id=\"T_f8b8b_row2_col2\" class=\"data row2 col2\" >SEMIO_DOM</td>\n",
       "                        <td id=\"T_f8b8b_row2_col3\" class=\"data row2 col3\" >-0.298000</td>\n",
       "            </tr>\n",
       "            <tr>\n",
       "                        <th id=\"T_f8b8b_level0_row3\" class=\"row_heading level0 row3\" >3</th>\n",
       "                        <td id=\"T_f8b8b_row3_col0\" class=\"data row3 col0\" >SEMIO_KULT</td>\n",
       "                        <td id=\"T_f8b8b_row3_col1\" class=\"data row3 col1\" >0.225300</td>\n",
       "                        <td id=\"T_f8b8b_row3_col2\" class=\"data row3 col2\" >SEMIO_KRIT</td>\n",
       "                        <td id=\"T_f8b8b_row3_col3\" class=\"data row3 col3\" >-0.267700</td>\n",
       "            </tr>\n",
       "            <tr>\n",
       "                        <th id=\"T_f8b8b_level0_row4\" class=\"row_heading level0 row4\" >4</th>\n",
       "                        <td id=\"T_f8b8b_row4_col0\" class=\"data row4 col0\" >FINANZ_MINIMALIST</td>\n",
       "                        <td id=\"T_f8b8b_row4_col1\" class=\"data row4 col1\" >0.145200</td>\n",
       "                        <td id=\"T_f8b8b_row4_col2\" class=\"data row4 col2\" >SEMIO_RAT</td>\n",
       "                        <td id=\"T_f8b8b_row4_col3\" class=\"data row4 col3\" >-0.220200</td>\n",
       "            </tr>\n",
       "    </tbody></table>"
      ],
      "text/plain": [
       "<pandas.io.formats.style.Styler at 0x15b84772ca0>"
      ]
     },
     "execution_count": 171,
     "metadata": {},
     "output_type": "execute_result"
    }
   ],
   "source": [
    "# Analyzing the third principal component based the corresponding feature names:\n",
    "\n",
    "cpn_weight_3rd = get_cpn_feat_weight(pca, df_scale, 3)\n",
    "get_topnth_feat(cpn_weight_3rd).style.bar(align='mid')\n"
   ]
  },
  {
   "cell_type": "markdown",
   "metadata": {},
   "source": [
    "**Top 5 Positive**:\n",
    "\n",
    "- **SEMIO_VERT**: Personality typology - VERT: dreamful (1: highest affinity, 7: lowest affinity)\n",
    "- **SEMIO_SOZ**: Personality typology - SOZ: socially-minded (1: highest affinity, 7: lowest affinity)\n",
    "- **SEMIO_FAM**: Personality typology - family-minded ( 1: highest affinity, 7: lowest affinity)\n",
    "- **SEMIO_KULT**: Personality typology - cultural-minded ( 1: highest affinity, 7: lowest affinity)\n",
    "- **FINANZ_MINIMALIST**: Financial typology - MINIMALIST: low financial interest (1: very high, 5: very low)\n",
    "\n",
    "**Top 5 Negative**:\n",
    "\n",
    "- **ANREDE_KZ**: Gender ( 1: male, 2: female)\n",
    "- **SEMIO_KAEM**: Personality typology - KAEM: combative attitude ( 1: highest affinity, 7: lowest affinity)\n",
    "- **SEMIO_DOM**: Personality typology - DOM: dominant-minded ( 1: highest affinity, 7: lowest affinity)\n",
    "- **SEMIO_KRIT**: Personality typology - KRIT: critical-minded ( 1: highest affinity, 7: lowest affinity)\n",
    "- **SEMIO_RAT**: Personality typology -Rat ( 1: highest affinity, 7: lowest affinity)"
   ]
  },
  {
   "cell_type": "markdown",
   "metadata": {},
   "source": [
    "### Discussion 2.3: Interpret Principal Components\n",
    "\n",
    "(Double-click this cell and replace this text with your own text, reporting your observations from detailed investigation of the first few principal components generated. Can we interpret positive and negative values from them in a meaningful way?)\n",
    "\n",
    "\n",
    "- **1ST component** represents the financial condition, personality, and age.\n",
    "    - [FINANZ_SPARER, SEMIO_REL, SEMIO_PFLICHT, engineered_decade, and SEMIO_TRADV] have strong positive weights and are associated with people who have less money-saver, less religious, less dutiful, and less tradionally-minded.\n",
    "    - [ALTERSKATEGORIE_GROB, FINANZ_MINIMALIST, FINANZ_VORSORGER, SEMIO_ERL, and SEMIO_LUST] have significant negative weights and are linked to old people who are less prepared, oriented, sensual, and less financial minimalists.     \n",
    "\n",
    "- **2nd component**  indicates the population densit, the location of the houses, and the financial condition\n",
    "    - [PLZ8_ANTG3, EWDICHTE, ORTSGR_KLS9, PLZ8_ANTG4, FINANZ_HAUSBAUER] have a substantial positive correlation with people who live in more densely populated areas and with lower home ownership.\n",
    "    - [PLZ8_ANTG1, INNENSTADT, KONSUMNAEHE, PLZ8_GBZ, ONLINE_AFFINITAET] have significant negative weights and are linked to people who are living in high density populated areas, their homes are far from the city center and the ponit of scale and have high online affinity.  \n",
    "\n",
    "\n",
    "- **3rd component**  indicates genderand personality\n",
    "    - [SEMIO_VERT, SEMIO_SOZ, SEMIO_FAM, SEMIO_KULT, FINANZ_MINIMALIST] are associated with men who are less dreamy, less socially, culturally. and family minded, less financial minimalists, and conservative return shopper types.\n",
    "    - [ANREDE_KZ, SEMIO_KAEM, SEMIO_DOM, SEMIO_KRIT, SEMIO_RAT] have significant negative weights and are linked to women who are less dominant,critical, and rational minded and have lower combative attitude. "
   ]
  },
  {
   "cell_type": "markdown",
   "metadata": {},
   "source": [
    "## Step 3: Clustering\n",
    "\n",
    "### Step 3.1: Apply Clustering to General Population\n",
    "\n",
    "You've assessed and cleaned the demographics data, then scaled and transformed them. Now, it's time to see how the data clusters in the principal components space. In this substep, you will apply k-means clustering to the dataset and use the average within-cluster distances from each point to their assigned cluster's centroid to decide on a number of clusters to keep.\n",
    "\n",
    "- Use sklearn's [KMeans](http://scikit-learn.org/stable/modules/generated/sklearn.cluster.KMeans.html#sklearn.cluster.KMeans) class to perform k-means clustering on the PCA-transformed data.\n",
    "- Then, compute the average difference from each point to its assigned cluster's center. **Hint**: The KMeans object's `.score()` method might be useful here, but note that in sklearn, scores tend to be defined so that larger is better. Try applying it to a small, toy dataset, or use an internet search to help your understanding.\n",
    "- Perform the above two steps for a number of different cluster counts. You can then see how the average distance decreases with an increasing number of clusters. However, each additional cluster provides a smaller net benefit. Use this fact to select a final number of clusters in which to group the data. **Warning**: because of the large size of the dataset, it can take a long time for the algorithm to resolve. The more clusters to fit, the longer the algorithm will take. You should test for cluster counts through at least 10 clusters to get the full picture, but you shouldn't need to test for a number of clusters above about 30.\n",
    "- Once you've selected a final number of clusters to use, re-fit a KMeans instance to perform the clustering operation. Make sure that you also obtain the cluster assignments for the general demographics data, since you'll be using them in the final Step 3.3."
   ]
  },
  {
   "cell_type": "code",
   "execution_count": 172,
   "metadata": {},
   "outputs": [
    {
     "name": "stdout",
     "output_type": "stream",
     "text": [
      "2\n",
      "3\n",
      "4\n",
      "5\n",
      "6\n",
      "7\n",
      "8\n",
      "9\n",
      "10\n",
      "11\n",
      "12\n",
      "13\n",
      "14\n",
      "15\n",
      "16\n",
      "17\n",
      "18\n",
      "19\n",
      "20\n",
      "21\n",
      "22\n",
      "23\n",
      "24\n",
      "25\n",
      "26\n",
      "27\n",
      "28\n",
      "29\n"
     ]
    }
   ],
   "source": [
    "max_num_clusters = 30\n",
    "scores = {}\n",
    "for i in range(2, max_num_clusters):\n",
    "    print(i)\n",
    "    scores[i] = np.abs(KMeans(n_clusters=i).fit(pca_30).score(pca_30))"
   ]
  },
  {
   "cell_type": "code",
   "execution_count": 173,
   "metadata": {},
   "outputs": [
    {
     "data": {
      "image/png": "[encoded data removed]",
      "text/plain": [
       "<Figure size 1152x720 with 1 Axes>"
      ]
     },
     "metadata": {
      "needs_background": "light"
     },
     "output_type": "display_data"
    }
   ],
   "source": [
    "# Plotting the change in cluster distances with the number of clusters:\n",
    "\n",
    "fig, ax = plt.subplots(figsize=(16,10))    \n",
    "ax = pd.Series(scores).plot(marker='o', color='b')\n",
    "ax.set_xticks(np.arange(2, max_num_clusters), minor=False);\n",
    "ax.set_xlabel(\"number of clusters\")\n",
    "ax.set_ylabel(\"SSE\");\n",
    "\n"
   ]
  },
  {
   "cell_type": "code",
   "execution_count": 174,
   "metadata": {},
   "outputs": [
    {
     "name": "stderr",
     "output_type": "stream",
     "text": [
      "C:\\Users\\AHMED TAMAN\\Anaconda3\\lib\\site-packages\\sklearn\\cluster\\_kmeans.py:792: FutureWarning: 'n_jobs' was deprecated in version 0.23 and will be removed in 1.0 (renaming of 0.25).\n",
      "  warnings.warn(\"'n_jobs' was deprecated in version 0.23 and will be\"\n"
     ]
    }
   ],
   "source": [
    "# Re-fitting the k-means model based on the selected number of clusters and perform predictions \n",
    "# for the general population demographics data.\n",
    "seleted_clusters_num = 17\n",
    "kmeans_model = KMeans(n_clusters=seleted_clusters_num, n_jobs=-1, random_state=0).fit(pca_30)\n"
   ]
  },
  {
   "cell_type": "code",
   "execution_count": 175,
   "metadata": {},
   "outputs": [
    {
     "name": "stdout",
     "output_type": "stream",
     "text": [
      "[15  4  1 ...  3  6 10]\n"
     ]
    }
   ],
   "source": [
    "print(kmeans_model.labels_)"
   ]
  },
  {
   "cell_type": "markdown",
   "metadata": {},
   "source": [
    "### Discussion 3.1: Apply Clustering to General Population\n",
    "\n",
    "(Double-click this cell and replace this text with your own text, reporting your findings and decisions regarding clustering. Into how many clusters have you decided to segment the population?)\n",
    "\n",
    "- A curve was plotted for 30 cluster scores with respect to the Distance to Number of Clusters.\n",
    "\n",
    "- It is clear from the plot, after the **17** Number of Clusters, that the decrease in the distance to the Number of Clusters  has significantly dropped, so this number of clusters has been used to fit the the KMeans algorithm on the transformed demographics data and predict cluster labels."
   ]
  },
  {
   "cell_type": "markdown",
   "metadata": {},
   "source": [
    "### Step 3.2: Apply All Steps to the Customer Data\n",
    "\n",
    "Now that you have clusters and cluster centers for the general population, it's time to see how the customer data maps on to those clusters. Take care to not confuse this for re-fitting all of the models to the customer data. Instead, you're going to use the fits from the general population to clean, transform, and cluster the customer data. In the last step of the project, you will interpret how the general population fits apply to the customer data.\n",
    "\n",
    "- Don't forget when loading in the customers data, that it is semicolon (`;`) delimited.\n",
    "- Apply the same feature wrangling, selection, and engineering steps to the customer demographics using the `clean_data()` function you created earlier. (You can assume that the customer demographics data has similar meaning behind missing data patterns as the general demographics data.)\n",
    "- Use the sklearn objects from the general demographics data, and apply their transformations to the customers data. That is, you should not be using a `.fit()` or `.fit_transform()` method to re-fit the old objects, nor should you be creating new sklearn objects! Carry the data through the feature scaling, PCA, and clustering steps, obtaining cluster assignments for all of the data in the customer demographics data."
   ]
  },
  {
   "cell_type": "code",
   "execution_count": 176,
   "metadata": {},
   "outputs": [],
   "source": [
    "# Loadding  the customer demographics data:\n",
    "customer_data = pd.read_csv('Udacity_CUSTOMERS_Subset.csv', delimiter=';')"
   ]
  },
  {
   "cell_type": "code",
   "execution_count": 177,
   "metadata": {},
   "outputs": [
    {
     "data": {
      "text/plain": [
       "(191652, 85)"
      ]
     },
     "execution_count": 177,
     "metadata": {},
     "output_type": "execute_result"
    }
   ],
   "source": [
    "customer_data.shape"
   ]
  },
  {
   "cell_type": "code",
   "execution_count": 178,
   "metadata": {},
   "outputs": [
    {
     "data": {
      "text/html": [
       "<div>\n",
       "<style scoped>\n",
       "    .dataframe tbody tr th:only-of-type {\n",
       "        vertical-align: middle;\n",
       "    }\n",
       "\n",
       "    .dataframe tbody tr th {\n",
       "        vertical-align: top;\n",
       "    }\n",
       "\n",
       "    .dataframe thead th {\n",
       "        text-align: right;\n",
       "    }\n",
       "</style>\n",
       "<table border=\"1\" class=\"dataframe\">\n",
       "  <thead>\n",
       "    <tr style=\"text-align: right;\">\n",
       "      <th></th>\n",
       "      <th>AGER_TYP</th>\n",
       "      <th>ALTERSKATEGORIE_GROB</th>\n",
       "      <th>ANREDE_KZ</th>\n",
       "      <th>CJT_GESAMTTYP</th>\n",
       "      <th>FINANZ_MINIMALIST</th>\n",
       "      <th>FINANZ_SPARER</th>\n",
       "      <th>FINANZ_VORSORGER</th>\n",
       "      <th>FINANZ_ANLEGER</th>\n",
       "      <th>FINANZ_UNAUFFAELLIGER</th>\n",
       "      <th>FINANZ_HAUSBAUER</th>\n",
       "      <th>...</th>\n",
       "      <th>PLZ8_ANTG1</th>\n",
       "      <th>PLZ8_ANTG2</th>\n",
       "      <th>PLZ8_ANTG3</th>\n",
       "      <th>PLZ8_ANTG4</th>\n",
       "      <th>PLZ8_BAUMAX</th>\n",
       "      <th>PLZ8_HHZ</th>\n",
       "      <th>PLZ8_GBZ</th>\n",
       "      <th>ARBEIT</th>\n",
       "      <th>ORTSGR_KLS9</th>\n",
       "      <th>RELAT_AB</th>\n",
       "    </tr>\n",
       "  </thead>\n",
       "  <tbody>\n",
       "    <tr>\n",
       "      <th>0</th>\n",
       "      <td>2</td>\n",
       "      <td>4</td>\n",
       "      <td>1</td>\n",
       "      <td>5.0</td>\n",
       "      <td>5</td>\n",
       "      <td>1</td>\n",
       "      <td>5</td>\n",
       "      <td>1</td>\n",
       "      <td>2</td>\n",
       "      <td>2</td>\n",
       "      <td>...</td>\n",
       "      <td>3.0</td>\n",
       "      <td>3.0</td>\n",
       "      <td>1.0</td>\n",
       "      <td>0.0</td>\n",
       "      <td>1.0</td>\n",
       "      <td>5.0</td>\n",
       "      <td>5.0</td>\n",
       "      <td>1.0</td>\n",
       "      <td>2.0</td>\n",
       "      <td>1.0</td>\n",
       "    </tr>\n",
       "    <tr>\n",
       "      <th>1</th>\n",
       "      <td>-1</td>\n",
       "      <td>4</td>\n",
       "      <td>1</td>\n",
       "      <td>NaN</td>\n",
       "      <td>5</td>\n",
       "      <td>1</td>\n",
       "      <td>5</td>\n",
       "      <td>1</td>\n",
       "      <td>3</td>\n",
       "      <td>2</td>\n",
       "      <td>...</td>\n",
       "      <td>NaN</td>\n",
       "      <td>NaN</td>\n",
       "      <td>NaN</td>\n",
       "      <td>NaN</td>\n",
       "      <td>NaN</td>\n",
       "      <td>NaN</td>\n",
       "      <td>NaN</td>\n",
       "      <td>NaN</td>\n",
       "      <td>NaN</td>\n",
       "      <td>NaN</td>\n",
       "    </tr>\n",
       "    <tr>\n",
       "      <th>2</th>\n",
       "      <td>-1</td>\n",
       "      <td>4</td>\n",
       "      <td>2</td>\n",
       "      <td>2.0</td>\n",
       "      <td>5</td>\n",
       "      <td>1</td>\n",
       "      <td>5</td>\n",
       "      <td>1</td>\n",
       "      <td>4</td>\n",
       "      <td>4</td>\n",
       "      <td>...</td>\n",
       "      <td>2.0</td>\n",
       "      <td>3.0</td>\n",
       "      <td>3.0</td>\n",
       "      <td>1.0</td>\n",
       "      <td>3.0</td>\n",
       "      <td>3.0</td>\n",
       "      <td>2.0</td>\n",
       "      <td>3.0</td>\n",
       "      <td>5.0</td>\n",
       "      <td>3.0</td>\n",
       "    </tr>\n",
       "    <tr>\n",
       "      <th>3</th>\n",
       "      <td>1</td>\n",
       "      <td>4</td>\n",
       "      <td>1</td>\n",
       "      <td>2.0</td>\n",
       "      <td>5</td>\n",
       "      <td>1</td>\n",
       "      <td>5</td>\n",
       "      <td>2</td>\n",
       "      <td>1</td>\n",
       "      <td>2</td>\n",
       "      <td>...</td>\n",
       "      <td>3.0</td>\n",
       "      <td>2.0</td>\n",
       "      <td>1.0</td>\n",
       "      <td>0.0</td>\n",
       "      <td>1.0</td>\n",
       "      <td>3.0</td>\n",
       "      <td>4.0</td>\n",
       "      <td>1.0</td>\n",
       "      <td>3.0</td>\n",
       "      <td>1.0</td>\n",
       "    </tr>\n",
       "    <tr>\n",
       "      <th>4</th>\n",
       "      <td>-1</td>\n",
       "      <td>3</td>\n",
       "      <td>1</td>\n",
       "      <td>6.0</td>\n",
       "      <td>3</td>\n",
       "      <td>1</td>\n",
       "      <td>4</td>\n",
       "      <td>4</td>\n",
       "      <td>5</td>\n",
       "      <td>2</td>\n",
       "      <td>...</td>\n",
       "      <td>2.0</td>\n",
       "      <td>4.0</td>\n",
       "      <td>2.0</td>\n",
       "      <td>1.0</td>\n",
       "      <td>2.0</td>\n",
       "      <td>3.0</td>\n",
       "      <td>3.0</td>\n",
       "      <td>3.0</td>\n",
       "      <td>5.0</td>\n",
       "      <td>1.0</td>\n",
       "    </tr>\n",
       "  </tbody>\n",
       "</table>\n",
       "<p>5 rows × 85 columns</p>\n",
       "</div>"
      ],
      "text/plain": [
       "   AGER_TYP  ALTERSKATEGORIE_GROB  ANREDE_KZ  CJT_GESAMTTYP  \\\n",
       "0         2                     4          1            5.0   \n",
       "1        -1                     4          1            NaN   \n",
       "2        -1                     4          2            2.0   \n",
       "3         1                     4          1            2.0   \n",
       "4        -1                     3          1            6.0   \n",
       "\n",
       "   FINANZ_MINIMALIST  FINANZ_SPARER  FINANZ_VORSORGER  FINANZ_ANLEGER  \\\n",
       "0                  5              1                 5               1   \n",
       "1                  5              1                 5               1   \n",
       "2                  5              1                 5               1   \n",
       "3                  5              1                 5               2   \n",
       "4                  3              1                 4               4   \n",
       "\n",
       "   FINANZ_UNAUFFAELLIGER  FINANZ_HAUSBAUER  ...  PLZ8_ANTG1  PLZ8_ANTG2  \\\n",
       "0                      2                 2  ...         3.0         3.0   \n",
       "1                      3                 2  ...         NaN         NaN   \n",
       "2                      4                 4  ...         2.0         3.0   \n",
       "3                      1                 2  ...         3.0         2.0   \n",
       "4                      5                 2  ...         2.0         4.0   \n",
       "\n",
       "   PLZ8_ANTG3  PLZ8_ANTG4  PLZ8_BAUMAX  PLZ8_HHZ  PLZ8_GBZ  ARBEIT  \\\n",
       "0         1.0         0.0          1.0       5.0       5.0     1.0   \n",
       "1         NaN         NaN          NaN       NaN       NaN     NaN   \n",
       "2         3.0         1.0          3.0       3.0       2.0     3.0   \n",
       "3         1.0         0.0          1.0       3.0       4.0     1.0   \n",
       "4         2.0         1.0          2.0       3.0       3.0     3.0   \n",
       "\n",
       "   ORTSGR_KLS9  RELAT_AB  \n",
       "0          2.0       1.0  \n",
       "1          NaN       NaN  \n",
       "2          5.0       3.0  \n",
       "3          3.0       1.0  \n",
       "4          5.0       1.0  \n",
       "\n",
       "[5 rows x 85 columns]"
      ]
     },
     "execution_count": 178,
     "metadata": {},
     "output_type": "execute_result"
    }
   ],
   "source": [
    "customer_data .head()"
   ]
  },
  {
   "cell_type": "code",
   "execution_count": 179,
   "metadata": {},
   "outputs": [
    {
     "name": "stdout",
     "output_type": "stream",
     "text": [
      "Convert missing value codes into NaN, OK\n",
      "The selected columns and rows were removed\n",
      "Selection, re-encoding, and engineering column values were done\n"
     ]
    }
   ],
   "source": [
    "# Applyying the clean function on thecustomer demographics data:\n",
    "\n",
    "df_customer, df_customer_highna = clean_data(customer_data)"
   ]
  },
  {
   "cell_type": "code",
   "execution_count": 180,
   "metadata": {},
   "outputs": [
    {
     "data": {
      "text/plain": [
       "(141525, 55)"
      ]
     },
     "execution_count": 180,
     "metadata": {},
     "output_type": "execute_result"
    }
   ],
   "source": [
    "df_customer.shape"
   ]
  },
  {
   "cell_type": "code",
   "execution_count": 181,
   "metadata": {},
   "outputs": [
    {
     "data": {
      "text/plain": [
       "(50036, 70)"
      ]
     },
     "execution_count": 181,
     "metadata": {},
     "output_type": "execute_result"
    }
   ],
   "source": [
    "df_customer_highna.shape"
   ]
  },
  {
   "cell_type": "code",
   "execution_count": 182,
   "metadata": {},
   "outputs": [],
   "source": [
    "# Perform features transformation:\n",
    "x_customer_imp = impute.transform(df_customer)"
   ]
  },
  {
   "cell_type": "code",
   "execution_count": 183,
   "metadata": {},
   "outputs": [],
   "source": [
    "# Perform features scaling:\n",
    "x_customer_sc = scaler.transform(x_customer_imp)"
   ]
  },
  {
   "cell_type": "code",
   "execution_count": 184,
   "metadata": {},
   "outputs": [
    {
     "data": {
      "text/plain": [
       "(141525, 30)"
      ]
     },
     "execution_count": 184,
     "metadata": {},
     "output_type": "execute_result"
    }
   ],
   "source": [
    "# Perform dimensionality reduction:\n",
    "x_customer_pca = pca.transform(x_customer_sc)\n",
    "x_customer_pca.shape"
   ]
  },
  {
   "cell_type": "code",
   "execution_count": 185,
   "metadata": {},
   "outputs": [
    {
     "data": {
      "text/html": [
       "<div>\n",
       "<style scoped>\n",
       "    .dataframe tbody tr th:only-of-type {\n",
       "        vertical-align: middle;\n",
       "    }\n",
       "\n",
       "    .dataframe tbody tr th {\n",
       "        vertical-align: top;\n",
       "    }\n",
       "\n",
       "    .dataframe thead th {\n",
       "        text-align: right;\n",
       "    }\n",
       "</style>\n",
       "<table border=\"1\" class=\"dataframe\">\n",
       "  <thead>\n",
       "    <tr style=\"text-align: right;\">\n",
       "      <th></th>\n",
       "      <th>1</th>\n",
       "      <th>2</th>\n",
       "      <th>3</th>\n",
       "      <th>4</th>\n",
       "      <th>5</th>\n",
       "      <th>6</th>\n",
       "      <th>7</th>\n",
       "      <th>8</th>\n",
       "      <th>9</th>\n",
       "      <th>10</th>\n",
       "      <th>...</th>\n",
       "      <th>21</th>\n",
       "      <th>22</th>\n",
       "      <th>23</th>\n",
       "      <th>24</th>\n",
       "      <th>25</th>\n",
       "      <th>26</th>\n",
       "      <th>27</th>\n",
       "      <th>28</th>\n",
       "      <th>29</th>\n",
       "      <th>30</th>\n",
       "    </tr>\n",
       "  </thead>\n",
       "  <tbody>\n",
       "    <tr>\n",
       "      <th>count</th>\n",
       "      <td>141525.000000</td>\n",
       "      <td>141525.000000</td>\n",
       "      <td>141525.000000</td>\n",
       "      <td>141525.000000</td>\n",
       "      <td>141525.000000</td>\n",
       "      <td>141525.000000</td>\n",
       "      <td>141525.000000</td>\n",
       "      <td>141525.000000</td>\n",
       "      <td>141525.000000</td>\n",
       "      <td>141525.000000</td>\n",
       "      <td>...</td>\n",
       "      <td>141525.000000</td>\n",
       "      <td>141525.000000</td>\n",
       "      <td>141525.000000</td>\n",
       "      <td>141525.000000</td>\n",
       "      <td>141525.000000</td>\n",
       "      <td>141525.000000</td>\n",
       "      <td>141525.000000</td>\n",
       "      <td>141525.000000</td>\n",
       "      <td>141525.000000</td>\n",
       "      <td>141525.000000</td>\n",
       "    </tr>\n",
       "    <tr>\n",
       "      <th>mean</th>\n",
       "      <td>-2.574140</td>\n",
       "      <td>-0.216473</td>\n",
       "      <td>1.422360</td>\n",
       "      <td>0.906300</td>\n",
       "      <td>0.022501</td>\n",
       "      <td>0.199232</td>\n",
       "      <td>0.271743</td>\n",
       "      <td>-0.193708</td>\n",
       "      <td>0.148114</td>\n",
       "      <td>-0.143053</td>\n",
       "      <td>...</td>\n",
       "      <td>-0.068502</td>\n",
       "      <td>-0.080817</td>\n",
       "      <td>0.011823</td>\n",
       "      <td>0.048263</td>\n",
       "      <td>0.042897</td>\n",
       "      <td>-0.119686</td>\n",
       "      <td>0.002001</td>\n",
       "      <td>-0.038616</td>\n",
       "      <td>0.022129</td>\n",
       "      <td>0.004162</td>\n",
       "    </tr>\n",
       "    <tr>\n",
       "      <th>std</th>\n",
       "      <td>1.990276</td>\n",
       "      <td>2.559222</td>\n",
       "      <td>2.177923</td>\n",
       "      <td>1.878128</td>\n",
       "      <td>1.461701</td>\n",
       "      <td>1.284172</td>\n",
       "      <td>1.758931</td>\n",
       "      <td>1.228187</td>\n",
       "      <td>1.184199</td>\n",
       "      <td>1.226598</td>\n",
       "      <td>...</td>\n",
       "      <td>0.766721</td>\n",
       "      <td>0.860555</td>\n",
       "      <td>0.771998</td>\n",
       "      <td>0.715000</td>\n",
       "      <td>0.701285</td>\n",
       "      <td>0.668076</td>\n",
       "      <td>0.682997</td>\n",
       "      <td>0.661531</td>\n",
       "      <td>0.641469</td>\n",
       "      <td>0.631115</td>\n",
       "    </tr>\n",
       "    <tr>\n",
       "      <th>min</th>\n",
       "      <td>-7.387860</td>\n",
       "      <td>-8.412378</td>\n",
       "      <td>-5.129359</td>\n",
       "      <td>-4.556441</td>\n",
       "      <td>-5.995327</td>\n",
       "      <td>-8.649900</td>\n",
       "      <td>-2.785217</td>\n",
       "      <td>-5.223225</td>\n",
       "      <td>-8.940663</td>\n",
       "      <td>-4.450824</td>\n",
       "      <td>...</td>\n",
       "      <td>-7.913462</td>\n",
       "      <td>-16.180586</td>\n",
       "      <td>-7.546157</td>\n",
       "      <td>-4.814932</td>\n",
       "      <td>-2.688589</td>\n",
       "      <td>-7.470680</td>\n",
       "      <td>-3.583456</td>\n",
       "      <td>-7.893714</td>\n",
       "      <td>-9.432672</td>\n",
       "      <td>-3.332581</td>\n",
       "    </tr>\n",
       "    <tr>\n",
       "      <th>25%</th>\n",
       "      <td>-3.973430</td>\n",
       "      <td>-2.114234</td>\n",
       "      <td>-0.604245</td>\n",
       "      <td>-0.668397</td>\n",
       "      <td>-0.921232</td>\n",
       "      <td>-0.175479</td>\n",
       "      <td>-0.496541</td>\n",
       "      <td>-0.992688</td>\n",
       "      <td>-0.631168</td>\n",
       "      <td>-0.930912</td>\n",
       "      <td>...</td>\n",
       "      <td>-0.580517</td>\n",
       "      <td>-0.466744</td>\n",
       "      <td>-0.457916</td>\n",
       "      <td>-0.422303</td>\n",
       "      <td>-0.469268</td>\n",
       "      <td>-0.557656</td>\n",
       "      <td>-0.460111</td>\n",
       "      <td>-0.470485</td>\n",
       "      <td>-0.384929</td>\n",
       "      <td>-0.445179</td>\n",
       "    </tr>\n",
       "    <tr>\n",
       "      <th>50%</th>\n",
       "      <td>-2.867034</td>\n",
       "      <td>-0.559336</td>\n",
       "      <td>2.020067</td>\n",
       "      <td>0.927721</td>\n",
       "      <td>0.157882</td>\n",
       "      <td>0.390163</td>\n",
       "      <td>0.063050</td>\n",
       "      <td>-0.242096</td>\n",
       "      <td>0.193184</td>\n",
       "      <td>-0.237299</td>\n",
       "      <td>...</td>\n",
       "      <td>-0.052134</td>\n",
       "      <td>-0.066448</td>\n",
       "      <td>0.013155</td>\n",
       "      <td>0.051771</td>\n",
       "      <td>0.005241</td>\n",
       "      <td>-0.117515</td>\n",
       "      <td>0.001670</td>\n",
       "      <td>-0.042200</td>\n",
       "      <td>0.041505</td>\n",
       "      <td>-0.028038</td>\n",
       "    </tr>\n",
       "    <tr>\n",
       "      <th>75%</th>\n",
       "      <td>-1.518779</td>\n",
       "      <td>1.409066</td>\n",
       "      <td>3.180616</td>\n",
       "      <td>2.485286</td>\n",
       "      <td>1.059992</td>\n",
       "      <td>0.906899</td>\n",
       "      <td>0.655409</td>\n",
       "      <td>0.487610</td>\n",
       "      <td>0.969081</td>\n",
       "      <td>0.504065</td>\n",
       "      <td>...</td>\n",
       "      <td>0.456208</td>\n",
       "      <td>0.321998</td>\n",
       "      <td>0.482275</td>\n",
       "      <td>0.522283</td>\n",
       "      <td>0.573305</td>\n",
       "      <td>0.317543</td>\n",
       "      <td>0.457100</td>\n",
       "      <td>0.382514</td>\n",
       "      <td>0.448448</td>\n",
       "      <td>0.418946</td>\n",
       "    </tr>\n",
       "    <tr>\n",
       "      <th>max</th>\n",
       "      <td>7.531622</td>\n",
       "      <td>13.580450</td>\n",
       "      <td>7.253205</td>\n",
       "      <td>9.188234</td>\n",
       "      <td>5.981348</td>\n",
       "      <td>11.444426</td>\n",
       "      <td>58.684081</td>\n",
       "      <td>26.341381</td>\n",
       "      <td>5.438904</td>\n",
       "      <td>25.050871</td>\n",
       "      <td>...</td>\n",
       "      <td>4.508982</td>\n",
       "      <td>28.051312</td>\n",
       "      <td>15.271587</td>\n",
       "      <td>7.350528</td>\n",
       "      <td>2.567756</td>\n",
       "      <td>5.316515</td>\n",
       "      <td>4.309263</td>\n",
       "      <td>10.454094</td>\n",
       "      <td>7.766247</td>\n",
       "      <td>2.711345</td>\n",
       "    </tr>\n",
       "  </tbody>\n",
       "</table>\n",
       "<p>8 rows × 30 columns</p>\n",
       "</div>"
      ],
      "text/plain": [
       "                  1              2              3              4   \\\n",
       "count  141525.000000  141525.000000  141525.000000  141525.000000   \n",
       "mean       -2.574140      -0.216473       1.422360       0.906300   \n",
       "std         1.990276       2.559222       2.177923       1.878128   \n",
       "min        -7.387860      -8.412378      -5.129359      -4.556441   \n",
       "25%        -3.973430      -2.114234      -0.604245      -0.668397   \n",
       "50%        -2.867034      -0.559336       2.020067       0.927721   \n",
       "75%        -1.518779       1.409066       3.180616       2.485286   \n",
       "max         7.531622      13.580450       7.253205       9.188234   \n",
       "\n",
       "                  5              6              7              8   \\\n",
       "count  141525.000000  141525.000000  141525.000000  141525.000000   \n",
       "mean        0.022501       0.199232       0.271743      -0.193708   \n",
       "std         1.461701       1.284172       1.758931       1.228187   \n",
       "min        -5.995327      -8.649900      -2.785217      -5.223225   \n",
       "25%        -0.921232      -0.175479      -0.496541      -0.992688   \n",
       "50%         0.157882       0.390163       0.063050      -0.242096   \n",
       "75%         1.059992       0.906899       0.655409       0.487610   \n",
       "max         5.981348      11.444426      58.684081      26.341381   \n",
       "\n",
       "                  9              10  ...             21             22  \\\n",
       "count  141525.000000  141525.000000  ...  141525.000000  141525.000000   \n",
       "mean        0.148114      -0.143053  ...      -0.068502      -0.080817   \n",
       "std         1.184199       1.226598  ...       0.766721       0.860555   \n",
       "min        -8.940663      -4.450824  ...      -7.913462     -16.180586   \n",
       "25%        -0.631168      -0.930912  ...      -0.580517      -0.466744   \n",
       "50%         0.193184      -0.237299  ...      -0.052134      -0.066448   \n",
       "75%         0.969081       0.504065  ...       0.456208       0.321998   \n",
       "max         5.438904      25.050871  ...       4.508982      28.051312   \n",
       "\n",
       "                  23             24             25             26  \\\n",
       "count  141525.000000  141525.000000  141525.000000  141525.000000   \n",
       "mean        0.011823       0.048263       0.042897      -0.119686   \n",
       "std         0.771998       0.715000       0.701285       0.668076   \n",
       "min        -7.546157      -4.814932      -2.688589      -7.470680   \n",
       "25%        -0.457916      -0.422303      -0.469268      -0.557656   \n",
       "50%         0.013155       0.051771       0.005241      -0.117515   \n",
       "75%         0.482275       0.522283       0.573305       0.317543   \n",
       "max        15.271587       7.350528       2.567756       5.316515   \n",
       "\n",
       "                  27             28             29             30  \n",
       "count  141525.000000  141525.000000  141525.000000  141525.000000  \n",
       "mean        0.002001      -0.038616       0.022129       0.004162  \n",
       "std         0.682997       0.661531       0.641469       0.631115  \n",
       "min        -3.583456      -7.893714      -9.432672      -3.332581  \n",
       "25%        -0.460111      -0.470485      -0.384929      -0.445179  \n",
       "50%         0.001670      -0.042200       0.041505      -0.028038  \n",
       "75%         0.457100       0.382514       0.448448       0.418946  \n",
       "max         4.309263      10.454094       7.766247       2.711345  \n",
       "\n",
       "[8 rows x 30 columns]"
      ]
     },
     "execution_count": 185,
     "metadata": {},
     "output_type": "execute_result"
    }
   ],
   "source": [
    "df_customer_pca = pd.DataFrame(x_customer_pca, columns=np.arange(1, 31))\n",
    "df_customer_pca.describe()"
   ]
  },
  {
   "cell_type": "code",
   "execution_count": 186,
   "metadata": {},
   "outputs": [],
   "source": [
    "# Perform kmeans Clustering\n",
    "x_customer_kmeans = kmeans_model.predict(x_customer_pca)"
   ]
  },
  {
   "cell_type": "code",
   "execution_count": 187,
   "metadata": {},
   "outputs": [
    {
     "data": {
      "text/plain": [
       "array([ 0,  1,  2,  3,  4,  5,  6,  7,  8,  9, 10, 11, 12, 13, 14, 15, 16])"
      ]
     },
     "execution_count": 187,
     "metadata": {},
     "output_type": "execute_result"
    }
   ],
   "source": [
    "np.unique(x_customer_kmeans)"
   ]
  },
  {
   "cell_type": "markdown",
   "metadata": {},
   "source": [
    "### Step 3.3: Compare Customer Data to Demographics Data\n",
    "\n",
    "At this point, you have clustered data based on demographics of the general population of Germany, and seen how the customer data for a mail-order sales company maps onto those demographic clusters. In this final substep, you will compare the two cluster distributions to see where the strongest customer base for the company is.\n",
    "\n",
    "Consider the proportion of persons in each cluster for the general population, and the proportions for the customers. If we think the company's customer base to be universal, then the cluster assignment proportions should be fairly similar between the two. If there are only particular segments of the population that are interested in the company's products, then we should see a mismatch from one to the other. If there is a higher proportion of persons in a cluster for the customer data compared to the general population (e.g. 5% of persons are assigned to a cluster for the general population, but 15% of the customer data is closest to that cluster's centroid) then that suggests the people in that cluster to be a target audience for the company. On the other hand, the proportion of the data in a cluster being larger in the general population than the customer data (e.g. only 2% of customers closest to a population centroid that captures 6% of the data) suggests that group of persons to be outside of the target demographics.\n",
    "\n",
    "Take a look at the following points in this step:\n",
    "\n",
    "- Compute the proportion of data points in each cluster for the general population and the customer data. Visualizations will be useful here: both for the individual dataset proportions, but also to visualize the ratios in cluster representation between groups. Seaborn's [`countplot()`](https://seaborn.pydata.org/generated/seaborn.countplot.html) or [`barplot()`](https://seaborn.pydata.org/generated/seaborn.barplot.html) function could be handy.\n",
    "  - Recall the analysis you performed in step 1.1.3 of the project, where you separated out certain data points from the dataset if they had more than a specified threshold of missing values. If you found that this group was qualitatively different from the main bulk of the data, you should treat this as an additional data cluster in this analysis. Make sure that you account for the number of data points in this subset, for both the general population and customer datasets, when making your computations!\n",
    "- Which cluster or clusters are overrepresented in the customer dataset compared to the general population? Select at least one such cluster and infer what kind of people might be represented by that cluster. Use the principal component interpretations from step 2.3 or look at additional components to help you make this inference. Alternatively, you can use the `.inverse_transform()` method of the PCA and StandardScaler objects to transform centroids back to the original data space and interpret the retrieved values directly.\n",
    "- Perform a similar investigation for the underrepresented clusters. Which cluster or clusters are underrepresented in the customer dataset compared to the general population, and what kinds of people are typified by these clusters?"
   ]
  },
  {
   "cell_type": "code",
   "execution_count": 188,
   "metadata": {},
   "outputs": [],
   "source": [
    "# Compare, for each cluster, the proportion of data  for the customers data and the general population:\n",
    "def count_dataset(df, dataset_name):\n",
    "    # Calculate the proportion of data points in each cluster:\n",
    "\n",
    "    per_dataset = pd.DataFrame(itemfreq(df[\"labels\"]),columns=['label','freq'])\n",
    "    per_dataset['dataset'] = dataset_name\n",
    "    per_dataset['freq'] = per_dataset['freq']/per_dataset['freq'].sum()\n",
    "    return per_dataset\n",
    "\n"
   ]
  },
  {
   "cell_type": "code",
   "execution_count": 189,
   "metadata": {},
   "outputs": [],
   "source": [
    "pca_30_df[\"labels\"] = kmeans_model.labels_\n",
    "df_customer_pca[\"labels\"] = x_customer_kmeans"
   ]
  },
  {
   "cell_type": "code",
   "execution_count": 190,
   "metadata": {},
   "outputs": [
    {
     "name": "stdout",
     "output_type": "stream",
     "text": [
      "    label      freq     dataset\n",
      "0       0  0.061061  population\n",
      "1       1  0.097219  population\n",
      "2       2  0.031433  population\n",
      "3       3  0.095226  population\n",
      "4       4  0.066309  population\n",
      "5       5  0.069488  population\n",
      "6       6  0.067921  population\n",
      "7       7  0.058739  population\n",
      "8       8  0.067902  population\n",
      "9       9  0.077687  population\n",
      "10     10  0.056234  population\n",
      "11     11  0.004238  population\n",
      "12     12  0.063782  population\n",
      "13     13  0.038699  population\n",
      "14     14  0.066682  population\n",
      "15     15  0.008360  population\n",
      "16     16  0.069017  population\n",
      "0       0  0.027380    customer\n",
      "1       1  0.075895    customer\n",
      "2       2  0.026617    customer\n",
      "3       3  0.012372    customer\n",
      "4       4  0.110136    customer\n",
      "5       5  0.012938    customer\n",
      "6       6  0.007617    customer\n",
      "7       7  0.071910    customer\n",
      "8       8  0.075584    customer\n",
      "9       9  0.006628    customer\n",
      "10     10  0.128465    customer\n",
      "11     11  0.020124    customer\n",
      "12     12  0.027776    customer\n",
      "13     13  0.005377    customer\n",
      "14     14  0.309239    customer\n",
      "15     15  0.009610    customer\n",
      "16     16  0.072334    customer\n"
     ]
    },
    {
     "name": "stderr",
     "output_type": "stream",
     "text": [
      "<ipython-input-188-77733b4bd1b1>:5: DeprecationWarning: `itemfreq` is deprecated!\n",
      "`itemfreq` is deprecated and will be removed in a future version. Use instead `np.unique(..., return_counts=True)`\n",
      "  per_dataset = pd.DataFrame(itemfreq(df[\"labels\"]),columns=['label','freq'])\n"
     ]
    }
   ],
   "source": [
    "pop_per_dataset = count_dataset(pca_30_df, 'population')\n",
    "customer_per_dataset = count_dataset(df_customer_pca, 'customer')\n",
    "total_per_dataset = pop_per_dataset.append(customer_per_dataset)\n",
    "print(total_per_dataset)"
   ]
  },
  {
   "cell_type": "code",
   "execution_count": 191,
   "metadata": {},
   "outputs": [
    {
     "data": {
      "image/png": "[encoded data removed]",
      "text/plain": [
       "<Figure size 1152x720 with 1 Axes>"
      ]
     },
     "metadata": {
      "needs_background": "light"
     },
     "output_type": "display_data"
    }
   ],
   "source": [
    "# making a visual plot:\n",
    "fig, ax = plt.subplots(figsize=(16,10))    \n",
    "ax=sns.barplot(x='label', y='freq', hue='dataset', data=total_per_dataset)"
   ]
  },
  {
   "cell_type": "code",
   "execution_count": 192,
   "metadata": {},
   "outputs": [
    {
     "data": {
      "image/png": "[encoded data removed]",
      "text/plain": [
       "<Figure size 1152x720 with 1 Axes>"
      ]
     },
     "metadata": {
      "needs_background": "light"
     },
     "output_type": "display_data"
    }
   ],
   "source": [
    "# making a visual plot for customer frequency & population frequency:\n",
    "fig, ax = plt.subplots(figsize=(16,10))\n",
    "ax=sns.barplot(x=customer_per_dataset.label, y=customer_per_dataset.freq - pop_per_dataset .freq)"
   ]
  },
  {
   "cell_type": "code",
   "execution_count": 193,
   "metadata": {},
   "outputs": [],
   "source": [
    "\n",
    "df_customer_pca = df_customer_pca.rename(columns = {1: 'pop_density-finance_status',\n",
    "                                            2: 'age-generation',\n",
    "                                            3: 'gender'}\n",
    "                                )"
   ]
  },
  {
   "cell_type": "code",
   "execution_count": 194,
   "metadata": {},
   "outputs": [
    {
     "data": {
      "text/html": [
       "<div>\n",
       "<style scoped>\n",
       "    .dataframe tbody tr th:only-of-type {\n",
       "        vertical-align: middle;\n",
       "    }\n",
       "\n",
       "    .dataframe tbody tr th {\n",
       "        vertical-align: top;\n",
       "    }\n",
       "\n",
       "    .dataframe thead th {\n",
       "        text-align: right;\n",
       "    }\n",
       "</style>\n",
       "<table border=\"1\" class=\"dataframe\">\n",
       "  <thead>\n",
       "    <tr style=\"text-align: right;\">\n",
       "      <th></th>\n",
       "      <th>pop_density-finance_status</th>\n",
       "      <th>age-generation</th>\n",
       "      <th>gender</th>\n",
       "      <th>4</th>\n",
       "      <th>5</th>\n",
       "      <th>6</th>\n",
       "      <th>7</th>\n",
       "      <th>8</th>\n",
       "      <th>9</th>\n",
       "      <th>10</th>\n",
       "      <th>...</th>\n",
       "      <th>22</th>\n",
       "      <th>23</th>\n",
       "      <th>24</th>\n",
       "      <th>25</th>\n",
       "      <th>26</th>\n",
       "      <th>27</th>\n",
       "      <th>28</th>\n",
       "      <th>29</th>\n",
       "      <th>30</th>\n",
       "      <th>labels</th>\n",
       "    </tr>\n",
       "  </thead>\n",
       "  <tbody>\n",
       "    <tr>\n",
       "      <th>0</th>\n",
       "      <td>-5.140720</td>\n",
       "      <td>-2.966920</td>\n",
       "      <td>3.716627</td>\n",
       "      <td>2.002199</td>\n",
       "      <td>-2.258215</td>\n",
       "      <td>-0.159996</td>\n",
       "      <td>1.150545</td>\n",
       "      <td>-0.664741</td>\n",
       "      <td>1.201100</td>\n",
       "      <td>-1.478185</td>\n",
       "      <td>...</td>\n",
       "      <td>0.465836</td>\n",
       "      <td>0.184948</td>\n",
       "      <td>-0.164475</td>\n",
       "      <td>-0.132766</td>\n",
       "      <td>0.489390</td>\n",
       "      <td>1.295882</td>\n",
       "      <td>-0.696118</td>\n",
       "      <td>0.373082</td>\n",
       "      <td>-0.471942</td>\n",
       "      <td>14</td>\n",
       "    </tr>\n",
       "    <tr>\n",
       "      <th>1</th>\n",
       "      <td>-3.934767</td>\n",
       "      <td>3.313809</td>\n",
       "      <td>-0.427767</td>\n",
       "      <td>2.502474</td>\n",
       "      <td>1.051566</td>\n",
       "      <td>0.359670</td>\n",
       "      <td>0.147568</td>\n",
       "      <td>0.176932</td>\n",
       "      <td>-0.136171</td>\n",
       "      <td>-1.541749</td>\n",
       "      <td>...</td>\n",
       "      <td>0.118464</td>\n",
       "      <td>-0.593261</td>\n",
       "      <td>0.805884</td>\n",
       "      <td>0.222290</td>\n",
       "      <td>-1.055356</td>\n",
       "      <td>-0.205786</td>\n",
       "      <td>-0.469673</td>\n",
       "      <td>-0.296023</td>\n",
       "      <td>0.458555</td>\n",
       "      <td>4</td>\n",
       "    </tr>\n",
       "    <tr>\n",
       "      <th>2</th>\n",
       "      <td>-3.676403</td>\n",
       "      <td>-2.393579</td>\n",
       "      <td>2.364416</td>\n",
       "      <td>-2.127365</td>\n",
       "      <td>-1.187334</td>\n",
       "      <td>0.580282</td>\n",
       "      <td>1.229643</td>\n",
       "      <td>-0.839092</td>\n",
       "      <td>-0.843197</td>\n",
       "      <td>-1.076648</td>\n",
       "      <td>...</td>\n",
       "      <td>-0.158464</td>\n",
       "      <td>-0.165378</td>\n",
       "      <td>0.301200</td>\n",
       "      <td>-0.439936</td>\n",
       "      <td>-0.457620</td>\n",
       "      <td>-1.048294</td>\n",
       "      <td>-0.419709</td>\n",
       "      <td>0.159771</td>\n",
       "      <td>0.193616</td>\n",
       "      <td>10</td>\n",
       "    </tr>\n",
       "    <tr>\n",
       "      <th>3</th>\n",
       "      <td>1.310602</td>\n",
       "      <td>-0.133596</td>\n",
       "      <td>1.380789</td>\n",
       "      <td>-0.029170</td>\n",
       "      <td>-0.234235</td>\n",
       "      <td>0.287490</td>\n",
       "      <td>-0.176045</td>\n",
       "      <td>0.602077</td>\n",
       "      <td>-0.678158</td>\n",
       "      <td>-1.817254</td>\n",
       "      <td>...</td>\n",
       "      <td>0.338864</td>\n",
       "      <td>1.038627</td>\n",
       "      <td>-0.676907</td>\n",
       "      <td>0.206451</td>\n",
       "      <td>-0.103165</td>\n",
       "      <td>-0.255476</td>\n",
       "      <td>-0.373496</td>\n",
       "      <td>-0.007297</td>\n",
       "      <td>-0.177409</td>\n",
       "      <td>12</td>\n",
       "    </tr>\n",
       "    <tr>\n",
       "      <th>4</th>\n",
       "      <td>-2.681876</td>\n",
       "      <td>-0.564203</td>\n",
       "      <td>2.719848</td>\n",
       "      <td>3.008476</td>\n",
       "      <td>-1.743046</td>\n",
       "      <td>0.428570</td>\n",
       "      <td>-1.462494</td>\n",
       "      <td>0.433374</td>\n",
       "      <td>0.415927</td>\n",
       "      <td>1.557004</td>\n",
       "      <td>...</td>\n",
       "      <td>-0.948572</td>\n",
       "      <td>-0.423267</td>\n",
       "      <td>1.325227</td>\n",
       "      <td>-0.205153</td>\n",
       "      <td>-0.693494</td>\n",
       "      <td>-0.296777</td>\n",
       "      <td>0.134274</td>\n",
       "      <td>0.344274</td>\n",
       "      <td>-0.446108</td>\n",
       "      <td>14</td>\n",
       "    </tr>\n",
       "    <tr>\n",
       "      <th>...</th>\n",
       "      <td>...</td>\n",
       "      <td>...</td>\n",
       "      <td>...</td>\n",
       "      <td>...</td>\n",
       "      <td>...</td>\n",
       "      <td>...</td>\n",
       "      <td>...</td>\n",
       "      <td>...</td>\n",
       "      <td>...</td>\n",
       "      <td>...</td>\n",
       "      <td>...</td>\n",
       "      <td>...</td>\n",
       "      <td>...</td>\n",
       "      <td>...</td>\n",
       "      <td>...</td>\n",
       "      <td>...</td>\n",
       "      <td>...</td>\n",
       "      <td>...</td>\n",
       "      <td>...</td>\n",
       "      <td>...</td>\n",
       "      <td>...</td>\n",
       "    </tr>\n",
       "    <tr>\n",
       "      <th>141520</th>\n",
       "      <td>-1.641778</td>\n",
       "      <td>0.432452</td>\n",
       "      <td>3.196916</td>\n",
       "      <td>4.507807</td>\n",
       "      <td>-0.285115</td>\n",
       "      <td>0.428219</td>\n",
       "      <td>-0.958303</td>\n",
       "      <td>-1.584046</td>\n",
       "      <td>-1.478799</td>\n",
       "      <td>1.279289</td>\n",
       "      <td>...</td>\n",
       "      <td>-0.397560</td>\n",
       "      <td>0.013823</td>\n",
       "      <td>0.298875</td>\n",
       "      <td>-0.452628</td>\n",
       "      <td>-0.585056</td>\n",
       "      <td>0.595375</td>\n",
       "      <td>-0.552000</td>\n",
       "      <td>0.799214</td>\n",
       "      <td>-0.326654</td>\n",
       "      <td>14</td>\n",
       "    </tr>\n",
       "    <tr>\n",
       "      <th>141521</th>\n",
       "      <td>-4.325523</td>\n",
       "      <td>0.420842</td>\n",
       "      <td>-1.691495</td>\n",
       "      <td>-0.981508</td>\n",
       "      <td>-1.970624</td>\n",
       "      <td>-1.730941</td>\n",
       "      <td>0.266596</td>\n",
       "      <td>0.509713</td>\n",
       "      <td>-0.388345</td>\n",
       "      <td>-0.837258</td>\n",
       "      <td>...</td>\n",
       "      <td>-0.131187</td>\n",
       "      <td>-0.597348</td>\n",
       "      <td>0.118882</td>\n",
       "      <td>1.018572</td>\n",
       "      <td>-0.423778</td>\n",
       "      <td>-0.282906</td>\n",
       "      <td>-0.141449</td>\n",
       "      <td>-0.211806</td>\n",
       "      <td>1.218440</td>\n",
       "      <td>1</td>\n",
       "    </tr>\n",
       "    <tr>\n",
       "      <th>141522</th>\n",
       "      <td>-4.729656</td>\n",
       "      <td>0.263081</td>\n",
       "      <td>2.537586</td>\n",
       "      <td>2.064107</td>\n",
       "      <td>-0.627051</td>\n",
       "      <td>0.229249</td>\n",
       "      <td>-0.849928</td>\n",
       "      <td>0.198111</td>\n",
       "      <td>1.921727</td>\n",
       "      <td>0.620201</td>\n",
       "      <td>...</td>\n",
       "      <td>-0.902568</td>\n",
       "      <td>-0.436352</td>\n",
       "      <td>0.410200</td>\n",
       "      <td>0.478337</td>\n",
       "      <td>-0.955224</td>\n",
       "      <td>-0.468565</td>\n",
       "      <td>1.203359</td>\n",
       "      <td>-0.332491</td>\n",
       "      <td>0.194522</td>\n",
       "      <td>14</td>\n",
       "    </tr>\n",
       "    <tr>\n",
       "      <th>141523</th>\n",
       "      <td>-2.183386</td>\n",
       "      <td>2.203701</td>\n",
       "      <td>-1.722750</td>\n",
       "      <td>-0.366516</td>\n",
       "      <td>1.188586</td>\n",
       "      <td>1.499411</td>\n",
       "      <td>0.705806</td>\n",
       "      <td>-0.931745</td>\n",
       "      <td>-0.396090</td>\n",
       "      <td>-0.918704</td>\n",
       "      <td>...</td>\n",
       "      <td>-0.873400</td>\n",
       "      <td>0.839350</td>\n",
       "      <td>0.714920</td>\n",
       "      <td>-1.252931</td>\n",
       "      <td>-0.606826</td>\n",
       "      <td>-0.418456</td>\n",
       "      <td>0.825924</td>\n",
       "      <td>0.484611</td>\n",
       "      <td>-0.878261</td>\n",
       "      <td>0</td>\n",
       "    </tr>\n",
       "    <tr>\n",
       "      <th>141524</th>\n",
       "      <td>-1.301532</td>\n",
       "      <td>-4.217173</td>\n",
       "      <td>1.950373</td>\n",
       "      <td>-1.228879</td>\n",
       "      <td>-2.271811</td>\n",
       "      <td>1.256786</td>\n",
       "      <td>0.788009</td>\n",
       "      <td>-2.985661</td>\n",
       "      <td>-1.923029</td>\n",
       "      <td>0.430143</td>\n",
       "      <td>...</td>\n",
       "      <td>-0.275387</td>\n",
       "      <td>0.247874</td>\n",
       "      <td>-0.018509</td>\n",
       "      <td>-0.868172</td>\n",
       "      <td>1.286690</td>\n",
       "      <td>-0.325025</td>\n",
       "      <td>1.398948</td>\n",
       "      <td>-0.032492</td>\n",
       "      <td>-0.591201</td>\n",
       "      <td>7</td>\n",
       "    </tr>\n",
       "  </tbody>\n",
       "</table>\n",
       "<p>141525 rows × 31 columns</p>\n",
       "</div>"
      ],
      "text/plain": [
       "        pop_density-finance_status  age-generation    gender         4  \\\n",
       "0                        -5.140720       -2.966920  3.716627  2.002199   \n",
       "1                        -3.934767        3.313809 -0.427767  2.502474   \n",
       "2                        -3.676403       -2.393579  2.364416 -2.127365   \n",
       "3                         1.310602       -0.133596  1.380789 -0.029170   \n",
       "4                        -2.681876       -0.564203  2.719848  3.008476   \n",
       "...                            ...             ...       ...       ...   \n",
       "141520                   -1.641778        0.432452  3.196916  4.507807   \n",
       "141521                   -4.325523        0.420842 -1.691495 -0.981508   \n",
       "141522                   -4.729656        0.263081  2.537586  2.064107   \n",
       "141523                   -2.183386        2.203701 -1.722750 -0.366516   \n",
       "141524                   -1.301532       -4.217173  1.950373 -1.228879   \n",
       "\n",
       "               5         6         7         8         9        10  ...  \\\n",
       "0      -2.258215 -0.159996  1.150545 -0.664741  1.201100 -1.478185  ...   \n",
       "1       1.051566  0.359670  0.147568  0.176932 -0.136171 -1.541749  ...   \n",
       "2      -1.187334  0.580282  1.229643 -0.839092 -0.843197 -1.076648  ...   \n",
       "3      -0.234235  0.287490 -0.176045  0.602077 -0.678158 -1.817254  ...   \n",
       "4      -1.743046  0.428570 -1.462494  0.433374  0.415927  1.557004  ...   \n",
       "...          ...       ...       ...       ...       ...       ...  ...   \n",
       "141520 -0.285115  0.428219 -0.958303 -1.584046 -1.478799  1.279289  ...   \n",
       "141521 -1.970624 -1.730941  0.266596  0.509713 -0.388345 -0.837258  ...   \n",
       "141522 -0.627051  0.229249 -0.849928  0.198111  1.921727  0.620201  ...   \n",
       "141523  1.188586  1.499411  0.705806 -0.931745 -0.396090 -0.918704  ...   \n",
       "141524 -2.271811  1.256786  0.788009 -2.985661 -1.923029  0.430143  ...   \n",
       "\n",
       "              22        23        24        25        26        27        28  \\\n",
       "0       0.465836  0.184948 -0.164475 -0.132766  0.489390  1.295882 -0.696118   \n",
       "1       0.118464 -0.593261  0.805884  0.222290 -1.055356 -0.205786 -0.469673   \n",
       "2      -0.158464 -0.165378  0.301200 -0.439936 -0.457620 -1.048294 -0.419709   \n",
       "3       0.338864  1.038627 -0.676907  0.206451 -0.103165 -0.255476 -0.373496   \n",
       "4      -0.948572 -0.423267  1.325227 -0.205153 -0.693494 -0.296777  0.134274   \n",
       "...          ...       ...       ...       ...       ...       ...       ...   \n",
       "141520 -0.397560  0.013823  0.298875 -0.452628 -0.585056  0.595375 -0.552000   \n",
       "141521 -0.131187 -0.597348  0.118882  1.018572 -0.423778 -0.282906 -0.141449   \n",
       "141522 -0.902568 -0.436352  0.410200  0.478337 -0.955224 -0.468565  1.203359   \n",
       "141523 -0.873400  0.839350  0.714920 -1.252931 -0.606826 -0.418456  0.825924   \n",
       "141524 -0.275387  0.247874 -0.018509 -0.868172  1.286690 -0.325025  1.398948   \n",
       "\n",
       "              29        30  labels  \n",
       "0       0.373082 -0.471942      14  \n",
       "1      -0.296023  0.458555       4  \n",
       "2       0.159771  0.193616      10  \n",
       "3      -0.007297 -0.177409      12  \n",
       "4       0.344274 -0.446108      14  \n",
       "...          ...       ...     ...  \n",
       "141520  0.799214 -0.326654      14  \n",
       "141521 -0.211806  1.218440       1  \n",
       "141522 -0.332491  0.194522      14  \n",
       "141523  0.484611 -0.878261       0  \n",
       "141524 -0.032492 -0.591201       7  \n",
       "\n",
       "[141525 rows x 31 columns]"
      ]
     },
     "execution_count": 194,
     "metadata": {},
     "output_type": "execute_result"
    }
   ],
   "source": [
    "df_customer_pca"
   ]
  },
  {
   "cell_type": "code",
   "execution_count": 195,
   "metadata": {},
   "outputs": [],
   "source": [
    "def map_cluster_to_feats(kmeans, df, cnum):\n",
    "    \n",
    "    # Returns two pd by mapping pca weights to individual features.\n",
    "    # One series has the highest positive weights, while the other has the lowest negative weights.\n",
    "  \n",
    "    \n",
    "    # Getting coordinates of cluster centeroids:\n",
    "    weights = pd.DataFrame(np.round(kmeans.cluster_centers_, 4), columns=df.keys())\n",
    "    centroid = weights.iloc[cnum, :]\n",
    "    \n",
    "    # Capturing the postive pca features:\n",
    "    centroid_pos = centroid[centroid > 0].sort_values(ascending=False).to_frame()\n",
    "    centroid_pos.reset_index(level=0, inplace=True)\n",
    "    centroid_pos.columns = ['top_positive_col','top_positive_col_weight']\n",
    "    \n",
    "    # Capturing the negative pca features:\n",
    "    centroid_neg = centroid[centroid < 0].sort_values(ascending=True).to_frame()\n",
    "    centroid_neg.reset_index(level=0, inplace=True)\n",
    "    centroid_neg.columns = ['top_negative_col','top_negative_col_weight']\n",
    "    \n",
    "    # Combining postive and negative pca features:\n",
    "    top_pca_feat = pd.concat([centroid_pos, centroid_neg], axis=1)\n",
    "    top_pca_feat['top_negative_col'] = top_pca_feat['top_negative_col'].apply(str)\n",
    "    top_pca_feat['top_positive_col'] = top_pca_feat['top_positive_col'].apply(str)\n",
    "    return top_pca_feat"
   ]
  },
  {
   "cell_type": "code",
   "execution_count": 196,
   "metadata": {},
   "outputs": [
    {
     "data": {
      "text/html": [
       "<style  type=\"text/css\" >\n",
       "#T_1c822_row0_col1,#T_1c822_row0_col3{\n",
       "            width:  10em;\n",
       "             height:  80%;\n",
       "            background:  linear-gradient(90deg,#d65f5f 100.0%, transparent 100.0%);\n",
       "        }#T_1c822_row1_col1{\n",
       "            width:  10em;\n",
       "             height:  80%;\n",
       "            background:  linear-gradient(90deg,#d65f5f 89.6%, transparent 89.6%);\n",
       "        }#T_1c822_row1_col3{\n",
       "            width:  10em;\n",
       "             height:  80%;\n",
       "            background:  linear-gradient(90deg, transparent 33.9%, #d65f5f 33.9%, #d65f5f 100.0%, transparent 100.0%);\n",
       "        }#T_1c822_row2_col1{\n",
       "            width:  10em;\n",
       "             height:  80%;\n",
       "            background:  linear-gradient(90deg,#d65f5f 15.9%, transparent 15.9%);\n",
       "        }#T_1c822_row2_col3{\n",
       "            width:  10em;\n",
       "             height:  80%;\n",
       "            background:  linear-gradient(90deg, transparent 78.9%, #d65f5f 78.9%, #d65f5f 100.0%, transparent 100.0%);\n",
       "        }#T_1c822_row3_col1{\n",
       "            width:  10em;\n",
       "             height:  80%;\n",
       "            background:  linear-gradient(90deg,#d65f5f 13.2%, transparent 13.2%);\n",
       "        }#T_1c822_row3_col3{\n",
       "            width:  10em;\n",
       "             height:  80%;\n",
       "            background:  linear-gradient(90deg, transparent 87.9%, #d65f5f 87.9%, #d65f5f 100.0%, transparent 100.0%);\n",
       "        }#T_1c822_row4_col1{\n",
       "            width:  10em;\n",
       "             height:  80%;\n",
       "            background:  linear-gradient(90deg,#d65f5f 12.2%, transparent 12.2%);\n",
       "        }#T_1c822_row4_col3{\n",
       "            width:  10em;\n",
       "             height:  80%;\n",
       "            background:  linear-gradient(90deg, transparent 92.1%, #d65f5f 92.1%, #d65f5f 100.0%, transparent 100.0%);\n",
       "        }#T_1c822_row5_col1{\n",
       "            width:  10em;\n",
       "             height:  80%;\n",
       "            background:  linear-gradient(90deg,#d65f5f 8.0%, transparent 8.0%);\n",
       "        }#T_1c822_row5_col3{\n",
       "            width:  10em;\n",
       "             height:  80%;\n",
       "            background:  linear-gradient(90deg, transparent 93.0%, #d65f5f 93.0%, #d65f5f 100.0%, transparent 100.0%);\n",
       "        }#T_1c822_row6_col1{\n",
       "            width:  10em;\n",
       "             height:  80%;\n",
       "            background:  linear-gradient(90deg,#d65f5f 6.9%, transparent 6.9%);\n",
       "        }#T_1c822_row6_col3{\n",
       "            width:  10em;\n",
       "             height:  80%;\n",
       "            background:  linear-gradient(90deg, transparent 96.2%, #d65f5f 96.2%, #d65f5f 100.0%, transparent 100.0%);\n",
       "        }#T_1c822_row7_col1{\n",
       "            width:  10em;\n",
       "             height:  80%;\n",
       "            background:  linear-gradient(90deg,#d65f5f 6.2%, transparent 6.2%);\n",
       "        }#T_1c822_row7_col3{\n",
       "            width:  10em;\n",
       "             height:  80%;\n",
       "            background:  linear-gradient(90deg, transparent 97.3%, #d65f5f 97.3%, #d65f5f 100.0%, transparent 100.0%);\n",
       "        }#T_1c822_row8_col1,#T_1c822_row9_col1{\n",
       "            width:  10em;\n",
       "             height:  80%;\n",
       "            background:  linear-gradient(90deg,#d65f5f 2.4%, transparent 2.4%);\n",
       "        }#T_1c822_row8_col3{\n",
       "            width:  10em;\n",
       "             height:  80%;\n",
       "            background:  linear-gradient(90deg, transparent 97.4%, #d65f5f 97.4%, #d65f5f 100.0%, transparent 100.0%);\n",
       "        }#T_1c822_row9_col3{\n",
       "            width:  10em;\n",
       "             height:  80%;\n",
       "            background:  linear-gradient(90deg, transparent 97.9%, #d65f5f 97.9%, #d65f5f 100.0%, transparent 100.0%);\n",
       "        }#T_1c822_row10_col1{\n",
       "            width:  10em;\n",
       "             height:  80%;\n",
       "            background:  linear-gradient(90deg,#d65f5f 1.2%, transparent 1.2%);\n",
       "        }#T_1c822_row10_col3,#T_1c822_row11_col3{\n",
       "            width:  10em;\n",
       "             height:  80%;\n",
       "            background:  linear-gradient(90deg, transparent 98.4%, #d65f5f 98.4%, #d65f5f 100.0%, transparent 100.0%);\n",
       "        }#T_1c822_row11_col1{\n",
       "            width:  10em;\n",
       "             height:  80%;\n",
       "            background:  linear-gradient(90deg,#d65f5f 1.1%, transparent 1.1%);\n",
       "        }#T_1c822_row12_col1,#T_1c822_row13_col1{\n",
       "            width:  10em;\n",
       "             height:  80%;\n",
       "            background:  linear-gradient(90deg,#d65f5f 0.3%, transparent 0.3%);\n",
       "        }#T_1c822_row12_col3{\n",
       "            width:  10em;\n",
       "             height:  80%;\n",
       "            background:  linear-gradient(90deg, transparent 98.6%, #d65f5f 98.6%, #d65f5f 100.0%, transparent 100.0%);\n",
       "        }#T_1c822_row13_col3{\n",
       "            width:  10em;\n",
       "             height:  80%;\n",
       "            background:  linear-gradient(90deg, transparent 99.3%, #d65f5f 99.3%, #d65f5f 100.0%, transparent 100.0%);\n",
       "        }#T_1c822_row14_col3{\n",
       "            width:  10em;\n",
       "             height:  80%;\n",
       "            background:  linear-gradient(90deg, transparent 99.5%, #d65f5f 99.5%, #d65f5f 100.0%, transparent 100.0%);\n",
       "        }#T_1c822_row15_col3{\n",
       "            width:  10em;\n",
       "             height:  80%;\n",
       "            background:  linear-gradient(90deg, transparent 99.8%, #d65f5f 99.8%, #d65f5f 100.0%, transparent 100.0%);\n",
       "        }</style><table id=\"T_1c822_\" ><thead>    <tr>        <th class=\"blank level0\" ></th>        <th class=\"col_heading level0 col0\" >top_positive_col</th>        <th class=\"col_heading level0 col1\" >top_positive_col_weight</th>        <th class=\"col_heading level0 col2\" >top_negative_col</th>        <th class=\"col_heading level0 col3\" >top_negative_col_weight</th>    </tr></thead><tbody>\n",
       "                <tr>\n",
       "                        <th id=\"T_1c822_level0_row0\" class=\"row_heading level0 row0\" >0</th>\n",
       "                        <td id=\"T_1c822_row0_col0\" class=\"data row0 col0\" >gender</td>\n",
       "                        <td id=\"T_1c822_row0_col1\" class=\"data row0 col1\" >2.622400</td>\n",
       "                        <td id=\"T_1c822_row0_col2\" class=\"data row0 col2\" >pop_density-finance_status</td>\n",
       "                        <td id=\"T_1c822_row0_col3\" class=\"data row0 col3\" >-2.449200</td>\n",
       "            </tr>\n",
       "            <tr>\n",
       "                        <th id=\"T_1c822_level0_row1\" class=\"row_heading level0 row1\" >1</th>\n",
       "                        <td id=\"T_1c822_row1_col0\" class=\"data row1 col0\" >4</td>\n",
       "                        <td id=\"T_1c822_row1_col1\" class=\"data row1 col1\" >2.350400</td>\n",
       "                        <td id=\"T_1c822_row1_col2\" class=\"data row1 col2\" >age-generation</td>\n",
       "                        <td id=\"T_1c822_row1_col3\" class=\"data row1 col3\" >-1.620100</td>\n",
       "            </tr>\n",
       "            <tr>\n",
       "                        <th id=\"T_1c822_level0_row2\" class=\"row_heading level0 row2\" >2</th>\n",
       "                        <td id=\"T_1c822_row2_col0\" class=\"data row2 col0\" >6</td>\n",
       "                        <td id=\"T_1c822_row2_col1\" class=\"data row2 col1\" >0.416500</td>\n",
       "                        <td id=\"T_1c822_row2_col2\" class=\"data row2 col2\" >13</td>\n",
       "                        <td id=\"T_1c822_row2_col3\" class=\"data row2 col3\" >-0.517300</td>\n",
       "            </tr>\n",
       "            <tr>\n",
       "                        <th id=\"T_1c822_level0_row3\" class=\"row_heading level0 row3\" >3</th>\n",
       "                        <td id=\"T_1c822_row3_col0\" class=\"data row3 col0\" >9</td>\n",
       "                        <td id=\"T_1c822_row3_col1\" class=\"data row3 col1\" >0.347100</td>\n",
       "                        <td id=\"T_1c822_row3_col2\" class=\"data row3 col2\" >15</td>\n",
       "                        <td id=\"T_1c822_row3_col3\" class=\"data row3 col3\" >-0.297200</td>\n",
       "            </tr>\n",
       "            <tr>\n",
       "                        <th id=\"T_1c822_level0_row4\" class=\"row_heading level0 row4\" >4</th>\n",
       "                        <td id=\"T_1c822_row4_col0\" class=\"data row4 col0\" >5</td>\n",
       "                        <td id=\"T_1c822_row4_col1\" class=\"data row4 col1\" >0.319400</td>\n",
       "                        <td id=\"T_1c822_row4_col2\" class=\"data row4 col2\" >8</td>\n",
       "                        <td id=\"T_1c822_row4_col3\" class=\"data row4 col3\" >-0.193600</td>\n",
       "            </tr>\n",
       "            <tr>\n",
       "                        <th id=\"T_1c822_level0_row5\" class=\"row_heading level0 row5\" >5</th>\n",
       "                        <td id=\"T_1c822_row5_col0\" class=\"data row5 col0\" >18</td>\n",
       "                        <td id=\"T_1c822_row5_col1\" class=\"data row5 col1\" >0.208900</td>\n",
       "                        <td id=\"T_1c822_row5_col2\" class=\"data row5 col2\" >24</td>\n",
       "                        <td id=\"T_1c822_row5_col3\" class=\"data row5 col3\" >-0.171100</td>\n",
       "            </tr>\n",
       "            <tr>\n",
       "                        <th id=\"T_1c822_level0_row6\" class=\"row_heading level0 row6\" >6</th>\n",
       "                        <td id=\"T_1c822_row6_col0\" class=\"data row6 col0\" >25</td>\n",
       "                        <td id=\"T_1c822_row6_col1\" class=\"data row6 col1\" >0.179800</td>\n",
       "                        <td id=\"T_1c822_row6_col2\" class=\"data row6 col2\" >26</td>\n",
       "                        <td id=\"T_1c822_row6_col3\" class=\"data row6 col3\" >-0.092300</td>\n",
       "            </tr>\n",
       "            <tr>\n",
       "                        <th id=\"T_1c822_level0_row7\" class=\"row_heading level0 row7\" >7</th>\n",
       "                        <td id=\"T_1c822_row7_col0\" class=\"data row7 col0\" >20</td>\n",
       "                        <td id=\"T_1c822_row7_col1\" class=\"data row7 col1\" >0.163000</td>\n",
       "                        <td id=\"T_1c822_row7_col2\" class=\"data row7 col2\" >14</td>\n",
       "                        <td id=\"T_1c822_row7_col3\" class=\"data row7 col3\" >-0.067300</td>\n",
       "            </tr>\n",
       "            <tr>\n",
       "                        <th id=\"T_1c822_level0_row8\" class=\"row_heading level0 row8\" >8</th>\n",
       "                        <td id=\"T_1c822_row8_col0\" class=\"data row8 col0\" >19</td>\n",
       "                        <td id=\"T_1c822_row8_col1\" class=\"data row8 col1\" >0.063800</td>\n",
       "                        <td id=\"T_1c822_row8_col2\" class=\"data row8 col2\" >17</td>\n",
       "                        <td id=\"T_1c822_row8_col3\" class=\"data row8 col3\" >-0.064600</td>\n",
       "            </tr>\n",
       "            <tr>\n",
       "                        <th id=\"T_1c822_level0_row9\" class=\"row_heading level0 row9\" >9</th>\n",
       "                        <td id=\"T_1c822_row9_col0\" class=\"data row9 col0\" >12</td>\n",
       "                        <td id=\"T_1c822_row9_col1\" class=\"data row9 col1\" >0.062900</td>\n",
       "                        <td id=\"T_1c822_row9_col2\" class=\"data row9 col2\" >11</td>\n",
       "                        <td id=\"T_1c822_row9_col3\" class=\"data row9 col3\" >-0.050700</td>\n",
       "            </tr>\n",
       "            <tr>\n",
       "                        <th id=\"T_1c822_level0_row10\" class=\"row_heading level0 row10\" >10</th>\n",
       "                        <td id=\"T_1c822_row10_col0\" class=\"data row10 col0\" >23</td>\n",
       "                        <td id=\"T_1c822_row10_col1\" class=\"data row10 col1\" >0.032700</td>\n",
       "                        <td id=\"T_1c822_row10_col2\" class=\"data row10 col2\" >16</td>\n",
       "                        <td id=\"T_1c822_row10_col3\" class=\"data row10 col3\" >-0.039700</td>\n",
       "            </tr>\n",
       "            <tr>\n",
       "                        <th id=\"T_1c822_level0_row11\" class=\"row_heading level0 row11\" >11</th>\n",
       "                        <td id=\"T_1c822_row11_col0\" class=\"data row11 col0\" >21</td>\n",
       "                        <td id=\"T_1c822_row11_col1\" class=\"data row11 col1\" >0.029100</td>\n",
       "                        <td id=\"T_1c822_row11_col2\" class=\"data row11 col2\" >30</td>\n",
       "                        <td id=\"T_1c822_row11_col3\" class=\"data row11 col3\" >-0.038500</td>\n",
       "            </tr>\n",
       "            <tr>\n",
       "                        <th id=\"T_1c822_level0_row12\" class=\"row_heading level0 row12\" >12</th>\n",
       "                        <td id=\"T_1c822_row12_col0\" class=\"data row12 col0\" >22</td>\n",
       "                        <td id=\"T_1c822_row12_col1\" class=\"data row12 col1\" >0.007800</td>\n",
       "                        <td id=\"T_1c822_row12_col2\" class=\"data row12 col2\" >7</td>\n",
       "                        <td id=\"T_1c822_row12_col3\" class=\"data row12 col3\" >-0.035300</td>\n",
       "            </tr>\n",
       "            <tr>\n",
       "                        <th id=\"T_1c822_level0_row13\" class=\"row_heading level0 row13\" >13</th>\n",
       "                        <td id=\"T_1c822_row13_col0\" class=\"data row13 col0\" >10</td>\n",
       "                        <td id=\"T_1c822_row13_col1\" class=\"data row13 col1\" >0.006600</td>\n",
       "                        <td id=\"T_1c822_row13_col2\" class=\"data row13 col2\" >29</td>\n",
       "                        <td id=\"T_1c822_row13_col3\" class=\"data row13 col3\" >-0.017900</td>\n",
       "            </tr>\n",
       "            <tr>\n",
       "                        <th id=\"T_1c822_level0_row14\" class=\"row_heading level0 row14\" >14</th>\n",
       "                        <td id=\"T_1c822_row14_col0\" class=\"data row14 col0\" >nan</td>\n",
       "                        <td id=\"T_1c822_row14_col1\" class=\"data row14 col1\" >nan</td>\n",
       "                        <td id=\"T_1c822_row14_col2\" class=\"data row14 col2\" >28</td>\n",
       "                        <td id=\"T_1c822_row14_col3\" class=\"data row14 col3\" >-0.013100</td>\n",
       "            </tr>\n",
       "            <tr>\n",
       "                        <th id=\"T_1c822_level0_row15\" class=\"row_heading level0 row15\" >15</th>\n",
       "                        <td id=\"T_1c822_row15_col0\" class=\"data row15 col0\" >nan</td>\n",
       "                        <td id=\"T_1c822_row15_col1\" class=\"data row15 col1\" >nan</td>\n",
       "                        <td id=\"T_1c822_row15_col2\" class=\"data row15 col2\" >27</td>\n",
       "                        <td id=\"T_1c822_row15_col3\" class=\"data row15 col3\" >-0.005900</td>\n",
       "            </tr>\n",
       "    </tbody></table>"
      ],
      "text/plain": [
       "<pandas.io.formats.style.Styler at 0x15b85dd5100>"
      ]
     },
     "execution_count": 196,
     "metadata": {},
     "output_type": "execute_result"
    }
   ],
   "source": [
    "# What kinds of people are part of a cluster that is overrepresented in the\n",
    "# customer data compared to the general population?\n",
    "\n",
    "# Based on the barplot.the overrepresented segment is cluster \"14\". \n",
    "top_pca_feat = map_cluster_to_feats(kmeans_model, df_customer_pca.iloc[:, :-1], 14)\n",
    "top_pca_feat.style.bar(align='mid')\n",
    "\n"
   ]
  },
  {
   "cell_type": "code",
   "execution_count": 197,
   "metadata": {},
   "outputs": [
    {
     "data": {
      "text/html": [
       "<style  type=\"text/css\" >\n",
       "#T_f2fa8_row0_col1,#T_f2fa8_row0_col3{\n",
       "            width:  10em;\n",
       "             height:  80%;\n",
       "            background:  linear-gradient(90deg,#d65f5f 100.0%, transparent 100.0%);\n",
       "        }#T_f2fa8_row1_col1{\n",
       "            width:  10em;\n",
       "             height:  80%;\n",
       "            background:  linear-gradient(90deg,#d65f5f 33.7%, transparent 33.7%);\n",
       "        }#T_f2fa8_row1_col3{\n",
       "            width:  10em;\n",
       "             height:  80%;\n",
       "            background:  linear-gradient(90deg, transparent 27.8%, #d65f5f 27.8%, #d65f5f 100.0%, transparent 100.0%);\n",
       "        }#T_f2fa8_row2_col1{\n",
       "            width:  10em;\n",
       "             height:  80%;\n",
       "            background:  linear-gradient(90deg,#d65f5f 17.6%, transparent 17.6%);\n",
       "        }#T_f2fa8_row2_col3{\n",
       "            width:  10em;\n",
       "             height:  80%;\n",
       "            background:  linear-gradient(90deg, transparent 82.6%, #d65f5f 82.6%, #d65f5f 100.0%, transparent 100.0%);\n",
       "        }#T_f2fa8_row3_col1{\n",
       "            width:  10em;\n",
       "             height:  80%;\n",
       "            background:  linear-gradient(90deg,#d65f5f 17.1%, transparent 17.1%);\n",
       "        }#T_f2fa8_row3_col3{\n",
       "            width:  10em;\n",
       "             height:  80%;\n",
       "            background:  linear-gradient(90deg, transparent 92.7%, #d65f5f 92.7%, #d65f5f 100.0%, transparent 100.0%);\n",
       "        }#T_f2fa8_row4_col1{\n",
       "            width:  10em;\n",
       "             height:  80%;\n",
       "            background:  linear-gradient(90deg,#d65f5f 9.0%, transparent 9.0%);\n",
       "        }#T_f2fa8_row4_col3{\n",
       "            width:  10em;\n",
       "             height:  80%;\n",
       "            background:  linear-gradient(90deg, transparent 95.8%, #d65f5f 95.8%, #d65f5f 100.0%, transparent 100.0%);\n",
       "        }#T_f2fa8_row5_col1{\n",
       "            width:  10em;\n",
       "             height:  80%;\n",
       "            background:  linear-gradient(90deg,#d65f5f 5.2%, transparent 5.2%);\n",
       "        }#T_f2fa8_row5_col3,#T_f2fa8_row6_col3{\n",
       "            width:  10em;\n",
       "             height:  80%;\n",
       "            background:  linear-gradient(90deg, transparent 96.5%, #d65f5f 96.5%, #d65f5f 100.0%, transparent 100.0%);\n",
       "        }#T_f2fa8_row6_col1{\n",
       "            width:  10em;\n",
       "             height:  80%;\n",
       "            background:  linear-gradient(90deg,#d65f5f 3.7%, transparent 3.7%);\n",
       "        }#T_f2fa8_row7_col1{\n",
       "            width:  10em;\n",
       "             height:  80%;\n",
       "            background:  linear-gradient(90deg,#d65f5f 2.7%, transparent 2.7%);\n",
       "        }#T_f2fa8_row7_col3{\n",
       "            width:  10em;\n",
       "             height:  80%;\n",
       "            background:  linear-gradient(90deg, transparent 97.2%, #d65f5f 97.2%, #d65f5f 100.0%, transparent 100.0%);\n",
       "        }#T_f2fa8_row8_col1{\n",
       "            width:  10em;\n",
       "             height:  80%;\n",
       "            background:  linear-gradient(90deg,#d65f5f 2.5%, transparent 2.5%);\n",
       "        }#T_f2fa8_row8_col3,#T_f2fa8_row9_col3{\n",
       "            width:  10em;\n",
       "             height:  80%;\n",
       "            background:  linear-gradient(90deg, transparent 97.4%, #d65f5f 97.4%, #d65f5f 100.0%, transparent 100.0%);\n",
       "        }#T_f2fa8_row9_col1{\n",
       "            width:  10em;\n",
       "             height:  80%;\n",
       "            background:  linear-gradient(90deg,#d65f5f 1.2%, transparent 1.2%);\n",
       "        }#T_f2fa8_row10_col1{\n",
       "            width:  10em;\n",
       "             height:  80%;\n",
       "            background:  linear-gradient(90deg,#d65f5f 0.0%, transparent 0.0%);\n",
       "        }#T_f2fa8_row10_col3{\n",
       "            width:  10em;\n",
       "             height:  80%;\n",
       "            background:  linear-gradient(90deg, transparent 98.1%, #d65f5f 98.1%, #d65f5f 100.0%, transparent 100.0%);\n",
       "        }#T_f2fa8_row11_col3,#T_f2fa8_row12_col3{\n",
       "            width:  10em;\n",
       "             height:  80%;\n",
       "            background:  linear-gradient(90deg, transparent 98.2%, #d65f5f 98.2%, #d65f5f 100.0%, transparent 100.0%);\n",
       "        }#T_f2fa8_row13_col3{\n",
       "            width:  10em;\n",
       "             height:  80%;\n",
       "            background:  linear-gradient(90deg, transparent 98.4%, #d65f5f 98.4%, #d65f5f 100.0%, transparent 100.0%);\n",
       "        }#T_f2fa8_row14_col3{\n",
       "            width:  10em;\n",
       "             height:  80%;\n",
       "            background:  linear-gradient(90deg, transparent 98.5%, #d65f5f 98.5%, #d65f5f 100.0%, transparent 100.0%);\n",
       "        }#T_f2fa8_row15_col3{\n",
       "            width:  10em;\n",
       "             height:  80%;\n",
       "            background:  linear-gradient(90deg, transparent 99.0%, #d65f5f 99.0%, #d65f5f 100.0%, transparent 100.0%);\n",
       "        }#T_f2fa8_row16_col3{\n",
       "            width:  10em;\n",
       "             height:  80%;\n",
       "            background:  linear-gradient(90deg, transparent 99.1%, #d65f5f 99.1%, #d65f5f 100.0%, transparent 100.0%);\n",
       "        }#T_f2fa8_row17_col3{\n",
       "            width:  10em;\n",
       "             height:  80%;\n",
       "            background:  linear-gradient(90deg, transparent 99.2%, #d65f5f 99.2%, #d65f5f 100.0%, transparent 100.0%);\n",
       "        }#T_f2fa8_row18_col3{\n",
       "            width:  10em;\n",
       "             height:  80%;\n",
       "            background:  linear-gradient(90deg, transparent 99.9%, #d65f5f 99.9%, #d65f5f 100.0%, transparent 100.0%);\n",
       "        }</style><table id=\"T_f2fa8_\" ><thead>    <tr>        <th class=\"blank level0\" ></th>        <th class=\"col_heading level0 col0\" >top_positive_col</th>        <th class=\"col_heading level0 col1\" >top_positive_col_weight</th>        <th class=\"col_heading level0 col2\" >top_negative_col</th>        <th class=\"col_heading level0 col3\" >top_negative_col_weight</th>    </tr></thead><tbody>\n",
       "                <tr>\n",
       "                        <th id=\"T_f2fa8_level0_row0\" class=\"row_heading level0 row0\" >0</th>\n",
       "                        <td id=\"T_f2fa8_row0_col0\" class=\"data row0 col0\" >pop_density-finance_status</td>\n",
       "                        <td id=\"T_f2fa8_row0_col1\" class=\"data row0 col1\" >1.537400</td>\n",
       "                        <td id=\"T_f2fa8_row0_col2\" class=\"data row0 col2\" >gender</td>\n",
       "                        <td id=\"T_f2fa8_row0_col3\" class=\"data row0 col3\" >-3.268500</td>\n",
       "            </tr>\n",
       "            <tr>\n",
       "                        <th id=\"T_f2fa8_level0_row1\" class=\"row_heading level0 row1\" >1</th>\n",
       "                        <td id=\"T_f2fa8_row1_col0\" class=\"data row1 col0\" >6</td>\n",
       "                        <td id=\"T_f2fa8_row1_col1\" class=\"data row1 col1\" >0.518600</td>\n",
       "                        <td id=\"T_f2fa8_row1_col2\" class=\"data row1 col2\" >age-generation</td>\n",
       "                        <td id=\"T_f2fa8_row1_col3\" class=\"data row1 col3\" >-2.359500</td>\n",
       "            </tr>\n",
       "            <tr>\n",
       "                        <th id=\"T_f2fa8_level0_row2\" class=\"row_heading level0 row2\" >2</th>\n",
       "                        <td id=\"T_f2fa8_row2_col0\" class=\"data row2 col0\" >7</td>\n",
       "                        <td id=\"T_f2fa8_row2_col1\" class=\"data row2 col1\" >0.271300</td>\n",
       "                        <td id=\"T_f2fa8_row2_col2\" class=\"data row2 col2\" >8</td>\n",
       "                        <td id=\"T_f2fa8_row2_col3\" class=\"data row2 col3\" >-0.567200</td>\n",
       "            </tr>\n",
       "            <tr>\n",
       "                        <th id=\"T_f2fa8_level0_row3\" class=\"row_heading level0 row3\" >3</th>\n",
       "                        <td id=\"T_f2fa8_row3_col0\" class=\"data row3 col0\" >20</td>\n",
       "                        <td id=\"T_f2fa8_row3_col1\" class=\"data row3 col1\" >0.262300</td>\n",
       "                        <td id=\"T_f2fa8_row3_col2\" class=\"data row3 col2\" >5</td>\n",
       "                        <td id=\"T_f2fa8_row3_col3\" class=\"data row3 col3\" >-0.237600</td>\n",
       "            </tr>\n",
       "            <tr>\n",
       "                        <th id=\"T_f2fa8_level0_row4\" class=\"row_heading level0 row4\" >4</th>\n",
       "                        <td id=\"T_f2fa8_row4_col0\" class=\"data row4 col0\" >25</td>\n",
       "                        <td id=\"T_f2fa8_row4_col1\" class=\"data row4 col1\" >0.138700</td>\n",
       "                        <td id=\"T_f2fa8_row4_col2\" class=\"data row4 col2\" >26</td>\n",
       "                        <td id=\"T_f2fa8_row4_col3\" class=\"data row4 col3\" >-0.136000</td>\n",
       "            </tr>\n",
       "            <tr>\n",
       "                        <th id=\"T_f2fa8_level0_row5\" class=\"row_heading level0 row5\" >5</th>\n",
       "                        <td id=\"T_f2fa8_row5_col0\" class=\"data row5 col0\" >27</td>\n",
       "                        <td id=\"T_f2fa8_row5_col1\" class=\"data row5 col1\" >0.079200</td>\n",
       "                        <td id=\"T_f2fa8_row5_col2\" class=\"data row5 col2\" >24</td>\n",
       "                        <td id=\"T_f2fa8_row5_col3\" class=\"data row5 col3\" >-0.115100</td>\n",
       "            </tr>\n",
       "            <tr>\n",
       "                        <th id=\"T_f2fa8_level0_row6\" class=\"row_heading level0 row6\" >6</th>\n",
       "                        <td id=\"T_f2fa8_row6_col0\" class=\"data row6 col0\" >10</td>\n",
       "                        <td id=\"T_f2fa8_row6_col1\" class=\"data row6 col1\" >0.057200</td>\n",
       "                        <td id=\"T_f2fa8_row6_col2\" class=\"data row6 col2\" >13</td>\n",
       "                        <td id=\"T_f2fa8_row6_col3\" class=\"data row6 col3\" >-0.114400</td>\n",
       "            </tr>\n",
       "            <tr>\n",
       "                        <th id=\"T_f2fa8_level0_row7\" class=\"row_heading level0 row7\" >7</th>\n",
       "                        <td id=\"T_f2fa8_row7_col0\" class=\"data row7 col0\" >29</td>\n",
       "                        <td id=\"T_f2fa8_row7_col1\" class=\"data row7 col1\" >0.041800</td>\n",
       "                        <td id=\"T_f2fa8_row7_col2\" class=\"data row7 col2\" >4</td>\n",
       "                        <td id=\"T_f2fa8_row7_col3\" class=\"data row7 col3\" >-0.091900</td>\n",
       "            </tr>\n",
       "            <tr>\n",
       "                        <th id=\"T_f2fa8_level0_row8\" class=\"row_heading level0 row8\" >8</th>\n",
       "                        <td id=\"T_f2fa8_row8_col0\" class=\"data row8 col0\" >15</td>\n",
       "                        <td id=\"T_f2fa8_row8_col1\" class=\"data row8 col1\" >0.039000</td>\n",
       "                        <td id=\"T_f2fa8_row8_col2\" class=\"data row8 col2\" >14</td>\n",
       "                        <td id=\"T_f2fa8_row8_col3\" class=\"data row8 col3\" >-0.085800</td>\n",
       "            </tr>\n",
       "            <tr>\n",
       "                        <th id=\"T_f2fa8_level0_row9\" class=\"row_heading level0 row9\" >9</th>\n",
       "                        <td id=\"T_f2fa8_row9_col0\" class=\"data row9 col0\" >22</td>\n",
       "                        <td id=\"T_f2fa8_row9_col1\" class=\"data row9 col1\" >0.017700</td>\n",
       "                        <td id=\"T_f2fa8_row9_col2\" class=\"data row9 col2\" >18</td>\n",
       "                        <td id=\"T_f2fa8_row9_col3\" class=\"data row9 col3\" >-0.085100</td>\n",
       "            </tr>\n",
       "            <tr>\n",
       "                        <th id=\"T_f2fa8_level0_row10\" class=\"row_heading level0 row10\" >10</th>\n",
       "                        <td id=\"T_f2fa8_row10_col0\" class=\"data row10 col0\" >23</td>\n",
       "                        <td id=\"T_f2fa8_row10_col1\" class=\"data row10 col1\" >0.000600</td>\n",
       "                        <td id=\"T_f2fa8_row10_col2\" class=\"data row10 col2\" >12</td>\n",
       "                        <td id=\"T_f2fa8_row10_col3\" class=\"data row10 col3\" >-0.062800</td>\n",
       "            </tr>\n",
       "            <tr>\n",
       "                        <th id=\"T_f2fa8_level0_row11\" class=\"row_heading level0 row11\" >11</th>\n",
       "                        <td id=\"T_f2fa8_row11_col0\" class=\"data row11 col0\" >nan</td>\n",
       "                        <td id=\"T_f2fa8_row11_col1\" class=\"data row11 col1\" >nan</td>\n",
       "                        <td id=\"T_f2fa8_row11_col2\" class=\"data row11 col2\" >21</td>\n",
       "                        <td id=\"T_f2fa8_row11_col3\" class=\"data row11 col3\" >-0.059500</td>\n",
       "            </tr>\n",
       "            <tr>\n",
       "                        <th id=\"T_f2fa8_level0_row12\" class=\"row_heading level0 row12\" >12</th>\n",
       "                        <td id=\"T_f2fa8_row12_col0\" class=\"data row12 col0\" >nan</td>\n",
       "                        <td id=\"T_f2fa8_row12_col1\" class=\"data row12 col1\" >nan</td>\n",
       "                        <td id=\"T_f2fa8_row12_col2\" class=\"data row12 col2\" >30</td>\n",
       "                        <td id=\"T_f2fa8_row12_col3\" class=\"data row12 col3\" >-0.057900</td>\n",
       "            </tr>\n",
       "            <tr>\n",
       "                        <th id=\"T_f2fa8_level0_row13\" class=\"row_heading level0 row13\" >13</th>\n",
       "                        <td id=\"T_f2fa8_row13_col0\" class=\"data row13 col0\" >nan</td>\n",
       "                        <td id=\"T_f2fa8_row13_col1\" class=\"data row13 col1\" >nan</td>\n",
       "                        <td id=\"T_f2fa8_row13_col2\" class=\"data row13 col2\" >19</td>\n",
       "                        <td id=\"T_f2fa8_row13_col3\" class=\"data row13 col3\" >-0.053800</td>\n",
       "            </tr>\n",
       "            <tr>\n",
       "                        <th id=\"T_f2fa8_level0_row14\" class=\"row_heading level0 row14\" >14</th>\n",
       "                        <td id=\"T_f2fa8_row14_col0\" class=\"data row14 col0\" >nan</td>\n",
       "                        <td id=\"T_f2fa8_row14_col1\" class=\"data row14 col1\" >nan</td>\n",
       "                        <td id=\"T_f2fa8_row14_col2\" class=\"data row14 col2\" >11</td>\n",
       "                        <td id=\"T_f2fa8_row14_col3\" class=\"data row14 col3\" >-0.050000</td>\n",
       "            </tr>\n",
       "            <tr>\n",
       "                        <th id=\"T_f2fa8_level0_row15\" class=\"row_heading level0 row15\" >15</th>\n",
       "                        <td id=\"T_f2fa8_row15_col0\" class=\"data row15 col0\" >nan</td>\n",
       "                        <td id=\"T_f2fa8_row15_col1\" class=\"data row15 col1\" >nan</td>\n",
       "                        <td id=\"T_f2fa8_row15_col2\" class=\"data row15 col2\" >9</td>\n",
       "                        <td id=\"T_f2fa8_row15_col3\" class=\"data row15 col3\" >-0.031300</td>\n",
       "            </tr>\n",
       "            <tr>\n",
       "                        <th id=\"T_f2fa8_level0_row16\" class=\"row_heading level0 row16\" >16</th>\n",
       "                        <td id=\"T_f2fa8_row16_col0\" class=\"data row16 col0\" >nan</td>\n",
       "                        <td id=\"T_f2fa8_row16_col1\" class=\"data row16 col1\" >nan</td>\n",
       "                        <td id=\"T_f2fa8_row16_col2\" class=\"data row16 col2\" >28</td>\n",
       "                        <td id=\"T_f2fa8_row16_col3\" class=\"data row16 col3\" >-0.030400</td>\n",
       "            </tr>\n",
       "            <tr>\n",
       "                        <th id=\"T_f2fa8_level0_row17\" class=\"row_heading level0 row17\" >17</th>\n",
       "                        <td id=\"T_f2fa8_row17_col0\" class=\"data row17 col0\" >nan</td>\n",
       "                        <td id=\"T_f2fa8_row17_col1\" class=\"data row17 col1\" >nan</td>\n",
       "                        <td id=\"T_f2fa8_row17_col2\" class=\"data row17 col2\" >17</td>\n",
       "                        <td id=\"T_f2fa8_row17_col3\" class=\"data row17 col3\" >-0.025400</td>\n",
       "            </tr>\n",
       "            <tr>\n",
       "                        <th id=\"T_f2fa8_level0_row18\" class=\"row_heading level0 row18\" >18</th>\n",
       "                        <td id=\"T_f2fa8_row18_col0\" class=\"data row18 col0\" >nan</td>\n",
       "                        <td id=\"T_f2fa8_row18_col1\" class=\"data row18 col1\" >nan</td>\n",
       "                        <td id=\"T_f2fa8_row18_col2\" class=\"data row18 col2\" >16</td>\n",
       "                        <td id=\"T_f2fa8_row18_col3\" class=\"data row18 col3\" >-0.001900</td>\n",
       "            </tr>\n",
       "    </tbody></table>"
      ],
      "text/plain": [
       "<pandas.io.formats.style.Styler at 0x15bafb41640>"
      ]
     },
     "execution_count": 197,
     "metadata": {},
     "output_type": "execute_result"
    }
   ],
   "source": [
    "# What kinds of people are part of a cluster that is underrepresented in the\n",
    "# customer data compared to the general population?\n",
    "\n",
    "# Based on the barplot, the selected underrepresented segment could be cluster \"3\". \n",
    "\n",
    "#cluster \"3\"\n",
    "top_pca_feat = map_cluster_to_feats(kmeans_model, df_customer_pca.iloc[:, :-1], 3)\n",
    "top_pca_feat.style.bar(align='mid')\n"
   ]
  },
  {
   "cell_type": "markdown",
   "metadata": {},
   "source": [
    "### Discussion 3.3: Compare Customer Data to Demographics Data\n",
    "\n",
    "(Double-click this cell and replace this text with your own text, reporting findings and conclusions from the clustering analysis. Can we describe segments of the population that are relatively popular with the mail-order company, or relatively unpopular with the company?)\n",
    "\n",
    "- The Overrepresented customer segment is **cluster#14**, which has significant positive influence on the gender component and significant negtive influence on population density and financial condition component. In addition, it have a relatively small negative influence on the age component.\n",
    "\n",
    "- So the mail-order company's customers are more likely: younger males who are less dreamy, less socially and culturally conscious, not financially limited, and live in less densely populated places.\n",
    "\n",
    "\n",
    "- The selected underrepresented customer segment is **cluster#3**, which has a sigificant positive influence on population density and financial condition component and a sigificant negative influence on gender & age-generation component.\n",
    "\n",
    "- On ther other hand, younger women who are less dominant-minded, less critical-minded, less rational, have a less confrontational attitude, are less prone to investing, and reside in densely crowded areas with lower financial standing are among the population who are relatively unpopular with the mail-order corporation. "
   ]
  },
  {
   "cell_type": "markdown",
   "metadata": {},
   "source": [
    "> Congratulations on making it this far in the project! Before you finish, make sure to check through the entire notebook from top to bottom to make sure that your analysis follows a logical flow and all of your findings are documented in **Discussion** cells. Once you've checked over all of your work, you should export the notebook as an HTML document to submit for evaluation. You can do this from the menu, navigating to **File -> Download as -> HTML (.html)**. You will submit both that document and this notebook for your project submission."
   ]
  },
  {
   "cell_type": "code",
   "execution_count": null,
   "metadata": {},
   "outputs": [],
   "source": []
  }
 ],
 "metadata": {
  "kernelspec": {
   "display_name": "Python 3",
   "language": "python",
   "name": "python3"
  },
  "language_info": {
   "codemirror_mode": {
    "name": "ipython",
    "version": 3
   },
   "file_extension": ".py",
   "mimetype": "text/x-python",
   "name": "python",
   "nbconvert_exporter": "python",
   "pygments_lexer": "ipython3",
   "version": "3.8.8"
  }
 },
 "nbformat": 4,
 "nbformat_minor": 2
}
